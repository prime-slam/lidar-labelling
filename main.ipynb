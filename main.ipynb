{
 "cells": [
  {
   "cell_type": "code",
   "execution_count": 1,
   "metadata": {},
   "outputs": [],
   "source": [
    "from pcd_dataset.kitti_dataset import KittiDataset\n",
    "\n",
    "dataset_path = 'dataset_baby/'\n",
    "sequence = '00'\n",
    "image_instances_path = 'pipeline_baby/vfm-labels/sam/00/'\n",
    "kitti = KittiDataset(dataset_path, sequence, image_instances_path)"
   ]
  },
  {
   "cell_type": "code",
   "execution_count": 2,
   "metadata": {},
   "outputs": [],
   "source": [
    "start_index = 20\n",
    "end_index = 23\n",
    "cam_name = 'cam2'"
   ]
  },
  {
   "cell_type": "code",
   "execution_count": 3,
   "metadata": {},
   "outputs": [
    {
     "name": "stdout",
     "output_type": "stream",
     "text": [
      "map_size1=373853\n",
      "map_size2=93297\n",
      "map_size3=64289\n"
     ]
    }
   ],
   "source": [
    "from services.label_service import get_map_not_zero_in_cube\n",
    "\n",
    "R = 12\n",
    "map, points2instances = get_map_not_zero_in_cube(kitti, cam_name, start_index, end_index, R, False)"
   ]
  },
  {
   "cell_type": "code",
   "execution_count": 4,
   "metadata": {},
   "outputs": [],
   "source": [
    "from utils.pcd_utils import remove_statistical_outlier_points\n",
    "\n",
    "map, ind = remove_statistical_outlier_points(map, nb_neighbors=25, std_ratio=5.0)\n",
    "points2instances = points2instances[ind]"
   ]
  },
  {
   "cell_type": "code",
   "execution_count": 5,
   "metadata": {},
   "outputs": [
    {
     "data": {
      "text/plain": [
       "PointCloud with 64081 points."
      ]
     },
     "execution_count": 5,
     "metadata": {},
     "output_type": "execute_result"
    }
   ],
   "source": [
    "map"
   ]
  },
  {
   "cell_type": "code",
   "execution_count": 6,
   "metadata": {},
   "outputs": [],
   "source": [
    "from services.label_service import build_o3d_voxel_pcd\n",
    "\n",
    "voxel_size = 0.2\n",
    "voxel_pcd, voxel_points2instances, voxel_trace = build_o3d_voxel_pcd(map, points2instances, start_index, end_index, voxel_size)"
   ]
  },
  {
   "cell_type": "code",
   "execution_count": 7,
   "metadata": {},
   "outputs": [
    {
     "data": {
      "text/plain": [
       "PointCloud with 3687 points."
      ]
     },
     "execution_count": 7,
     "metadata": {},
     "output_type": "execute_result"
    }
   ],
   "source": [
    "voxel_pcd"
   ]
  },
  {
   "cell_type": "code",
   "execution_count": 8,
   "metadata": {},
   "outputs": [],
   "source": [
    "import numpy as np\n",
    "\n",
    "from scipy.spatial.distance import cdist\n",
    "from utils.distances_utils import sam_label_distance\n",
    "\n",
    "voxel_points = np.asarray(voxel_pcd.points)\n",
    "spatial_distance = cdist(voxel_points, voxel_points)\n",
    "\n",
    "dist_voxel_points, masks = sam_label_distance(voxel_points2instances, spatial_distance, 2, 10)"
   ]
  },
  {
   "cell_type": "code",
   "execution_count": 9,
   "metadata": {},
   "outputs": [],
   "source": [
    "from utils.distances_utils import remove_isolated_points\n",
    "\n",
    "dist, points, trace = remove_isolated_points(dist_voxel_points, voxel_points, voxel_trace[2])"
   ]
  },
  {
   "cell_type": "code",
   "execution_count": 10,
   "metadata": {},
   "outputs": [
    {
     "data": {
      "text/plain": [
       "(3687, 3687)"
      ]
     },
     "execution_count": 10,
     "metadata": {},
     "output_type": "execute_result"
    }
   ],
   "source": [
    "dist.shape"
   ]
  },
  {
   "cell_type": "code",
   "execution_count": 11,
   "metadata": {},
   "outputs": [
    {
     "name": "stdout",
     "output_type": "stream",
     "text": [
      "mcut = -2.1315468323002587e-14\n",
      "mcut = 7.701363428977759e-05\n",
      "mcut = 0.8664092664092664\n",
      "mcut = 0.01920595235674086\n",
      "mcut = 6.560820462461949e-08\n",
      "mcut = 8.757233378992832e-07\n",
      "mcut = 0.00017533371392891404\n",
      "mcut = 0.00028359751344986494\n",
      "mcut = 0.12953612263371192\n",
      "mcut = inf\n",
      "mcut = 0.049260333971670775\n",
      "mcut = 0.17067858203653902\n",
      "mcut = 0.14891815802938801\n",
      "mcut = inf\n",
      "mcut = 0.0012576614864214211\n",
      "mcut = 0.06321146129918485\n",
      "mcut = 0.17067858203653902\n",
      "mcut = 0.00932013417168199\n",
      "mcut = 0.06856836420666537\n",
      "mcut = inf\n",
      "mcut = 0.406784991966381\n",
      "mcut = inf\n",
      "mcut = 0.0006453395825624601\n",
      "mcut = 0.0017113903168858536\n",
      "mcut = 0.03372243565230991\n",
      "mcut = 0.10285336380540931\n",
      "mcut = 0.11252443762994624\n",
      "mcut = 0.11405913047227347\n",
      "mcut = inf\n"
     ]
    },
    {
     "name": "stderr",
     "output_type": "stream",
     "text": [
      "/Library/Python/3.9/site-packages/scipy/sparse/linalg/_eigen/arpack/arpack.py:939: LinAlgWarning: Diagonal number 7 is exactly zero. Singular matrix.\n",
      "  self.M_lu = lu_factor(M)\n",
      "/Users/sofiavivdich/proj/lidar-labelling/services/normalized_cut_service.py:27: RuntimeWarning: invalid value encountered in scalar divide\n",
      "  return (cost / assoc_a) + (cost / assoc_b)\n",
      "/Library/Python/3.9/site-packages/scipy/sparse/linalg/_eigen/arpack/arpack.py:939: LinAlgWarning: Diagonal number 3 is exactly zero. Singular matrix.\n",
      "  self.M_lu = lu_factor(M)\n"
     ]
    },
    {
     "name": "stdout",
     "output_type": "stream",
     "text": [
      "mcut = 4.302948204243534e-06\n",
      "mcut = 0.06947551349083989\n",
      "mcut = 0.01089831534194505\n",
      "mcut = 0.23362826023092215\n",
      "mcut = inf\n",
      "mcut = inf\n"
     ]
    },
    {
     "name": "stderr",
     "output_type": "stream",
     "text": [
      "/Library/Python/3.9/site-packages/scipy/sparse/linalg/_eigen/arpack/arpack.py:939: LinAlgWarning: Diagonal number 4 is exactly zero. Singular matrix.\n",
      "  self.M_lu = lu_factor(M)\n"
     ]
    },
    {
     "name": "stdout",
     "output_type": "stream",
     "text": [
      "mcut = 1.9287855684768844e-05\n",
      "mcut = 0.0022115878748773044\n",
      "mcut = 0.9375\n",
      "mcut = 0.07547257780484563\n",
      "mcut = 0.13523914980164534\n",
      "mcut = 0.31857773171537374\n",
      "mcut = 0.4150849108864501\n",
      "mcut = 0.8605442176870748\n",
      "mcut = 0.9525366816831855\n",
      "mcut = 6.128399800612314e-06\n",
      "mcut = 8.699026164258041e-05\n",
      "mcut = 0.9416696260620645\n",
      "mcut = 0.5648296554198147\n",
      "mcut = 0.0029682598677789798\n",
      "mcut = 0.01956352179209382\n",
      "mcut = 0.10924851798913461\n",
      "mcut = 0.08116707179420518\n",
      "mcut = 0.032312336184478874\n",
      "mcut = 0.5226359910419478\n",
      "mcut = 0.5775590327142373\n",
      "mcut = inf\n",
      "mcut = 0.04952924516761887\n",
      "mcut = 0.605081543751328\n",
      "mcut = 0.5714852029698003\n",
      "mcut = 0.47619047690089666\n",
      "mcut = 0.47619047619047616\n",
      "mcut = 2.0530895650682783e-07\n",
      "mcut = 0.09041373477932597\n",
      "mcut = 0.2396631826681917\n",
      "mcut = 0.8622431762419372\n",
      "mcut = 0.03716027335191957\n",
      "mcut = inf\n",
      "mcut = 0.8333333333333333\n",
      "mcut = 0.007328260886079338\n",
      "mcut = 0.491159781110055\n",
      "mcut = inf\n",
      "mcut = 0.9738861245872541\n",
      "mcut = 1.861624766572005e-05\n",
      "mcut = 1.3354171989684611e-05\n",
      "mcut = 0.0001391626658206319\n",
      "mcut = 0.2731115195582482\n",
      "mcut = inf\n",
      "mcut = -7.598309759793055e-13\n",
      "mcut = 0.00033830746484538304\n"
     ]
    },
    {
     "name": "stderr",
     "output_type": "stream",
     "text": [
      "/Library/Python/3.9/site-packages/scipy/sparse/linalg/_eigen/arpack/arpack.py:939: LinAlgWarning: Diagonal number 657 is exactly zero. Singular matrix.\n",
      "  self.M_lu = lu_factor(M)\n"
     ]
    },
    {
     "name": "stdout",
     "output_type": "stream",
     "text": [
      "mcut = 0.0008022009598227915\n",
      "mcut = 0.98801148943971\n",
      "mcut = 0.005564109862549816\n",
      "mcut = 0.0586277176993236\n",
      "mcut = 2.6625434488497173e-05\n",
      "mcut = 0.15231727160626296\n",
      "mcut = inf\n",
      "mcut = 0.8999999999999999\n",
      "mcut = 2.4126267568177246e-05\n",
      "mcut = 0.5648999285755694\n",
      "mcut = inf\n",
      "mcut = 2.0086686899886133e-05\n",
      "mcut = 3.570397184936402e-05\n",
      "mcut = 0.00028464799643497854\n",
      "mcut = 0.0011545658162177988\n",
      "mcut = 0.14195445434626514\n",
      "mcut = inf\n",
      "mcut = 0.014572663443728684\n",
      "mcut = 0.024806818497319336\n",
      "mcut = 0.0545515835566097\n",
      "mcut = 0.25220670851455207\n",
      "mcut = inf\n",
      "mcut = 0.07072445588666149\n",
      "mcut = 0.17067858203653902\n",
      "mcut = 0.00048673686140750174\n",
      "mcut = 0.8585760858968527\n",
      "mcut = 0.8333333333333333\n",
      "mcut = 0.020237823177832327\n",
      "mcut = inf\n",
      "mcut = 0.9230769230769231\n",
      "mcut = 1.472175492253304e-05\n",
      "mcut = 0.10879508114467946\n",
      "mcut = 0.11252443762994624\n",
      "mcut = 0.005175978220101746\n",
      "mcut = 0.030475148489845134\n",
      "mcut = 0.8333333333333333\n",
      "mcut = 0.8571428571428571\n",
      "mcut = 0.00019986546778352264\n",
      "mcut = inf\n",
      "mcut = 0.000247032156561585\n",
      "mcut = 0.007485026808965262\n",
      "mcut = 0.03341167955554902\n",
      "mcut = 0.41137074676227936\n",
      "mcut = 6.219763029476198e-09\n",
      "mcut = inf\n",
      "mcut = 1.855598119206584e-07\n",
      "mcut = 8.259971481761345e-06\n",
      "mcut = 0.9743589743589743\n",
      "mcut = 0.00020468348982143048\n",
      "mcut = 0.5893476618205253\n",
      "mcut = 0.95\n",
      "mcut = 0.6648118406722877\n",
      "mcut = 0.7395711451012068\n",
      "mcut = inf\n",
      "mcut = inf\n",
      "mcut = 0.014294538580826516\n",
      "mcut = 0.9790191238893807\n",
      "mcut = 0.3034196555656183\n",
      "mcut = inf\n",
      "mcut = 0.7962529276307652\n",
      "mcut = 6.226382871666725e-07\n",
      "mcut = 0.9473684210526315\n",
      "mcut = 0.160087942849201\n",
      "mcut = 0.9861806253555943\n",
      "mcut = 0.976060272111712\n",
      "mcut = 0.010176562610225618\n",
      "mcut = 0.9700351630087629\n",
      "mcut = 0.2245483214079191\n",
      "mcut = 0.9783906473124709\n",
      "mcut = 0.8855782305620488\n",
      "mcut = 0.907944035119997\n",
      "mcut = 0.8888888888888888\n",
      "mcut = 3.8959983564597266e-08\n",
      "mcut = 0.9871794871794871\n",
      "mcut = 0.9565217391304347\n"
     ]
    }
   ],
   "source": [
    "from services.normalized_cut_service import normalized_cut\n",
    "\n",
    "T = 0.75\n",
    "eigenval = 2\n",
    "clusters = normalized_cut(dist, np.array([i for i in range(len(points))], dtype=int), T, eigenval)"
   ]
  },
  {
   "cell_type": "code",
   "execution_count": 12,
   "metadata": {},
   "outputs": [
    {
     "data": {
      "text/plain": [
       "105"
      ]
     },
     "execution_count": 12,
     "metadata": {},
     "output_type": "execute_result"
    }
   ],
   "source": [
    "len(clusters)"
   ]
  },
  {
   "cell_type": "code",
   "execution_count": 13,
   "metadata": {},
   "outputs": [],
   "source": [
    "from utils.pcd_utils import color_pcd_by_clusters_and_voxels\n",
    "\n",
    "pcd_clustered = color_pcd_by_clusters_and_voxels(map, trace, clusters)"
   ]
  },
  {
   "cell_type": "code",
   "execution_count": 14,
   "metadata": {},
   "outputs": [
    {
     "name": "stdout",
     "output_type": "stream",
     "text": [
      "\u001b[1;33m[Open3D WARNING] GLFW Error: Cocoa: Failed to find service port for display\u001b[0;m\n",
      "\u001b[1;33m[Open3D WARNING] GLFW Error: Cocoa: Failed to find service port for display\u001b[0;m\n"
     ]
    }
   ],
   "source": [
    "import open3d as o3d\n",
    "\n",
    "o3d.visualization.draw_geometries([pcd_clustered])"
   ]
  },
  {
   "cell_type": "code",
   "execution_count": 15,
   "metadata": {},
   "outputs": [
    {
     "data": {
      "text/plain": [
       "True"
      ]
     },
     "execution_count": 15,
     "metadata": {},
     "output_type": "execute_result"
    }
   ],
   "source": [
    "executed_id = 1\n",
    "name = \"labeled_cloud/clouds_{}_{}_R{}_voxel{}_T{}_eigenval{}_execute_id{}\".format(start_index, end_index, R, voxel_size, T, eigenval, executed_id)\n",
    "filename = name.replace(\".\", \"l\") + \".pcd\"\n",
    "\n",
    "o3d.io.write_point_cloud(filename, pcd_clustered)"
   ]
  },
  {
   "cell_type": "code",
   "execution_count": null,
   "metadata": {},
   "outputs": [],
   "source": []
  }
 ],
 "metadata": {
  "kernelspec": {
   "display_name": "Python 3",
   "language": "python",
   "name": "python3"
  },
  "language_info": {
   "codemirror_mode": {
    "name": "ipython",
    "version": 3
   },
   "file_extension": ".py",
   "mimetype": "text/x-python",
   "name": "python",
   "nbconvert_exporter": "python",
   "pygments_lexer": "ipython3",
   "version": "3.9.6"
  },
  "orig_nbformat": 4
 },
 "nbformat": 4,
 "nbformat_minor": 2
}
