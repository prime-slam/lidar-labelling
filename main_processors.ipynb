{
 "cells": [
  {
   "cell_type": "code",
   "execution_count": 1,
   "metadata": {},
   "outputs": [],
   "source": [
    "from pcd_dataset.kitti_dataset import KittiDataset\n",
    "\n",
    "dataset_path = 'dataset_baby/'\n",
    "sequence = '00'\n",
    "image_instances_path = 'pipeline_baby/vfm-labels/sam/00/'\n",
    "kitti = KittiDataset(dataset_path, sequence, image_instances_path)"
   ]
  },
  {
   "cell_type": "code",
   "execution_count": 2,
   "metadata": {},
   "outputs": [],
   "source": [
    "from services.preprocessing.common.config import ConfigDTO\n",
    "\n",
    "config = ConfigDTO(**{\n",
    "    'dataset': kitti,\n",
    "    'start_index': 20,\n",
    "    'end_index': 23,\n",
    "    'start_image_index_offset': 3,\n",
    "    'cam_name': 'cam2',\n",
    "    'R': 15,\n",
    "    'nb_neighbors': 25,\n",
    "    'std_ratio': 5.0,\n",
    "    'voxel_size': 0.3\n",
    "})"
   ]
  },
  {
   "cell_type": "code",
   "execution_count": 3,
   "metadata": {},
   "outputs": [],
   "source": [
    "from services.preprocessing.init.map import InitMapProcessor\n",
    "from services.preprocessing.init.instances_matrix import InitInstancesMatrixProcessor\n",
    "\n",
    "init_pcd = InitMapProcessor().process(config)\n",
    "points2instances = InitInstancesMatrixProcessor().process(config, init_pcd)"
   ]
  },
  {
   "cell_type": "code",
   "execution_count": 4,
   "metadata": {},
   "outputs": [],
   "source": [
    "from services.preprocessing.not_zero import SelectionNotZeroProcessor\n",
    "from services.preprocessing.in_cube import SelectionInCubeProcessor\n",
    "from services.preprocessing.statistical_outlier import StatisticalOutlierProcessor\n",
    "\n",
    "processors = [\n",
    "    SelectionNotZeroProcessor(),\n",
    "    SelectionInCubeProcessor(),\n",
    "    StatisticalOutlierProcessor()\n",
    "]"
   ]
  },
  {
   "cell_type": "code",
   "execution_count": 5,
   "metadata": {},
   "outputs": [],
   "source": [
    "import copy\n",
    "\n",
    "pcd = copy.deepcopy(init_pcd)\n",
    "for processor in processors:\n",
    "    pcd, points2instances = processor.process(config, pcd, points2instances)\n",
    "\n",
    "pcd_for_clustering = copy.deepcopy(pcd)"
   ]
  },
  {
   "cell_type": "code",
   "execution_count": 6,
   "metadata": {},
   "outputs": [],
   "source": [
    "from services.preprocessing.voxel_down import VoxelDownProcessor\n",
    "\n",
    "pcd, points2instances, voxel_results = VoxelDownProcessor().process(config, pcd, points2instances)\n",
    "trace = voxel_results[2]"
   ]
  },
  {
   "cell_type": "code",
   "execution_count": 7,
   "metadata": {},
   "outputs": [],
   "source": [
    "import numpy as np\n",
    "\n",
    "from scipy.spatial.distance import cdist\n",
    "from utils.distances_utils import sam_label_distance\n",
    "\n",
    "points = np.asarray(pcd.points)\n",
    "spatial_distance = cdist(points, points)\n",
    "\n",
    "dist, masks = sam_label_distance(points2instances, spatial_distance, 2, 10)"
   ]
  },
  {
   "cell_type": "code",
   "execution_count": 8,
   "metadata": {},
   "outputs": [],
   "source": [
    "from utils.distances_utils import remove_isolated_points\n",
    "\n",
    "dist, points, trace = remove_isolated_points(dist, points, trace)"
   ]
  },
  {
   "cell_type": "code",
   "execution_count": 9,
   "metadata": {},
   "outputs": [
    {
     "data": {
      "text/plain": [
       "(2294, 2294)"
      ]
     },
     "execution_count": 9,
     "metadata": {},
     "output_type": "execute_result"
    }
   ],
   "source": [
    "dist.shape"
   ]
  },
  {
   "cell_type": "code",
   "execution_count": 10,
   "metadata": {},
   "outputs": [
    {
     "name": "stdout",
     "output_type": "stream",
     "text": [
      "mcut = 0.07493336030744618\n",
      "mcut = 2.505891488481912e-07\n",
      "mcut = 0.9375\n",
      "mcut = 3.1759498681164605e-05\n",
      "mcut = 0.011324370647003324\n",
      "mcut = 0.017651533877362315\n",
      "mcut = 0.10908327126008319\n",
      "mcut = 6.864119815108579e-10\n",
      "mcut = 8.098172204952483e-07\n",
      "mcut = 0.1720543191105628\n",
      "mcut = 0.9696840288009956\n",
      "mcut = 0.2853685026907551\n",
      "mcut = 0.0010549518154947823\n",
      "mcut = 0.022031056379760407\n",
      "mcut = 0.05196230279514451\n",
      "mcut = 0.6705513323317656\n",
      "mcut = 1.6529056778151462e-07\n",
      "mcut = 0.1698842153857757\n",
      "mcut = 0.842809364548495\n",
      "mcut = 0.5909090909090909\n",
      "mcut = inf\n",
      "mcut = 0.7072474386415846\n",
      "mcut = 0.12740358841927588\n",
      "mcut = 0.2283826777907227\n",
      "mcut = 0.9171150781737143\n",
      "mcut = 0.9524266491534603\n",
      "mcut = 0.14427115409276933\n",
      "mcut = 0.9232535732994087\n",
      "mcut = 0.8257923347806763\n"
     ]
    },
    {
     "name": "stderr",
     "output_type": "stream",
     "text": [
      "/Library/Python/3.9/site-packages/scipy/sparse/linalg/_eigen/arpack/arpack.py:939: LinAlgWarning: Diagonal number 4 is exactly zero. Singular matrix.\n",
      "  self.M_lu = lu_factor(M)\n",
      "/Users/sofiavivdich/proj/lidar-labelling/services/normalized_cut_service.py:27: RuntimeWarning: invalid value encountered in scalar divide\n",
      "  return (cost / assoc_a) + (cost / assoc_b)\n",
      "/Library/Python/3.9/site-packages/scipy/sparse/linalg/_eigen/arpack/arpack.py:939: LinAlgWarning: Diagonal number 11 is exactly zero. Singular matrix.\n",
      "  self.M_lu = lu_factor(M)\n",
      "/Library/Python/3.9/site-packages/scipy/sparse/linalg/_eigen/arpack/arpack.py:939: LinAlgWarning: Diagonal number 8 is exactly zero. Singular matrix.\n",
      "  self.M_lu = lu_factor(M)\n",
      "/Library/Python/3.9/site-packages/scipy/sparse/linalg/_eigen/arpack/arpack.py:939: LinAlgWarning: Diagonal number 3 is exactly zero. Singular matrix.\n",
      "  self.M_lu = lu_factor(M)\n"
     ]
    },
    {
     "name": "stdout",
     "output_type": "stream",
     "text": [
      "mcut = 0.4524553293426566\n",
      "mcut = 0.8531266906542778\n",
      "mcut = 0.9649873001786087\n",
      "mcut = 0.6234653714732188\n",
      "mcut = 0.1417824976351775\n",
      "mcut = 0.9417114706476364\n",
      "mcut = 0.9577528107020559\n",
      "mcut = inf\n",
      "mcut = 0.9717783039850953\n",
      "mcut = 0.43450935239530714\n",
      "mcut = 6.913700000114298e-05\n",
      "mcut = 0.005313751138730721\n",
      "mcut = inf\n",
      "mcut = 9.860873286828943e-09\n",
      "mcut = 1.4510205010154765e-07\n",
      "mcut = 0.9473684210526315\n",
      "mcut = 8.044061353264054e-07\n",
      "mcut = 0.9090909090909091\n",
      "mcut = 3.891303828172882e-06\n",
      "mcut = 1.0525851315517228e-05\n",
      "mcut = 0.9638023793835037\n",
      "mcut = 0.006813803681831905\n",
      "mcut = 0.021157665205122075\n",
      "mcut = 0.7649975538930288\n",
      "mcut = 0.8999999999999999\n",
      "mcut = inf\n",
      "mcut = 0.08862924466671161\n",
      "mcut = 0.05504898410729998\n",
      "mcut = 0.8703923205298658\n",
      "mcut = 0.07110769022347543\n",
      "mcut = 0.5149258804684531\n",
      "mcut = 0.34920753337983124\n",
      "mcut = 0.8822134387351779\n",
      "mcut = 0.5453377740323405\n",
      "mcut = 0.5828027462589546\n",
      "mcut = 0.5909090909090909\n",
      "mcut = inf\n",
      "mcut = inf\n",
      "mcut = 0.18277469871607704\n",
      "mcut = 0.9009510597341176\n",
      "mcut = 0.9333333333333333\n",
      "mcut = 0.7504862138816659\n",
      "mcut = 0.9230769230769231\n",
      "mcut = 0.008454658985078843\n",
      "mcut = 0.9415851571020097\n",
      "mcut = 0.012236713232303572\n",
      "mcut = 0.061722532932860785\n",
      "mcut = 0.5235459938434607\n",
      "mcut = 0.15073115860517433\n",
      "mcut = 0.8235294117647058\n",
      "mcut = 0.6333333682288558\n",
      "mcut = 0.4242425175018935\n",
      "mcut = 0.47619047619047616\n",
      "mcut = inf\n",
      "mcut = 0.5625\n",
      "mcut = 0.8333333333333333\n",
      "mcut = 0.23477455870339886\n",
      "mcut = 0.8999999999999999\n",
      "mcut = inf\n",
      "mcut = 0.8571428571428571\n",
      "mcut = 0.0015198406721054695\n",
      "mcut = 0.008125460558058671\n",
      "mcut = 0.030562556824086498\n",
      "mcut = 0.04446977579088511\n",
      "mcut = 0.35464377207237946\n",
      "mcut = 0.8496491399920668\n",
      "mcut = 0.9087149799196182\n",
      "mcut = 0.3679301722651677\n",
      "mcut = 0.9569799483977749\n",
      "mcut = inf\n",
      "mcut = 0.9694480102695764\n",
      "mcut = 0.9700774166357884\n",
      "mcut = 0.0016049754853358208\n",
      "mcut = 0.8881868131868131\n",
      "mcut = 0.9514201743395623\n",
      "mcut = 0.95\n",
      "mcut = 0.0075665006656819534\n",
      "mcut = 6.254802295402199e-07\n",
      "mcut = 0.9694724372144377\n",
      "mcut = inf\n",
      "mcut = inf\n"
     ]
    },
    {
     "name": "stderr",
     "output_type": "stream",
     "text": [
      "/Library/Python/3.9/site-packages/scipy/sparse/linalg/_eigen/arpack/arpack.py:939: LinAlgWarning: Diagonal number 18 is exactly zero. Singular matrix.\n",
      "  self.M_lu = lu_factor(M)\n",
      "/Library/Python/3.9/site-packages/scipy/sparse/linalg/_eigen/arpack/arpack.py:939: LinAlgWarning: Diagonal number 279 is exactly zero. Singular matrix.\n",
      "  self.M_lu = lu_factor(M)\n"
     ]
    }
   ],
   "source": [
    "from services.normalized_cut_service import normalized_cut\n",
    "\n",
    "T = 0.8\n",
    "eigenval = 2\n",
    "clusters = normalized_cut(dist, np.array([i for i in range(len(points))], dtype=int), T, eigenval)"
   ]
  },
  {
   "cell_type": "code",
   "execution_count": 11,
   "metadata": {},
   "outputs": [
    {
     "data": {
      "text/plain": [
       "65"
      ]
     },
     "execution_count": 11,
     "metadata": {},
     "output_type": "execute_result"
    }
   ],
   "source": [
    "len(clusters)"
   ]
  },
  {
   "cell_type": "code",
   "execution_count": 12,
   "metadata": {},
   "outputs": [],
   "source": [
    "from utils.pcd_utils import color_pcd_by_clusters_and_voxels\n",
    "\n",
    "pcd_clustered = color_pcd_by_clusters_and_voxels(pcd_for_clustering, trace, clusters)"
   ]
  },
  {
   "cell_type": "code",
   "execution_count": 13,
   "metadata": {},
   "outputs": [
    {
     "name": "stdout",
     "output_type": "stream",
     "text": [
      "\u001b[1;33m[Open3D WARNING] GLFW Error: Cocoa: Failed to find service port for display\u001b[0;m\n",
      "\u001b[1;33m[Open3D WARNING] GLFW Error: Cocoa: Failed to find service port for display\u001b[0;m\n"
     ]
    }
   ],
   "source": [
    "import open3d as o3d\n",
    "\n",
    "o3d.visualization.draw_geometries([pcd_clustered])"
   ]
  },
  {
   "cell_type": "code",
   "execution_count": 15,
   "metadata": {},
   "outputs": [
    {
     "data": {
      "text/plain": [
       "True"
      ]
     },
     "execution_count": 15,
     "metadata": {},
     "output_type": "execute_result"
    }
   ],
   "source": [
    "executed_id = 1\n",
    "name = \"labeled_cloud/clouds_{}_{}_R{}_voxel{}_T{}_eigenval{}_execute_id{}\".format(start_index, end_index, R, voxel_size, T, eigenval, executed_id)\n",
    "filename = name.replace(\".\", \"l\") + \".pcd\"\n",
    "\n",
    "o3d.io.write_point_cloud(filename, pcd_clustered)"
   ]
  },
  {
   "cell_type": "code",
   "execution_count": null,
   "metadata": {},
   "outputs": [],
   "source": []
  }
 ],
 "metadata": {
  "kernelspec": {
   "display_name": "Python 3",
   "language": "python",
   "name": "python3"
  },
  "language_info": {
   "codemirror_mode": {
    "name": "ipython",
    "version": 3
   },
   "file_extension": ".py",
   "mimetype": "text/x-python",
   "name": "python",
   "nbconvert_exporter": "python",
   "pygments_lexer": "ipython3",
   "version": "3.9.6"
  },
  "orig_nbformat": 4
 },
 "nbformat": 4,
 "nbformat_minor": 2
}
