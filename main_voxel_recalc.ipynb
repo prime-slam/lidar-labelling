{
 "cells": [
  {
   "cell_type": "code",
   "execution_count": 1,
   "metadata": {},
   "outputs": [],
   "source": [
    "from pcd_dataset.kitti_dataset import KittiDataset\n",
    "\n",
    "dataset_path = 'dataset_baby/'\n",
    "sequence = '00'\n",
    "image_instances_path = 'pipeline_baby/vfm-labels/sam/00/'\n",
    "kitti = KittiDataset(dataset_path, sequence, image_instances_path)"
   ]
  },
  {
   "cell_type": "code",
   "execution_count": 2,
   "metadata": {},
   "outputs": [],
   "source": [
    "start_index = 0\n",
    "end_index = 3\n",
    "cam_name = 'cam2'"
   ]
  },
  {
   "cell_type": "code",
   "execution_count": 3,
   "metadata": {},
   "outputs": [
    {
     "name": "stdout",
     "output_type": "stream",
     "text": [
      "\u001b[1;33m[Open3D WARNING] GLFW Error: Cocoa: Failed to find service port for display\u001b[0;m\n",
      "\u001b[1;33m[Open3D WARNING] GLFW Error: Cocoa: Failed to find service port for display\u001b[0;m\n"
     ]
    }
   ],
   "source": [
    "from services.label_service import get_map_not_zero_in_sphere\n",
    "\n",
    "map, points2instances = get_map_not_zero_in_sphere(kitti, cam_name, start_index, end_index, 10, True)"
   ]
  },
  {
   "cell_type": "code",
   "execution_count": 4,
   "metadata": {},
   "outputs": [],
   "source": [
    "from services.label_service import build_custom_voxel_pcd\n",
    "\n",
    "voxel_pcd, voxel_points2instances, voxel_trace = build_custom_voxel_pcd(map, points2instances)\n",
    "\n",
    "# import open3d as o3d\n",
    "# from utils.pcd_utils import color_pcd_by_labels\n",
    "\n",
    "# voxel_pcd_colored = color_pcd_by_labels(voxel_pcd, voxel_points2instances[:, 1])\n",
    "# o3d.visualization.draw_geometries([voxel_pcd_colored])"
   ]
  },
  {
   "cell_type": "code",
   "execution_count": 7,
   "metadata": {},
   "outputs": [
    {
     "ename": "ValueError",
     "evalue": "operands could not be broadcast together with shapes (2,) (3,) ",
     "output_type": "error",
     "traceback": [
      "\u001b[0;31m---------------------------------------------------------------------------\u001b[0m",
      "\u001b[0;31mValueError\u001b[0m                                Traceback (most recent call last)",
      "\u001b[1;32m/Users/sofiavivdich/proj/lidar-labelling/main_voxel_recalc.ipynb Ячейка 5\u001b[0m line \u001b[0;36m7\n\u001b[1;32m      <a href='vscode-notebook-cell:/Users/sofiavivdich/proj/lidar-labelling/main_voxel_recalc.ipynb#Y215sZmlsZQ%3D%3D?line=4'>5</a>\u001b[0m \u001b[39mfor\u001b[39;00m i \u001b[39min\u001b[39;00m \u001b[39mrange\u001b[39m(\u001b[39mlen\u001b[39m(list_int_vectors123)):\n\u001b[1;32m      <a href='vscode-notebook-cell:/Users/sofiavivdich/proj/lidar-labelling/main_voxel_recalc.ipynb#Y215sZmlsZQ%3D%3D?line=5'>6</a>\u001b[0m     int_vector_array \u001b[39m=\u001b[39m np\u001b[39m.\u001b[39masarray(list_int_vectors123[i])\n\u001b[0;32m----> <a href='vscode-notebook-cell:/Users/sofiavivdich/proj/lidar-labelling/main_voxel_recalc.ipynb#Y215sZmlsZQ%3D%3D?line=6'>7</a>\u001b[0m     \u001b[39mif\u001b[39;00m (int_vector_array \u001b[39m==\u001b[39;49m [\u001b[39m2\u001b[39;49m, \u001b[39m0\u001b[39;49m, \u001b[39m0\u001b[39;49m])\u001b[39m.\u001b[39mall():\n\u001b[1;32m      <a href='vscode-notebook-cell:/Users/sofiavivdich/proj/lidar-labelling/main_voxel_recalc.ipynb#Y215sZmlsZQ%3D%3D?line=7'>8</a>\u001b[0m         counter2 \u001b[39m+\u001b[39m\u001b[39m=\u001b[39m \u001b[39m1\u001b[39m\n\u001b[1;32m      <a href='vscode-notebook-cell:/Users/sofiavivdich/proj/lidar-labelling/main_voxel_recalc.ipynb#Y215sZmlsZQ%3D%3D?line=8'>9</a>\u001b[0m     \u001b[39mfor\u001b[39;00m j \u001b[39min\u001b[39;00m \u001b[39mrange\u001b[39m(\u001b[39mlen\u001b[39m(int_vector_array)):\n",
      "\u001b[0;31mValueError\u001b[0m: operands could not be broadcast together with shapes (2,) (3,) "
     ]
    }
   ],
   "source": [
    "# counter1 = 0\n",
    "# counter2 = 0\n",
    "# import numpy as np\n",
    "# list_int_vectors123 = voxel_trace[2]\n",
    "# for i in range(len(list_int_vectors123)):\n",
    "#     int_vector_array = np.asarray(list_int_vectors123[i])\n",
    "#     if (int_vector_array == [2, 0, 0]).all():\n",
    "#         counter2 += 1\n",
    "#     for j in range(len(int_vector_array)):\n",
    "#         if int_vector_array[j] == 2:\n",
    "#             counter1 += 1\n",
    "\n",
    "# print(counter1)\n",
    "# print(counter2)"
   ]
  },
  {
   "cell_type": "code",
   "execution_count": 13,
   "metadata": {},
   "outputs": [
    {
     "data": {
      "text/plain": [
       "IntVector[1623, 1624, 4684, 4685, 9129, 9130]"
      ]
     },
     "execution_count": 13,
     "metadata": {},
     "output_type": "execute_result"
    }
   ],
   "source": [
    "voxel_trace[2][5220]"
   ]
  },
  {
   "cell_type": "code",
   "execution_count": 14,
   "metadata": {},
   "outputs": [
    {
     "name": "stdout",
     "output_type": "stream",
     "text": [
      "IntVector[1623, 1624, 4684, 4685, 9129, 9130]\n",
      "[2 0 0]\n",
      "[2 0 0]\n",
      "[2 0 0]\n",
      "[2 0 0]\n",
      "[2 0 0]\n",
      "[2 0 0]\n",
      "[23.0776773   0.04443617 -1.46711334]\n",
      "[23.07989703  0.06659685 -1.46724863]\n",
      "[23.08430135  0.05226152 -1.46585838]\n",
      "[23.08764286  0.07148429 -1.46696513]\n",
      "[23.10217278  0.04884453 -1.47280196]\n",
      "[23.08656071  0.06693017 -1.46699748]\n",
      "voxel=[23.08637534  0.05842559 -1.46783082]\n"
     ]
    }
   ],
   "source": [
    "# с этим примером все супер, тут реально вычисляются середины\n",
    "print(voxel_trace[2][5220])\n",
    "print(points2instances[1623])\n",
    "print(points2instances[1624])\n",
    "print(points2instances[4684])\n",
    "print(points2instances[4685])\n",
    "print(points2instances[9129])\n",
    "print(points2instances[9130])\n",
    "\n",
    "print(map.points[1623])\n",
    "print(map.points[1624])\n",
    "print(map.points[4684])\n",
    "print(map.points[4685])\n",
    "print(map.points[9129])\n",
    "print(map.points[9130])\n",
    "\n",
    "print(\"voxel={}\".format(voxel_trace[0].points[5220]))"
   ]
  },
  {
   "cell_type": "code",
   "execution_count": 28,
   "metadata": {},
   "outputs": [
    {
     "name": "stdout",
     "output_type": "stream",
     "text": [
      "IntVector[1621, 1622, 4680, 4681, 9126, 9127]\n",
      "[2 0 0]\n",
      "[2 0 0]\n",
      "[2 0 0]\n",
      "[2 0 0]\n",
      "[2 0 0]\n",
      "[2 0 0]\n",
      "[ 2.30912227e+01 -1.18445522e-02 -1.47164951e+00]\n",
      "[ 2.30934443e+01  1.03161256e-02 -1.47178480e+00]\n",
      "[ 2.30871740e+01 -1.56681853e-02 -1.46840845e+00]\n",
      "[ 2.30923672e+01 -6.34413795e-03 -1.46944261e+00]\n",
      "[ 2.31003847e+01 -9.35678853e-03 -1.47441343e+00]\n",
      "[ 2.31016592e+01 -1.26641592e-03 -1.47446266e+00]\n",
      "valeu=-0.005693992381612241\n",
      "voxel=[ 2.30943753e+01 -5.69399238e-03 -1.47169358e+00]\n"
     ]
    }
   ],
   "source": [
    "# все супер, просто усреднили все координаты\n",
    "print(voxel_trace[2][1367])\n",
    "print(points2instances[1621])\n",
    "print(points2instances[1622])\n",
    "print(points2instances[4680])\n",
    "print(points2instances[4681])\n",
    "print(points2instances[9126])\n",
    "print(points2instances[9127])\n",
    "\n",
    "print(map.points[1621])\n",
    "print(map.points[1622])\n",
    "print(map.points[4680])\n",
    "print(map.points[4681])\n",
    "print(map.points[9126])\n",
    "print(map.points[9127])\n",
    "\n",
    "value = map.points[1621][1] + map.points[1622][1] + map.points[4680][1] + map.points[4681][1] + map.points[9126][1] + map.points[9127][1]\n",
    "print(\"valeu={}\".format(value/6))\n",
    "\n",
    "print(\"voxel={}\".format(voxel_trace[0].points[1367]))"
   ]
  },
  {
   "cell_type": "code",
   "execution_count": 21,
   "metadata": {},
   "outputs": [
    {
     "name": "stdout",
     "output_type": "stream",
     "text": [
      "4\n",
      "9\n",
      "12\n",
      "13\n",
      "16\n",
      "17\n",
      "18\n",
      "19\n",
      "24\n",
      "28\n",
      "37\n",
      "39\n",
      "43\n",
      "48\n",
      "50\n",
      "51\n",
      "52\n",
      "53\n",
      "54\n",
      "55\n",
      "60\n",
      "61\n",
      "65\n",
      "68\n",
      "69\n",
      "75\n",
      "78\n",
      "82\n",
      "83\n",
      "94\n",
      "97\n",
      "126\n",
      "195\n",
      "197\n",
      "200\n",
      "204\n",
      "209\n",
      "215\n",
      "217\n",
      "228\n",
      "240\n",
      "241\n",
      "256\n",
      "258\n",
      "263\n",
      "266\n",
      "279\n",
      "281\n",
      "282\n",
      "288\n",
      "291\n",
      "298\n",
      "303\n",
      "312\n",
      "325\n",
      "336\n",
      "339\n",
      "340\n",
      "341\n",
      "351\n",
      "372\n",
      "386\n",
      "398\n",
      "401\n",
      "405\n",
      "421\n",
      "429\n",
      "430\n",
      "431\n",
      "439\n",
      "443\n",
      "444\n",
      "450\n",
      "463\n",
      "474\n",
      "475\n",
      "476\n",
      "497\n",
      "510\n",
      "527\n",
      "529\n",
      "545\n",
      "579\n",
      "585\n",
      "587\n",
      "598\n",
      "599\n",
      "604\n",
      "615\n",
      "627\n",
      "636\n",
      "637\n",
      "648\n",
      "661\n",
      "687\n",
      "699\n",
      "725\n",
      "732\n",
      "737\n",
      "747\n",
      "767\n",
      "784\n",
      "787\n",
      "795\n",
      "814\n",
      "828\n",
      "866\n",
      "870\n",
      "874\n",
      "882\n",
      "905\n",
      "906\n",
      "914\n",
      "934\n",
      "937\n",
      "952\n",
      "968\n",
      "971\n",
      "982\n",
      "1002\n",
      "1006\n",
      "1016\n",
      "1025\n",
      "1065\n",
      "1081\n",
      "1092\n",
      "1101\n",
      "1115\n",
      "1121\n",
      "1132\n",
      "1146\n",
      "1147\n",
      "1157\n",
      "1159\n",
      "1174\n",
      "1189\n",
      "1195\n",
      "1201\n",
      "1213\n",
      "1214\n",
      "1225\n",
      "1226\n",
      "1237\n",
      "1266\n",
      "1273\n",
      "1296\n",
      "1298\n",
      "1314\n",
      "1318\n",
      "1338\n",
      "1356\n",
      "1359\n",
      "1368\n",
      "1374\n",
      "1376\n",
      "1377\n",
      "1383\n",
      "1396\n",
      "1399\n",
      "1413\n",
      "1436\n",
      "1443\n",
      "1446\n",
      "1461\n",
      "1465\n",
      "1469\n",
      "1473\n",
      "1493\n",
      "1502\n",
      "1515\n",
      "1516\n"
     ]
    }
   ],
   "source": [
    "from services.label_service import build_custom_voxel_pcd\n",
    "\n",
    "voxel_pcd1, voxel_points2instances1, voxel_trace1 = build_custom_voxel_pcd(map, points2instances, 0.1)"
   ]
  },
  {
   "cell_type": "code",
   "execution_count": 23,
   "metadata": {},
   "outputs": [
    {
     "name": "stdout",
     "output_type": "stream",
     "text": [
      "33\n"
     ]
    }
   ],
   "source": [
    "import numpy as np\n",
    "\n",
    "list_int_vectors123 = voxel_trace1[2]\n",
    "\n",
    "counter1 = 0\n",
    "counter2 = 0\n",
    "for i in range(len(list_int_vectors123)):\n",
    "    int_vector_array = np.asarray(list_int_vectors123[i])\n",
    "    if int_vector_array == [2, 0, 0]\n",
    "    for j in range(len(int_vector_array)):\n",
    "        if int_vector_array[j] == 2:\n",
    "            counter1 += 1\n",
    "\n",
    "print(counter1)"
   ]
  },
  {
   "cell_type": "code",
   "execution_count": 24,
   "metadata": {},
   "outputs": [
    {
     "name": "stdout",
     "output_type": "stream",
     "text": [
      "1427\n"
     ]
    }
   ],
   "source": [
    "import numpy as np\n",
    "\n",
    "list_int_vectors123 = voxel_trace1[2]\n",
    "\n",
    "maxx = 0\n",
    "for i in range(len(list_int_vectors123)):\n",
    "    int_vector_array = np.asarray(list_int_vectors123[i])\n",
    "    if len(int_vector_array) == 33:\n",
    "        print(i)"
   ]
  },
  {
   "cell_type": "code",
   "execution_count": 29,
   "metadata": {},
   "outputs": [
    {
     "data": {
      "text/plain": [
       "array([ 137,  138,  139,  143,  144, 2110, 2111, 2112, 2118, 2119, 2120,\n",
       "       2122, 2130, 2131, 2133, 2134, 2135, 5327, 5328, 5329, 5330, 5331,\n",
       "       5332, 5333, 5340, 5341, 5342, 5343, 5344, 5345, 5346, 5358, 5359],\n",
       "      dtype=int32)"
      ]
     },
     "execution_count": 29,
     "metadata": {},
     "output_type": "execute_result"
    }
   ],
   "source": [
    "arr"
   ]
  },
  {
   "cell_type": "code",
   "execution_count": 27,
   "metadata": {},
   "outputs": [
    {
     "name": "stdout",
     "output_type": "stream",
     "text": [
      "i=0, inst=[14 13 33]\n",
      "i=1, inst=[14 13 33]\n",
      "i=2, inst=[14 13 33]\n",
      "i=3, inst=[14 13 33]\n",
      "i=4, inst=[14 13 33]\n",
      "i=5, inst=[14 13 33]\n",
      "i=6, inst=[14 13 33]\n",
      "i=7, inst=[0 0 5]\n",
      "i=8, inst=[14 13 33]\n",
      "i=9, inst=[14 13 33]\n",
      "i=10, inst=[14 13 33]\n",
      "i=11, inst=[14 13 33]\n",
      "i=12, inst=[14 13 33]\n",
      "i=13, inst=[14 13 33]\n",
      "i=14, inst=[14 13 33]\n",
      "i=15, inst=[14  0 33]\n",
      "i=16, inst=[14 13 33]\n",
      "i=17, inst=[14 13 33]\n",
      "i=18, inst=[14 13 33]\n",
      "i=19, inst=[14 13 33]\n",
      "i=20, inst=[14 13 33]\n",
      "i=21, inst=[14 13 33]\n",
      "i=22, inst=[14 13 18]\n",
      "i=23, inst=[14 13 33]\n",
      "i=24, inst=[14 13 33]\n",
      "i=25, inst=[14 13 33]\n",
      "i=26, inst=[14 13 33]\n",
      "i=27, inst=[14 13 33]\n",
      "i=28, inst=[14 13 33]\n",
      "i=29, inst=[14 13 18]\n",
      "i=30, inst=[14 13 18]\n",
      "i=31, inst=[14 13 18]\n",
      "i=32, inst=[14 13 18]\n"
     ]
    }
   ],
   "source": [
    "# привести как пример что надо проверять инстансы\n",
    "arr = np.asarray(list_int_vectors123[1427])\n",
    "for i in range(len(arr)):\n",
    "    print(\"i={}, inst={}\".format(i, points2instances[i]))\n"
   ]
  },
  {
   "cell_type": "code",
   "execution_count": 22,
   "metadata": {},
   "outputs": [
    {
     "data": {
      "text/plain": [
       "1529"
      ]
     },
     "execution_count": 22,
     "metadata": {},
     "output_type": "execute_result"
    }
   ],
   "source": [
    "len(voxel_trace1[0].points)"
   ]
  },
  {
   "cell_type": "code",
   "execution_count": 5,
   "metadata": {},
   "outputs": [
    {
     "name": "stdout",
     "output_type": "stream",
     "text": [
      "len(voxel_pcd.points) = 13490\n",
      "len(voxel_points2instances) = 13490\n"
     ]
    }
   ],
   "source": [
    "import numpy as np\n",
    "\n",
    "from scipy.spatial.distance import cdist\n",
    "from utils.distances_utils import sam_label_distance\n",
    "\n",
    "points = np.asarray(voxel_pcd.points)\n",
    "spatial_distance = cdist(points, points)\n",
    "\n",
    "print(\"len(voxel_pcd.points) = {}\".format(len(voxel_pcd.points)))\n",
    "print(\"len(voxel_points2instances) = {}\".format(len(voxel_points2instances)))\n",
    "\n",
    "dist, masks = sam_label_distance(voxel_points2instances, spatial_distance, 2, 10)"
   ]
  },
  {
   "cell_type": "code",
   "execution_count": 6,
   "metadata": {},
   "outputs": [
    {
     "name": "stderr",
     "output_type": "stream",
     "text": [
      "/Library/Python/3.9/site-packages/scipy/sparse/linalg/_eigen/arpack/arpack.py:939: LinAlgWarning: Diagonal number 11058 is exactly zero. Singular matrix.\n",
      "  self.M_lu = lu_factor(M)\n",
      "/Users/sofiavivdich/proj/lidar-labelling/services/normalized_cut_service.py:27: RuntimeWarning: invalid value encountered in scalar divide\n",
      "  return (cost / assoc_a) + (cost / assoc_b)\n"
     ]
    }
   ],
   "source": [
    "from services.normalized_cut_service import normalized_cut\n",
    "\n",
    "T = 0.3\n",
    "clusters = normalized_cut(dist, np.asarray(points), T)"
   ]
  },
  {
   "cell_type": "code",
   "execution_count": 7,
   "metadata": {},
   "outputs": [
    {
     "data": {
      "text/plain": [
       "2"
      ]
     },
     "execution_count": 7,
     "metadata": {},
     "output_type": "execute_result"
    }
   ],
   "source": [
    "len(clusters)"
   ]
  },
  {
   "cell_type": "code",
   "execution_count": 10,
   "metadata": {},
   "outputs": [],
   "source": [
    "import numpy as np\n",
    "from scipy.spatial import KDTree\n",
    "\n",
    "cloud1 = np.asarray(map.points)\n",
    "cloud2 = np.asarray(voxel_pcd.points)\n",
    "\n",
    "# Build KD-trees for each point cloud\n",
    "tree1 = KDTree(cloud1)\n",
    "tree2 = KDTree(cloud2)\n",
    "\n",
    "# Find nearest neighbors for each point in cloud1\n",
    "dists, indices = tree2.query(cloud1, k=1)\n",
    "\n",
    "# Get the neighbor points from cloud2\n",
    "neighbors = cloud2[indices]"
   ]
  },
  {
   "cell_type": "code",
   "execution_count": 11,
   "metadata": {},
   "outputs": [],
   "source": [
    "from utils.pcd_utils import color_pcd_by_clusters_common\n",
    "\n",
    "import open3d as o3d\n",
    "\n",
    "pcd_clustered1, pcd_clustered2, counter1, counter2 = color_pcd_by_clusters_common(map, clusters, neighbors)\n",
    "\n",
    "print(\"counter1 = {}, counter2 = {}\".format(counter1, counter2))\n",
    "print(\"removed points = {}\".format(len(map.points) - len(voxel_pcd.points)))\n",
    "print(\"len(map.points) = {}\".format(len(map.points)))\n",
    "print(\"len(voxel_pcd.points) = {}\".format(len(voxel_pcd.points)))\n",
    "\n",
    "o3d.visualization.draw_geometries([pcd_clustered1])\n",
    "o3d.visualization.draw_geometries([pcd_clustered2])"
   ]
  },
  {
   "cell_type": "code",
   "execution_count": 31,
   "metadata": {},
   "outputs": [
    {
     "name": "stdout",
     "output_type": "stream",
     "text": [
      "\u001b[1;33m[Open3D WARNING] GLFW Error: Cocoa: Failed to find service port for display\u001b[0;m\n"
     ]
    }
   ],
   "source": [
    "import open3d as o3d\n",
    "\n",
    "pcd = o3d.io.read_point_cloud(\"clouds_20_25_im21.pcd\")\n",
    "o3d.visualization.draw_geometries([pcd])"
   ]
  },
  {
   "cell_type": "code",
   "execution_count": null,
   "metadata": {},
   "outputs": [],
   "source": []
  }
 ],
 "metadata": {
  "kernelspec": {
   "display_name": "Python 3",
   "language": "python",
   "name": "python3"
  },
  "language_info": {
   "codemirror_mode": {
    "name": "ipython",
    "version": 3
   },
   "file_extension": ".py",
   "mimetype": "text/x-python",
   "name": "python",
   "nbconvert_exporter": "python",
   "pygments_lexer": "ipython3",
   "version": "3.9.6"
  },
  "orig_nbformat": 4
 },
 "nbformat": 4,
 "nbformat_minor": 2
}
