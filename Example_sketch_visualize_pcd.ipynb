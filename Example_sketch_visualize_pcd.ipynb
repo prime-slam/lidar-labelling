{
 "cells": [
  {
   "cell_type": "code",
   "execution_count": null,
   "outputs": [],
   "source": [
    "from pathlib import Path\n",
    "\n",
    "from pcd_dataset.kitti_dataset import KittiDataset\n",
    "\n",
    "dataset_path = 'dataset/'\n",
    "sequence = '00'\n",
    "sam_labels_path = Path.cwd().joinpath('pipeline', 'vfm-labels', 'sam', sequence)\n",
    "\n",
    "kitti = KittiDataset(dataset_path, sequence, sam_labels_path)"
   ],
   "metadata": {
    "collapsed": false
   },
   "id": "e847962e99830a2f"
  },
  {
   "cell_type": "code",
   "execution_count": null,
   "outputs": [],
   "source": [
    "from mapping.simple_mapping import SimpleMapping\n",
    "\n",
    "sm = SimpleMapping(kitti)\n",
    "coo_matrix, pcds = sm.get_combined_labeled_point_clouds('cam2', 20, 23)"
   ],
   "metadata": {
    "collapsed": false
   },
   "id": "2c2963d027f62259"
  },
  {
   "cell_type": "code",
   "execution_count": null,
   "outputs": [],
   "source": [
    "from mapping.sparse_matrix_utils import construct_coo_matrix_for_multiple_views\n",
    "\n",
    "coo_result = construct_coo_matrix_for_multiple_views(coo_matrix, 20)"
   ],
   "metadata": {
    "collapsed": false
   },
   "id": "d95b980b64944498"
  },
  {
   "cell_type": "code",
   "execution_count": null,
   "outputs": [],
   "source": [
    "from mapping.sparse_matrix_utils import visualize_labeled_clouds\n",
    "\n",
    "pcd = visualize_labeled_clouds(coo_result, pcds, 20, 21)"
   ],
   "metadata": {
    "collapsed": false
   },
   "id": "3bd437c3568f4750"
  },
  {
   "cell_type": "code",
   "execution_count": null,
   "outputs": [],
   "source": [
    "import open3d as o3d\n",
    "\n",
    "o3d.visualization.draw_geometries([pcd])"
   ],
   "metadata": {
    "collapsed": false
   },
   "id": "40828973c148a9f3"
  }
 ],
 "metadata": {
  "kernelspec": {
   "display_name": "Python 3 (ipykernel)",
   "language": "python",
   "name": "python3"
  },
  "language_info": {
   "codemirror_mode": {
    "name": "ipython",
    "version": 3
   },
   "file_extension": ".py",
   "mimetype": "text/x-python",
   "name": "python",
   "nbconvert_exporter": "python",
   "pygments_lexer": "ipython3",
   "version": "3.9.6"
  }
 },
 "nbformat": 4,
 "nbformat_minor": 5
}
