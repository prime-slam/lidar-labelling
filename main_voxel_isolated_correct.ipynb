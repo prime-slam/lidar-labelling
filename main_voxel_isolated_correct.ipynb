{
 "cells": [
  {
   "cell_type": "code",
   "execution_count": 1,
   "metadata": {},
   "outputs": [],
   "source": [
    "from pcd_dataset.kitti_dataset import KittiDataset\n",
    "\n",
    "dataset_path = 'dataset_baby/'\n",
    "sequence = '00'\n",
    "image_instances_path = 'pipeline_baby/vfm-labels/sam/00/'\n",
    "kitti = KittiDataset(dataset_path, sequence, image_instances_path)"
   ]
  },
  {
   "cell_type": "code",
   "execution_count": 2,
   "metadata": {},
   "outputs": [],
   "source": [
    "start_index = 19\n",
    "end_index = 23\n",
    "cam_name = 'cam2'"
   ]
  },
  {
   "cell_type": "code",
   "execution_count": 3,
   "metadata": {},
   "outputs": [
    {
     "name": "stdout",
     "output_type": "stream",
     "text": [
      "map_size1=498154\n",
      "map_size2=137163\n",
      "map_size3=78471\n"
     ]
    }
   ],
   "source": [
    "from services.label_service import get_map_not_zero_in_sphere\n",
    "\n",
    "R = 11\n",
    "map, points2instances = get_map_not_zero_in_sphere(kitti, cam_name, start_index, end_index, R, False)"
   ]
  },
  {
   "cell_type": "code",
   "execution_count": 4,
   "metadata": {},
   "outputs": [],
   "source": [
    "from services.label_service import build_o3d_voxel_pcd\n",
    "\n",
    "voxel_size = 0.3\n",
    "voxel_pcd, voxel_points2instances, voxel_trace = build_o3d_voxel_pcd(map, points2instances, start_index, end_index, voxel_size)"
   ]
  },
  {
   "cell_type": "code",
   "execution_count": 5,
   "metadata": {},
   "outputs": [
    {
     "data": {
      "text/plain": [
       "PointCloud with 1243 points."
      ]
     },
     "execution_count": 5,
     "metadata": {},
     "output_type": "execute_result"
    }
   ],
   "source": [
    "voxel_pcd"
   ]
  },
  {
   "cell_type": "code",
   "execution_count": 6,
   "metadata": {},
   "outputs": [],
   "source": [
    "import numpy as np\n",
    "\n",
    "from scipy.spatial.distance import cdist\n",
    "from utils.distances_utils import sam_label_distance\n",
    "\n",
    "voxel_points = np.asarray(voxel_pcd.points)\n",
    "spatial_distance = cdist(voxel_points, voxel_points)\n",
    "\n",
    "dist_voxel_points, masks = sam_label_distance(voxel_points2instances, spatial_distance, 2, 10)"
   ]
  },
  {
   "cell_type": "code",
   "execution_count": 7,
   "metadata": {},
   "outputs": [],
   "source": [
    "from utils.distances_utils import remove_isolated_points\n",
    "\n",
    "dist, points, trace = remove_isolated_points(dist_voxel_points, voxel_points, voxel_trace[2])"
   ]
  },
  {
   "cell_type": "code",
   "execution_count": 8,
   "metadata": {},
   "outputs": [
    {
     "name": "stdout",
     "output_type": "stream",
     "text": [
      "mcut = 3.1517529387182613e-06\n",
      "mcut = 8.18461007216765e-06\n",
      "mcut = 2.3373577999974093e-05\n",
      "mcut = 2.3611409521847336e-05\n",
      "mcut = 0.19191832358440306\n",
      "mcut = 0.75\n"
     ]
    },
    {
     "name": "stderr",
     "output_type": "stream",
     "text": [
      "/Library/Python/3.9/site-packages/scipy/sparse/linalg/_eigen/arpack/arpack.py:1600: RuntimeWarning: k >= N for N * N square matrix. Attempting to use scipy.linalg.eigh instead.\n",
      "  warnings.warn(\"k >= N for N * N square matrix. \"\n"
     ]
    },
    {
     "name": "stdout",
     "output_type": "stream",
     "text": [
      "mcut = 0.002068138662523516\n",
      "mcut = 0.2850123390178141\n",
      "mcut = 0.0\n",
      "mcut = 0.875\n",
      "mcut = -5.469017882513263e-15\n",
      "mcut = 2.4939707328431776e-16\n",
      "mcut = 0.019810602341890922\n",
      "mcut = 0.622701925679819\n",
      "mcut = 1.1716148031811172e-08\n",
      "mcut = 0.0\n",
      "mcut = 0.0\n",
      "mcut = 8.167796084930133e-06\n",
      "mcut = 4.8063217814915976e-05\n",
      "mcut = 0.0004855113664571204\n",
      "mcut = 0.00028138219671879734\n",
      "mcut = 0.1253591589179982\n",
      "mcut = 0.1558293519910005\n",
      "mcut = 0.7303799158818359\n",
      "mcut = 0.8333333333333333\n",
      "mcut = 0.2793896595445877\n",
      "mcut = 0.6460164745613852\n",
      "mcut = 0.0287391216352965\n",
      "mcut = 0.7239819004524888\n",
      "mcut = 0.7017543859649122\n",
      "mcut = 0.9285714285714285\n",
      "mcut = 1.3073622526150101e-08\n",
      "mcut = 0.8\n",
      "mcut = 0.7933996072744631\n",
      "mcut = 0.8571428571428571\n",
      "mcut = 0.5583355432908956\n",
      "mcut = 0.1512327525468259\n",
      "mcut = 0.00010136618064206408\n",
      "mcut = 0.058842691543651\n",
      "mcut = 6.441761085500534e-07\n",
      "mcut = 9.546023981255167e-07\n",
      "mcut = 0.00020968109119184758\n",
      "mcut = 0.0030989075946357774\n",
      "mcut = 0.013631703099792794\n",
      "mcut = 0.006627515972595822\n",
      "mcut = 0.9192120842100924\n",
      "mcut = 0.9565217391304347\n",
      "mcut = 0.0021654714596182865\n",
      "mcut = 0.0037869129375671523\n",
      "mcut = 0.9090909090909091\n",
      "mcut = 0.9420906025509456\n",
      "mcut = 1.872250083098517e-05\n",
      "mcut = 0.0010169752319099238\n",
      "mcut = 0.006756258859665274\n",
      "mcut = 0.06268718956554047\n",
      "mcut = 0.4020707463965069\n",
      "mcut = 0.005948329025891519\n",
      "mcut = 0.9230440031605912\n",
      "mcut = 0.9629629629629629\n",
      "mcut = 0.2257221952741475\n",
      "mcut = 1.4119587672632873e-06\n",
      "mcut = 0.8784655061250806\n",
      "mcut = 0.0\n",
      "mcut = 3.1384194488714327e-06\n",
      "mcut = 0.26785823486673827\n",
      "mcut = 0.9090909090909091\n",
      "mcut = 0.1746561891603899\n",
      "mcut = 0.24733410426056374\n",
      "mcut = 0.9530669144981413\n",
      "mcut = 0.8571428571428571\n",
      "mcut = 0.9015652061777195\n",
      "mcut = 0.875\n",
      "mcut = 3.5892322090953655e-05\n",
      "mcut = 0.04337304996434366\n",
      "mcut = 0.11252443762994624\n",
      "mcut = 0.0002047559822690171\n",
      "mcut = 0.000761015376973606\n",
      "mcut = 0.0030583922818065105\n",
      "mcut = 0.12454212646076804\n",
      "mcut = 0.75\n",
      "mcut = 0.8\n",
      "mcut = 0.007513395629817157\n",
      "mcut = 0.022979343054478102\n",
      "mcut = 0.03351538480768882\n",
      "mcut = 0.75\n"
     ]
    }
   ],
   "source": [
    "from services.normalized_cut_service import normalized_cut\n",
    "\n",
    "T = 0.4\n",
    "eigenval = 100\n",
    "clusters = normalized_cut(dist, np.array([i for i in range(len(points))], dtype=int), T, eigenval)"
   ]
  },
  {
   "cell_type": "code",
   "execution_count": 9,
   "metadata": {},
   "outputs": [
    {
     "data": {
      "text/plain": [
       "57"
      ]
     },
     "execution_count": 9,
     "metadata": {},
     "output_type": "execute_result"
    }
   ],
   "source": [
    "len(clusters)"
   ]
  },
  {
   "cell_type": "code",
   "execution_count": 10,
   "metadata": {},
   "outputs": [],
   "source": [
    "from utils.pcd_utils import color_pcd_by_clusters_and_voxels\n",
    "\n",
    "pcd_clustered = color_pcd_by_clusters_and_voxels(map, trace, clusters)"
   ]
  },
  {
   "cell_type": "code",
   "execution_count": 11,
   "metadata": {},
   "outputs": [
    {
     "name": "stdout",
     "output_type": "stream",
     "text": [
      "\u001b[1;33m[Open3D WARNING] GLFW Error: Cocoa: Failed to find service port for display\u001b[0;m\n",
      "\u001b[1;33m[Open3D WARNING] GLFW Error: Cocoa: Failed to find service port for display\u001b[0;m\n"
     ]
    }
   ],
   "source": [
    "import open3d as o3d\n",
    "\n",
    "o3d.visualization.draw_geometries([pcd_clustered])"
   ]
  },
  {
   "cell_type": "code",
   "execution_count": 12,
   "metadata": {},
   "outputs": [
    {
     "data": {
      "text/plain": [
       "True"
      ]
     },
     "execution_count": 12,
     "metadata": {},
     "output_type": "execute_result"
    }
   ],
   "source": [
    "executed_id = 2\n",
    "name = \"labeled_clouds_test/clouds_{}_{}_R{}_voxel{}_T{}_eigenval{}_execute_id{}_withoutoutlier_withisolated\".format(start_index, end_index, R, voxel_size, T, eigenval, executed_id)\n",
    "filename = name.replace(\".\", \"l\") + \".pcd\"\n",
    "\n",
    "o3d.io.write_point_cloud(filename, pcd_clustered)"
   ]
  },
  {
   "cell_type": "code",
   "execution_count": null,
   "metadata": {},
   "outputs": [],
   "source": []
  }
 ],
 "metadata": {
  "kernelspec": {
   "display_name": "Python 3",
   "language": "python",
   "name": "python3"
  },
  "language_info": {
   "codemirror_mode": {
    "name": "ipython",
    "version": 3
   },
   "file_extension": ".py",
   "mimetype": "text/x-python",
   "name": "python",
   "nbconvert_exporter": "python",
   "pygments_lexer": "ipython3",
   "version": "3.9.6"
  },
  "orig_nbformat": 4
 },
 "nbformat": 4,
 "nbformat_minor": 2
}
