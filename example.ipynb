{
 "cells": [
  {
   "cell_type": "code",
   "execution_count": null,
   "metadata": {},
   "outputs": [],
   "source": [
    "from src.datasets.kitti_dataset import KittiDataset\n",
    "\n",
    "dataset_path = \"dataset/\"  # kitti\n",
    "sequence = \"00\"\n",
    "image_instances_path = \"pipeline/vfm-labelss/sam/00/\"  # images processed by the SAM algorithm in npz format\n",
    "kitti = KittiDataset(dataset_path, sequence, image_instances_path)"
   ]
  },
  {
   "cell_type": "code",
   "execution_count": null,
   "metadata": {},
   "outputs": [],
   "source": [
    "# setting parameter values\n",
    "\n",
    "from src.services.preprocessing.common.config import ConfigDTO\n",
    "\n",
    "config = ConfigDTO(\n",
    "    **{\n",
    "        \"dataset\": kitti,\n",
    "        \"start_index\": 20,\n",
    "        \"end_index\": 24,\n",
    "        \"start_image_index_offset\": 0,\n",
    "        \"alpha_physical_distance\": 5,\n",
    "        \"beta_instance_distance\": 5,\n",
    "        \"T_normalized_cut\": 0.02,\n",
    "        \"reduce_detail_int_to_union_threshold\": 0.5,\n",
    "        \"reduce_detail_int_to_mask_threshold\": 0.6,\n",
    "        \"cam_name\": \"cam2\",\n",
    "        \"R\": 18,\n",
    "        \"nb_neighbors\": 25,\n",
    "        \"std_ratio\": 5.0,\n",
    "        \"voxel_size\": 0.25,\n",
    "    }\n",
    ")"
   ]
  },
  {
   "cell_type": "code",
   "execution_count": null,
   "metadata": {},
   "outputs": [],
   "source": [
    "# pcd initialisation and initial segmentation based on images\n",
    "\n",
    "from src.services.preprocessing.init.map import InitMapProcessor\n",
    "from src.services.preprocessing.init.instances_matrix import InitInstancesMatrixProcessor\n",
    "\n",
    "init_pcd = InitMapProcessor().process(config)\n",
    "points2instances = InitInstancesMatrixProcessor().process(config, init_pcd)"
   ]
  },
  {
   "cell_type": "code",
   "execution_count": null,
   "metadata": {},
   "outputs": [],
   "source": [
    "points2instances.shape"
   ]
  },
  {
   "cell_type": "code",
   "execution_count": null,
   "metadata": {},
   "outputs": [],
   "source": [
    "# visualisation of the initial pcd segmentation masks for a particular image\n",
    "\n",
    "import copy\n",
    "\n",
    "from src.utils.pcd_utils import color_pcd_by_labels\n",
    "from src.utils.pcd_utils import visualize_pcd\n",
    "\n",
    "colored_pcd = color_pcd_by_labels(copy.deepcopy(init_pcd), points2instances[:, 0])\n",
    "visualize_pcd(colored_pcd)"
   ]
  },
  {
   "cell_type": "code",
   "execution_count": null,
   "metadata": {},
   "outputs": [],
   "source": [
    "# pcd handler initialisation\n",
    "\n",
    "from src.services.preprocessing.not_zero import SelectionNotZeroProcessor\n",
    "from src.services.preprocessing.in_cube import SelectionInCubeProcessor\n",
    "from src.services.preprocessing.statistical_outlier import StatisticalOutlierProcessor\n",
    "\n",
    "processors = [\n",
    "    SelectionNotZeroProcessor(),\n",
    "    SelectionInCubeProcessor(),\n",
    "    StatisticalOutlierProcessor(),\n",
    "]"
   ]
  },
  {
   "cell_type": "code",
   "execution_count": null,
   "metadata": {},
   "outputs": [],
   "source": [
    "# pcd processing and saving the state\n",
    "\n",
    "import copy\n",
    "\n",
    "pcd = copy.deepcopy(init_pcd)\n",
    "for processor in processors:\n",
    "    pcd, points2instances, indices = processor.process(config, pcd, points2instances)\n",
    "\n",
    "pcd_for_clustering = copy.deepcopy(pcd)\n",
    "points2instances_pcd_for_clustering = copy.deepcopy(points2instances)"
   ]
  },
  {
   "cell_type": "code",
   "execution_count": null,
   "metadata": {},
   "outputs": [],
   "source": [
    "# visualisation of the processed pcd before voxelization\n",
    "\n",
    "import copy\n",
    "\n",
    "from src.utils.pcd_utils import color_pcd_by_labels\n",
    "from src.utils.pcd_utils import visualize_pcd\n",
    "\n",
    "colored_pcd_for_clustering = color_pcd_by_labels(copy.deepcopy(pcd_for_clustering), points2instances_pcd_for_clustering[:, 0])\n",
    "visualize_pcd(colored_pcd_for_clustering)"
   ]
  },
  {
   "cell_type": "code",
   "execution_count": null,
   "metadata": {},
   "outputs": [],
   "source": [
    "# final processing step - voxelisation of the pcd\n",
    "\n",
    "from src.services.preprocessing.voxel_down import VoxelDownProcessor\n",
    "\n",
    "pcd, points2instances, trace = VoxelDownProcessor().process(config, pcd, points2instances)"
   ]
  },
  {
   "cell_type": "code",
   "execution_count": null,
   "metadata": {},
   "outputs": [],
   "source": [
    "# visualisation of the voxelised pcd\n",
    "\n",
    "import copy\n",
    "\n",
    "from src.utils.pcd_utils import color_pcd_by_labels\n",
    "from src.utils.pcd_utils import visualize_pcd\n",
    "\n",
    "colored_voxel_pcd_for_clustering = color_pcd_by_labels(copy.deepcopy(pcd), points2instances[:, 0])\n",
    "visualize_pcd(colored_voxel_pcd_for_clustering)"
   ]
  },
  {
   "cell_type": "code",
   "execution_count": null,
   "metadata": {},
   "outputs": [],
   "source": [
    "# calculation of distance matrix for voxelised pcd\n",
    "\n",
    "import numpy as np\n",
    "\n",
    "from scipy.spatial.distance import cdist\n",
    "from src.utils.distances_utils import sam_label_distance\n",
    "\n",
    "points = np.asarray(pcd.points)\n",
    "spatial_distance = cdist(points, points)\n",
    "\n",
    "dist, masks = sam_label_distance(\n",
    "    points2instances,\n",
    "    spatial_distance,\n",
    "    3,\n",
    "    config.beta_instance_distance,\n",
    "    config.alpha_physical_distance\n",
    ")"
   ]
  },
  {
   "cell_type": "code",
   "execution_count": null,
   "metadata": {},
   "outputs": [],
   "source": [
    "dist.shape"
   ]
  },
  {
   "cell_type": "code",
   "execution_count": null,
   "metadata": {},
   "outputs": [],
   "source": [
    "# distance matrix processing\n",
    "\n",
    "from src.services.distance.isolated import RemovingIsolatedPointsProcessor\n",
    "from src.services.distance.connected_component import ExtractionLargestConnectedComponentProcessor\n",
    "\n",
    "distance_processors = [\n",
    "    RemovingIsolatedPointsProcessor(),\n",
    "    ExtractionLargestConnectedComponentProcessor(),\n",
    "]\n",
    "\n",
    "for processor in distance_processors:\n",
    "    dist, points, trace = processor.process(dist, points, trace)"
   ]
  },
  {
   "cell_type": "code",
   "execution_count": null,
   "metadata": {},
   "outputs": [],
   "source": [
    "print(dist.shape)\n",
    "print(len(points))\n",
    "print(len(trace))"
   ]
  },
  {
   "cell_type": "code",
   "execution_count": null,
   "metadata": {},
   "outputs": [],
   "source": [
    "# pcd clustering using GraphCut algorithm\n",
    "\n",
    "from src.services.normalized_cut_service import normalized_cut\n",
    "\n",
    "eigenval = 2\n",
    "clusters = normalized_cut(\n",
    "    dist,\n",
    "    np.array([i for i in range(len(points))], dtype=int),\n",
    "    config.T_normalized_cut,\n",
    "    eigenval\n",
    ")"
   ]
  },
  {
   "cell_type": "code",
   "execution_count": null,
   "metadata": {},
   "outputs": [],
   "source": [
    "len(clusters)"
   ]
  },
  {
   "cell_type": "code",
   "execution_count": null,
   "metadata": {},
   "outputs": [],
   "source": [
    "clusters[0]"
   ]
  },
  {
   "cell_type": "code",
   "execution_count": null,
   "metadata": {},
   "outputs": [],
   "source": [
    "# visualisation of segmentation results. masks will be drawn on the processed pcd before voxelisation\n",
    "\n",
    "from src.utils.pcd_utils import color_pcd_by_clusters_and_voxels\n",
    "from src.utils.pcd_utils import visualize_pcd\n",
    "\n",
    "pcd_colored = color_pcd_by_clusters_and_voxels(pcd_for_clustering, trace, clusters)\n",
    "visualize_pcd(pcd_colored)"
   ]
  },
  {
   "cell_type": "code",
   "execution_count": null,
   "metadata": {},
   "outputs": [],
   "source": []
  }
 ],
 "metadata": {
  "kernelspec": {
   "display_name": "Python 3",
   "language": "python",
   "name": "python3"
  },
  "language_info": {
   "codemirror_mode": {
    "name": "ipython",
    "version": 3
   },
   "file_extension": ".py",
   "mimetype": "text/x-python",
   "name": "python",
   "nbconvert_exporter": "python",
   "pygments_lexer": "ipython3",
   "version": "3.9.6"
  },
  "orig_nbformat": 4
 },
 "nbformat": 4,
 "nbformat_minor": 2
}
