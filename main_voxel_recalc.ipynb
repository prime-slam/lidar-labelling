{
 "cells": [
  {
   "cell_type": "code",
   "execution_count": 1,
   "metadata": {},
   "outputs": [],
   "source": [
    "from pcd_dataset.kitti_dataset import KittiDataset\n",
    "\n",
    "dataset_path = 'dataset_baby/'\n",
    "sequence = '00'\n",
    "image_instances_path = 'pipeline_baby/vfm-labels/sam/00/'\n",
    "kitti = KittiDataset(dataset_path, sequence, image_instances_path)"
   ]
  },
  {
   "cell_type": "code",
   "execution_count": 2,
   "metadata": {},
   "outputs": [],
   "source": [
    "start_index = 20\n",
    "end_index = 23\n",
    "cam_name = 'cam2'"
   ]
  },
  {
   "cell_type": "code",
   "execution_count": 3,
   "metadata": {},
   "outputs": [
    {
     "name": "stdout",
     "output_type": "stream",
     "text": [
      "\u001b[1;33m[Open3D WARNING] GLFW Error: Cocoa: Failed to find service port for display\u001b[0;m\n",
      "\u001b[1;33m[Open3D WARNING] GLFW Error: Cocoa: Failed to find service port for display\u001b[0;m\n",
      "\u001b[1;33m[Open3D WARNING] GLFW Error: Cocoa: Failed to find service port for display\u001b[0;m\n",
      "\u001b[1;33m[Open3D WARNING] GLFW Error: Cocoa: Failed to find service port for display\u001b[0;m\n"
     ]
    }
   ],
   "source": [
    "from services.label_service import get_map_not_zero_in_sphere\n",
    "\n",
    "map, points2instances = get_map_not_zero_in_sphere(kitti, cam_name, start_index, end_index, 8, True)"
   ]
  },
  {
   "cell_type": "code",
   "execution_count": 4,
   "metadata": {},
   "outputs": [],
   "source": [
    "import copy\n",
    "\n",
    "map_copy = copy.deepcopy(map)\n",
    "\n",
    "min_bound = map_copy.get_min_bound()\n",
    "max_bound = map_copy.get_max_bound()\n",
    "downpcd_trace = map_copy.voxel_down_sample_and_trace(0.03, min_bound, max_bound, True)"
   ]
  },
  {
   "cell_type": "code",
   "execution_count": 5,
   "metadata": {},
   "outputs": [
    {
     "data": {
      "text/plain": [
       "[IntVector[10044, 10045],\n",
       " IntVector[10042, 10043],\n",
       " IntVector[10040, 10041],\n",
       " IntVector[10038, 10039],\n",
       " IntVector[10034, 10035],\n",
       " IntVector[10031],\n",
       " IntVector[10028]]"
      ]
     },
     "execution_count": 5,
     "metadata": {},
     "output_type": "execute_result"
    }
   ],
   "source": [
    "list_int_vectors = downpcd_trace[2]\n",
    "list_int_vectors[8:15]"
   ]
  },
  {
   "cell_type": "code",
   "execution_count": 6,
   "metadata": {},
   "outputs": [],
   "source": [
    "import numpy as np\n",
    "\n",
    "# находим максимальное количество точек, объединенных в одну\n",
    "# строим list_int_vectors_arrays --- список int_vectors, преобразованных в массив: IntVector[10053, 10054] -> [[10053, 10054]]\n",
    "def find_max_col_and_list_int_vectors_arrays(list_int_vectors):\n",
    "    maxc = 0\n",
    "    list_int_vectors_arrays = []\n",
    "\n",
    "    for i in range(len(list_int_vectors)):\n",
    "        int_vector = list_int_vectors[i]\n",
    "        int_vector_array = np.asarray(int_vector)\n",
    "        if len(int_vector_array) > maxc:\n",
    "            maxc = len(int_vector_array)\n",
    "        list_int_vectors_arrays.append(int_vector_array)\n",
    "\n",
    "    return maxc, list_int_vectors_arrays\n",
    "\n",
    "maxc, list_int_vectors_arrays = find_max_col_and_list_int_vectors_arrays(list_int_vectors)"
   ]
  },
  {
   "cell_type": "code",
   "execution_count": 7,
   "metadata": {},
   "outputs": [
    {
     "data": {
      "text/plain": [
       "[array([10044, 10045], dtype=int32),\n",
       " array([10042, 10043], dtype=int32),\n",
       " array([10040, 10041], dtype=int32),\n",
       " array([10038, 10039], dtype=int32),\n",
       " array([10034, 10035], dtype=int32),\n",
       " array([10031], dtype=int32),\n",
       " array([10028], dtype=int32)]"
      ]
     },
     "execution_count": 7,
     "metadata": {},
     "output_type": "execute_result"
    }
   ],
   "source": [
    "list_int_vectors_arrays[8:15]"
   ]
  },
  {
   "cell_type": "code",
   "execution_count": 8,
   "metadata": {},
   "outputs": [],
   "source": [
    "# строим 2d массив: в i--ой строке перечислены СТАРЫЕ точки, которые были объединены для создания НОВОЙ точки i\n",
    "def build_2d_array_int_vectors(maxc, list_int_vectors_arrays):\n",
    "    row = len(list_int_vectors_arrays)\n",
    "    col = maxc\n",
    "\n",
    "    a = np.array([[-1] * col for i in range(row)], dtype=int)\n",
    "    for i in range(row):\n",
    "        temp = np.array([-1 for i in range(col)], dtype=int)\n",
    "        temp[:len(list_int_vectors_arrays[i])] = list_int_vectors_arrays[i]\n",
    "        a[i] = temp\n",
    "    \n",
    "    return a\n",
    "\n",
    "array_2d_new_old_point = build_2d_array_int_vectors(maxc, list_int_vectors_arrays)"
   ]
  },
  {
   "cell_type": "code",
   "execution_count": 9,
   "metadata": {},
   "outputs": [
    {
     "data": {
      "text/plain": [
       "array([[10044, 10045,    -1,    -1,    -1,    -1],\n",
       "       [10042, 10043,    -1,    -1,    -1,    -1],\n",
       "       [10040, 10041,    -1,    -1,    -1,    -1],\n",
       "       [10038, 10039,    -1,    -1,    -1,    -1],\n",
       "       [10034, 10035,    -1,    -1,    -1,    -1],\n",
       "       [10031,    -1,    -1,    -1,    -1,    -1],\n",
       "       [10028,    -1,    -1,    -1,    -1,    -1]])"
      ]
     },
     "execution_count": 9,
     "metadata": {},
     "output_type": "execute_result"
    }
   ],
   "source": [
    "array_2d_new_old_point[8:15, :]"
   ]
  },
  {
   "cell_type": "code",
   "execution_count": 10,
   "metadata": {},
   "outputs": [
    {
     "name": "stdout",
     "output_type": "stream",
     "text": [
      "2054\n"
     ]
    }
   ],
   "source": [
    "# пересчитываем points2instances в соответствии с новой нумерацией точек\n",
    "def recalc_points2instances(points2instances, array_2d_new_old_point):\n",
    "    upd_points2instances = np.zeros((len(array_2d_new_old_point), 3), dtype=int)\n",
    "    \n",
    "    for i in range(len(upd_points2instances)):\n",
    "        # находим значения в i--той строке --- это СТАРЫЕ точки, которые были объединены\n",
    "        solutions = np.argwhere(array_2d_new_old_point[i] != -1)\n",
    "\n",
    "        # пока что считаем, что из всех объединенных старых точек в одной строке для получения инстансов можно взять любую\n",
    "        old_point_index = array_2d_new_old_point[i][solutions[0][0]]\n",
    "        if old_point_index == 346: # для теста\n",
    "            print(i)\n",
    "        upd_points2instances[i] = points2instances[old_point_index]\n",
    "\n",
    "    return upd_points2instances\n",
    "\n",
    "upd_points2instances = recalc_points2instances(points2instances, array_2d_new_old_point)\n"
   ]
  },
  {
   "cell_type": "code",
   "execution_count": 11,
   "metadata": {},
   "outputs": [
    {
     "name": "stdout",
     "output_type": "stream",
     "text": [
      "[12 11 13]\n",
      "[12 11 13]\n",
      "IntVector[346]\n"
     ]
    }
   ],
   "source": [
    "# проверяем корректность перенумерации\n",
    "print(points2instances[346])\n",
    "print(upd_points2instances[2054])\n",
    "print(downpcd_trace[2][2054])"
   ]
  },
  {
   "cell_type": "code",
   "execution_count": 12,
   "metadata": {},
   "outputs": [
    {
     "name": "stdout",
     "output_type": "stream",
     "text": [
      "len(downpcd.points) = 7307\n",
      "len(upd_points2instances) = 7307\n"
     ]
    }
   ],
   "source": [
    "import numpy as np\n",
    "\n",
    "from scipy.spatial.distance import cdist\n",
    "from utils.distances_utils import sam_label_distance\n",
    "\n",
    "downpcd = downpcd_trace[0] # облако после voxel_down_sample\n",
    "points = np.asarray(downpcd.points)\n",
    "spatial_distance = cdist(points, points)\n",
    "\n",
    "print(\"len(downpcd.points) = {}\".format(len(downpcd.points)))\n",
    "print(\"len(upd_points2instances) = {}\".format(len(upd_points2instances)))\n",
    "dist, masks = sam_label_distance(upd_points2instances, spatial_distance, 2, 10)"
   ]
  },
  {
   "cell_type": "code",
   "execution_count": 13,
   "metadata": {},
   "outputs": [
    {
     "name": "stderr",
     "output_type": "stream",
     "text": [
      "/Library/Python/3.9/site-packages/scipy/sparse/linalg/_eigen/arpack/arpack.py:939: LinAlgWarning: Diagonal number 3 is exactly zero. Singular matrix.\n",
      "  self.M_lu = lu_factor(M)\n",
      "/Users/sofiavivdich/proj/lidar-labelling/services/normalized_cut_service.py:27: RuntimeWarning: invalid value encountered in scalar divide\n",
      "  return (cost / assoc_a) + (cost / assoc_b)\n",
      "/Library/Python/3.9/site-packages/scipy/sparse/linalg/_eigen/arpack/arpack.py:939: LinAlgWarning: Diagonal number 4 is exactly zero. Singular matrix.\n",
      "  self.M_lu = lu_factor(M)\n"
     ]
    }
   ],
   "source": [
    "from services.normalized_cut_service import normalized_cut\n",
    "\n",
    "T = 0.3\n",
    "clusters = normalized_cut(dist, np.asarray(points), T)"
   ]
  },
  {
   "cell_type": "code",
   "execution_count": 14,
   "metadata": {},
   "outputs": [
    {
     "data": {
      "text/plain": [
       "15"
      ]
     },
     "execution_count": 14,
     "metadata": {},
     "output_type": "execute_result"
    }
   ],
   "source": [
    "len(clusters)"
   ]
  },
  {
   "cell_type": "code",
   "execution_count": 20,
   "metadata": {},
   "outputs": [
    {
     "name": "stdout",
     "output_type": "stream",
     "text": [
      "\u001b[1;33m[Open3D WARNING] GLFW Error: Cocoa: Failed to find service port for display\u001b[0;m\n"
     ]
    }
   ],
   "source": [
    "# import open3d as o3d\n",
    "\n",
    "# from utils.pcd_utils import color_pcd_by_clusters\n",
    "\n",
    "# pcd_clustered = color_pcd_by_clusters(downpcd, clusters)\n",
    "# o3d.visualization.draw_geometries([pcd_clustered])"
   ]
  },
  {
   "cell_type": "code",
   "execution_count": 15,
   "metadata": {},
   "outputs": [],
   "source": [
    "import numpy as np\n",
    "from scipy.spatial import KDTree\n",
    "\n",
    "# cloud1 = np.asarray(downpcd.points)\n",
    "# cloud2 = np.asarray(map.points)\n",
    "\n",
    "cloud1 = np.asarray(map.points)\n",
    "cloud2 = np.asarray(downpcd.points)\n",
    "\n",
    "# Build KD-trees for each point cloud\n",
    "tree1 = KDTree(cloud1)\n",
    "tree2 = KDTree(cloud2)\n",
    "\n",
    "# Find nearest neighbors for each point in cloud1\n",
    "dists, indices = tree2.query(cloud1, k=1)\n",
    "\n",
    "# Get the neighbor points from cloud2\n",
    "neighbors = cloud2[indices]"
   ]
  },
  {
   "cell_type": "code",
   "execution_count": 16,
   "metadata": {},
   "outputs": [
    {
     "data": {
      "text/plain": [
       "array([23.21943973,  1.08491573, -1.46479947])"
      ]
     },
     "execution_count": 16,
     "metadata": {},
     "output_type": "execute_result"
    }
   ],
   "source": [
    "map.points[4440]"
   ]
  },
  {
   "cell_type": "code",
   "execution_count": 17,
   "metadata": {},
   "outputs": [
    {
     "data": {
      "text/plain": [
       "array([23.21525976,  1.07515312, -1.46375785])"
      ]
     },
     "execution_count": 17,
     "metadata": {},
     "output_type": "execute_result"
    }
   ],
   "source": [
    "neighbors[4440]"
   ]
  },
  {
   "cell_type": "code",
   "execution_count": 18,
   "metadata": {},
   "outputs": [
    {
     "data": {
      "text/plain": [
       "array([22.71253833,  0.9524286 , -1.48947941])"
      ]
     },
     "execution_count": 18,
     "metadata": {},
     "output_type": "execute_result"
    }
   ],
   "source": [
    "downpcd.points[4440]"
   ]
  },
  {
   "cell_type": "code",
   "execution_count": 19,
   "metadata": {},
   "outputs": [
    {
     "name": "stdout",
     "output_type": "stream",
     "text": [
      "\u001b[1;33m[Open3D WARNING] GLFW Error: Cocoa: Failed to find service port for display\u001b[0;m\n"
     ]
    }
   ],
   "source": [
    "# from utils.pcd_utils import color_pcd_by_clusters_and_neighbors\n",
    "\n",
    "# import open3d as o3d\n",
    "\n",
    "# pcd_clustered = color_pcd_by_clusters_and_neighbors(map, clusters, neighbors)\n",
    "# o3d.visualization.draw_geometries([pcd_clustered])"
   ]
  },
  {
   "cell_type": "code",
   "execution_count": 19,
   "metadata": {},
   "outputs": [
    {
     "name": "stdout",
     "output_type": "stream",
     "text": [
      "counter1 = 5124, counter2 = 5124\n",
      "removed points = 2819\n",
      "len(map.points) = 10126\n",
      "len(downpcd.points) = 7307\n",
      "\u001b[1;33m[Open3D WARNING] GLFW Error: Cocoa: Failed to find service port for display\u001b[0;m\n",
      "\u001b[1;33m[Open3D WARNING] GLFW Error: Cocoa: Failed to find service port for display\u001b[0;m\n"
     ]
    }
   ],
   "source": [
    "from utils.pcd_utils import color_pcd_by_clusters_common\n",
    "\n",
    "import open3d as o3d\n",
    "\n",
    "pcd_clustered1, pcd_clustered2, counter1, counter2 = color_pcd_by_clusters_common(map, clusters, neighbors)\n",
    "print(\"counter1 = {}, counter2 = {}\".format(counter1, counter2))\n",
    "print(\"removed points = {}\".format(len(map.points) - len(downpcd.points)))\n",
    "print(\"len(map.points) = {}\".format(len(map.points)))\n",
    "print(\"len(downpcd.points) = {}\".format(len(downpcd.points)))\n",
    "o3d.visualization.draw_geometries([pcd_clustered1])\n",
    "o3d.visualization.draw_geometries([pcd_clustered2])"
   ]
  },
  {
   "cell_type": "code",
   "execution_count": 21,
   "metadata": {},
   "outputs": [],
   "source": [
    "c = 0\n",
    "for i in range(len(clusters)):\n",
    "    cluster = clusters[i]\n",
    "    c += len(cluster)\n"
   ]
  },
  {
   "cell_type": "code",
   "execution_count": 22,
   "metadata": {},
   "outputs": [
    {
     "data": {
      "text/plain": [
       "7307"
      ]
     },
     "execution_count": 22,
     "metadata": {},
     "output_type": "execute_result"
    }
   ],
   "source": [
    "c"
   ]
  },
  {
   "cell_type": "code",
   "execution_count": 25,
   "metadata": {},
   "outputs": [
    {
     "data": {
      "text/plain": [
       "2"
      ]
     },
     "execution_count": 25,
     "metadata": {},
     "output_type": "execute_result"
    }
   ],
   "source": [
    "solutions = np.argwhere(array_2d_new_old_point[8] != -1)\n",
    "len(solutions)"
   ]
  },
  {
   "cell_type": "code",
   "execution_count": 30,
   "metadata": {},
   "outputs": [],
   "source": [
    "n = 0\n",
    "m = 0\n",
    "for i in range(len(upd_points2instances)):\n",
    "    solutions = np.argwhere(array_2d_new_old_point[i] != -1)\n",
    "    if len(solutions) > 1:\n",
    "        n += len(solutions) - 1\n",
    "        m += len(solutions)"
   ]
  },
  {
   "cell_type": "code",
   "execution_count": 31,
   "metadata": {},
   "outputs": [
    {
     "data": {
      "text/plain": [
       "2819"
      ]
     },
     "execution_count": 31,
     "metadata": {},
     "output_type": "execute_result"
    }
   ],
   "source": [
    "n"
   ]
  },
  {
   "cell_type": "code",
   "execution_count": 32,
   "metadata": {},
   "outputs": [
    {
     "data": {
      "text/plain": [
       "5124"
      ]
     },
     "execution_count": 32,
     "metadata": {},
     "output_type": "execute_result"
    }
   ],
   "source": [
    "m"
   ]
  },
  {
   "cell_type": "code",
   "execution_count": null,
   "metadata": {},
   "outputs": [],
   "source": []
  }
 ],
 "metadata": {
  "kernelspec": {
   "display_name": "Python 3",
   "language": "python",
   "name": "python3"
  },
  "language_info": {
   "codemirror_mode": {
    "name": "ipython",
    "version": 3
   },
   "file_extension": ".py",
   "mimetype": "text/x-python",
   "name": "python",
   "nbconvert_exporter": "python",
   "pygments_lexer": "ipython3",
   "version": "3.9.6"
  },
  "orig_nbformat": 4
 },
 "nbformat": 4,
 "nbformat_minor": 2
}
