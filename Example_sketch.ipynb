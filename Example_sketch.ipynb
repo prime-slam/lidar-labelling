{
 "cells": [
  {
   "cell_type": "code",
   "execution_count": 1,
   "outputs": [
    {
     "name": "stdout",
     "output_type": "stream",
     "text": [
      "Jupyter environment detected. Enabling Open3D WebVisualizer.\n",
      "[Open3D INFO] WebRTC GUI backend enabled.\n",
      "[Open3D INFO] WebRTCWindowSystem: HTTP handshake server disabled.\n"
     ]
    }
   ],
   "source": [
    "from kitti_dataset import KittiDataset\n",
    "\n",
    "dataset_path = 'dataset/'\n",
    "sequence = '00'\n",
    "\n",
    "kitti = KittiDataset(dataset_path, sequence)"
   ],
   "metadata": {
    "collapsed": false,
    "ExecuteTime": {
     "end_time": "2023-08-31T22:32:10.535160Z",
     "start_time": "2023-08-31T22:32:06.805413600Z"
    }
   },
   "id": "e847962e99830a2f"
  },
  {
   "cell_type": "code",
   "execution_count": 2,
   "outputs": [
    {
     "name": "stdout",
     "output_type": "stream",
     "text": [
      "image 20 processed\n",
      "image 21 processed\n",
      "image 22 processed\n",
      "image 23 processed\n",
      "image 24 processed\n"
     ]
    }
   ],
   "source": [
    "from simple_mapping import SimpleMapping\n",
    "\n",
    "sm = SimpleMapping(kitti)\n",
    "labeled_pcds = sm.get_combined_labeled_point_clouds(20, 25)"
   ],
   "metadata": {
    "collapsed": false,
    "ExecuteTime": {
     "end_time": "2023-08-31T22:26:22.726738200Z",
     "start_time": "2023-08-31T22:10:49.808875400Z"
    }
   },
   "id": "2c2963d027f62259"
  }
 ],
 "metadata": {
  "kernelspec": {
   "display_name": "Python 3 (ipykernel)",
   "language": "python",
   "name": "python3"
  },
  "language_info": {
   "codemirror_mode": {
    "name": "ipython",
    "version": 3
   },
   "file_extension": ".py",
   "mimetype": "text/x-python",
   "name": "python",
   "nbconvert_exporter": "python",
   "pygments_lexer": "ipython3",
   "version": "3.9.6"
  }
 },
 "nbformat": 4,
 "nbformat_minor": 5
}
