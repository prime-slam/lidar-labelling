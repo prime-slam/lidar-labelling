{
 "cells": [
  {
   "cell_type": "code",
   "execution_count": 1,
   "outputs": [],
   "source": [
    "# favorite example\n",
    "\n",
    "# cam2, start_index = 20, end_index = 23\n",
    "\n",
    "# point №40\n",
    "# it corresponds to instance 53 (image 20)\n",
    "# it corresponds to instance 45 (image 21)\n",
    "# it corresponds to instance 53 (image 22)"
   ],
   "metadata": {
    "collapsed": false,
    "ExecuteTime": {
     "end_time": "2023-10-20T09:56:08.912219Z",
     "start_time": "2023-10-20T09:56:08.906102Z"
    }
   },
   "id": "8eadad1f7357df6"
  },
  {
   "cell_type": "code",
   "execution_count": 2,
   "outputs": [],
   "source": [
    "from pathlib import Path\n",
    "\n",
    "from pcd_dataset.kitti_dataset import KittiDataset\n",
    "\n",
    "dataset_path = 'dataset/'\n",
    "sequence = '00'\n",
    "sam_labels_path = Path.cwd().joinpath('pipeline', 'vfm-labels', 'sam', sequence)\n",
    "\n",
    "kitti = KittiDataset(dataset_path, sequence, sam_labels_path)"
   ],
   "metadata": {
    "collapsed": false,
    "ExecuteTime": {
     "end_time": "2023-10-20T09:56:11.630303Z",
     "start_time": "2023-10-20T09:56:10.325815Z"
    }
   },
   "id": "e847962e99830a2f"
  },
  {
   "cell_type": "code",
   "execution_count": 3,
   "outputs": [
    {
     "name": "stderr",
     "output_type": "stream",
     "text": [
      "INFO:simple_mapping.SimpleMapping:Image 20 processed\n",
      "INFO:simple_mapping.SimpleMapping:Image 21 processed\n",
      "INFO:simple_mapping.SimpleMapping:Image 22 processed\n"
     ]
    }
   ],
   "source": [
    "from mapping.simple_mapping import SimpleMapping\n",
    "\n",
    "sm = SimpleMapping(kitti)\n",
    "coo_matrix, pcds = sm.get_combined_labeled_point_clouds('cam2', 20, 23)"
   ],
   "metadata": {
    "collapsed": false,
    "ExecuteTime": {
     "end_time": "2023-10-20T09:56:18.533392Z",
     "start_time": "2023-10-20T09:56:13.312748Z"
    }
   },
   "id": "2c2963d027f62259"
  },
  {
   "cell_type": "code",
   "execution_count": 5,
   "outputs": [
    {
     "data": {
      "text/plain": "PointCloud with 277369 points."
     },
     "execution_count": 5,
     "metadata": {},
     "output_type": "execute_result"
    }
   ],
   "source": [
    "pcds[0]"
   ],
   "metadata": {
    "collapsed": false,
    "ExecuteTime": {
     "end_time": "2023-10-20T09:24:14.174721Z",
     "start_time": "2023-10-20T09:24:14.162399Z"
    }
   },
   "id": "2a8ee3fe5788f17d"
  },
  {
   "cell_type": "code",
   "execution_count": 6,
   "outputs": [
    {
     "data": {
      "text/plain": "PointCloud with 832606 points."
     },
     "execution_count": 6,
     "metadata": {},
     "output_type": "execute_result"
    }
   ],
   "source": [
    "pcds[2] + pcds[1] + pcds[0]"
   ],
   "metadata": {
    "collapsed": false,
    "ExecuteTime": {
     "end_time": "2023-10-20T09:24:15.170712Z",
     "start_time": "2023-10-20T09:24:15.166746Z"
    }
   },
   "id": "4c8ca3fa6e825615"
  },
  {
   "cell_type": "code",
   "execution_count": 4,
   "outputs": [],
   "source": [
    "from mapping.sparse_matrix_utils import construct_coo_matrix_for_multiple_views\n",
    "\n",
    "coo_result = construct_coo_matrix_for_multiple_views(coo_matrix, 20)"
   ],
   "metadata": {
    "collapsed": false,
    "ExecuteTime": {
     "end_time": "2023-10-20T09:56:19.322429Z",
     "start_time": "2023-10-20T09:56:19.168383Z"
    }
   },
   "id": "d95b980b64944498"
  },
  {
   "cell_type": "code",
   "execution_count": 5,
   "outputs": [],
   "source": [
    "from sklearn.preprocessing import OneHotEncoder\n",
    "enc = OneHotEncoder(handle_unknown='ignore', sparse_output=True)"
   ],
   "metadata": {
    "collapsed": false,
    "ExecuteTime": {
     "end_time": "2023-10-20T09:56:20.189685Z",
     "start_time": "2023-10-20T09:56:20.179949Z"
    }
   },
   "id": "a78c374fc626ffad"
  },
  {
   "cell_type": "code",
   "execution_count": 6,
   "outputs": [
    {
     "data": {
      "text/plain": "OneHotEncoder(handle_unknown='ignore')",
      "text/html": "<style>#sk-container-id-1 {color: black;}#sk-container-id-1 pre{padding: 0;}#sk-container-id-1 div.sk-toggleable {background-color: white;}#sk-container-id-1 label.sk-toggleable__label {cursor: pointer;display: block;width: 100%;margin-bottom: 0;padding: 0.3em;box-sizing: border-box;text-align: center;}#sk-container-id-1 label.sk-toggleable__label-arrow:before {content: \"▸\";float: left;margin-right: 0.25em;color: #696969;}#sk-container-id-1 label.sk-toggleable__label-arrow:hover:before {color: black;}#sk-container-id-1 div.sk-estimator:hover label.sk-toggleable__label-arrow:before {color: black;}#sk-container-id-1 div.sk-toggleable__content {max-height: 0;max-width: 0;overflow: hidden;text-align: left;background-color: #f0f8ff;}#sk-container-id-1 div.sk-toggleable__content pre {margin: 0.2em;color: black;border-radius: 0.25em;background-color: #f0f8ff;}#sk-container-id-1 input.sk-toggleable__control:checked~div.sk-toggleable__content {max-height: 200px;max-width: 100%;overflow: auto;}#sk-container-id-1 input.sk-toggleable__control:checked~label.sk-toggleable__label-arrow:before {content: \"▾\";}#sk-container-id-1 div.sk-estimator input.sk-toggleable__control:checked~label.sk-toggleable__label {background-color: #d4ebff;}#sk-container-id-1 div.sk-label input.sk-toggleable__control:checked~label.sk-toggleable__label {background-color: #d4ebff;}#sk-container-id-1 input.sk-hidden--visually {border: 0;clip: rect(1px 1px 1px 1px);clip: rect(1px, 1px, 1px, 1px);height: 1px;margin: -1px;overflow: hidden;padding: 0;position: absolute;width: 1px;}#sk-container-id-1 div.sk-estimator {font-family: monospace;background-color: #f0f8ff;border: 1px dotted black;border-radius: 0.25em;box-sizing: border-box;margin-bottom: 0.5em;}#sk-container-id-1 div.sk-estimator:hover {background-color: #d4ebff;}#sk-container-id-1 div.sk-parallel-item::after {content: \"\";width: 100%;border-bottom: 1px solid gray;flex-grow: 1;}#sk-container-id-1 div.sk-label:hover label.sk-toggleable__label {background-color: #d4ebff;}#sk-container-id-1 div.sk-serial::before {content: \"\";position: absolute;border-left: 1px solid gray;box-sizing: border-box;top: 0;bottom: 0;left: 50%;z-index: 0;}#sk-container-id-1 div.sk-serial {display: flex;flex-direction: column;align-items: center;background-color: white;padding-right: 0.2em;padding-left: 0.2em;position: relative;}#sk-container-id-1 div.sk-item {position: relative;z-index: 1;}#sk-container-id-1 div.sk-parallel {display: flex;align-items: stretch;justify-content: center;background-color: white;position: relative;}#sk-container-id-1 div.sk-item::before, #sk-container-id-1 div.sk-parallel-item::before {content: \"\";position: absolute;border-left: 1px solid gray;box-sizing: border-box;top: 0;bottom: 0;left: 50%;z-index: -1;}#sk-container-id-1 div.sk-parallel-item {display: flex;flex-direction: column;z-index: 1;position: relative;background-color: white;}#sk-container-id-1 div.sk-parallel-item:first-child::after {align-self: flex-end;width: 50%;}#sk-container-id-1 div.sk-parallel-item:last-child::after {align-self: flex-start;width: 50%;}#sk-container-id-1 div.sk-parallel-item:only-child::after {width: 0;}#sk-container-id-1 div.sk-dashed-wrapped {border: 1px dashed gray;margin: 0 0.4em 0.5em 0.4em;box-sizing: border-box;padding-bottom: 0.4em;background-color: white;}#sk-container-id-1 div.sk-label label {font-family: monospace;font-weight: bold;display: inline-block;line-height: 1.2em;}#sk-container-id-1 div.sk-label-container {text-align: center;}#sk-container-id-1 div.sk-container {/* jupyter's `normalize.less` sets `[hidden] { display: none; }` but bootstrap.min.css set `[hidden] { display: none !important; }` so we also need the `!important` here to be able to override the default hidden behavior on the sphinx rendered scikit-learn.org. See: https://github.com/scikit-learn/scikit-learn/issues/21755 */display: inline-block !important;position: relative;}#sk-container-id-1 div.sk-text-repr-fallback {display: none;}</style><div id=\"sk-container-id-1\" class=\"sk-top-container\"><div class=\"sk-text-repr-fallback\"><pre>OneHotEncoder(handle_unknown=&#x27;ignore&#x27;)</pre><b>In a Jupyter environment, please rerun this cell to show the HTML representation or trust the notebook. <br />On GitHub, the HTML representation is unable to render, please try loading this page with nbviewer.org.</b></div><div class=\"sk-container\" hidden><div class=\"sk-item\"><div class=\"sk-estimator sk-toggleable\"><input class=\"sk-toggleable__control sk-hidden--visually\" id=\"sk-estimator-id-1\" type=\"checkbox\" checked><label for=\"sk-estimator-id-1\" class=\"sk-toggleable__label sk-toggleable__label-arrow\">OneHotEncoder</label><div class=\"sk-toggleable__content\"><pre>OneHotEncoder(handle_unknown=&#x27;ignore&#x27;)</pre></div></div></div></div></div>"
     },
     "execution_count": 6,
     "metadata": {},
     "output_type": "execute_result"
    }
   ],
   "source": [
    "enc.fit((coo_result.T).toarray())"
   ],
   "metadata": {
    "collapsed": false,
    "ExecuteTime": {
     "end_time": "2023-10-20T09:56:20.802707Z",
     "start_time": "2023-10-20T09:56:20.758502Z"
    }
   },
   "id": "2161e4dc37b7d638"
  },
  {
   "cell_type": "code",
   "execution_count": 7,
   "outputs": [
    {
     "data": {
      "text/plain": "[array([ 0.,  1.,  2.,  3.,  4.,  5.,  6.,  7.,  9., 10., 11., 12., 13.,\n        14., 15., 16., 17., 18., 19., 20., 21., 22., 23., 24., 25., 26.,\n        27., 28., 29., 30., 31., 32., 33., 34., 35., 37., 38., 39., 40.,\n        42., 43., 44., 45., 46., 48., 49., 50., 51., 53., 54., 56., 57.,\n        58., 59., 62., 63., 64., 67., 68., 69., 71., 73., 74., 75., 76.,\n        77., 78., 79., 80.]),\n array([ 0.,  2.,  3.,  4.,  5.,  6.,  7., 10., 11., 12., 13., 14., 15.,\n        16., 17., 18., 19., 20., 21., 22., 23., 24., 25., 26., 27., 28.,\n        29., 30., 31., 32., 33., 34., 35., 36., 37., 39., 40., 41., 42.,\n        43., 44., 45., 47., 49., 50., 51., 52., 54., 55., 56., 58., 59.,\n        60., 62., 64., 65., 67., 69., 71., 72., 73., 74.]),\n array([ 0.,  1.,  2.,  3.,  4.,  5.,  6.,  7.,  8.,  9., 10., 11., 12.,\n        13., 14., 15., 16., 17., 18., 19., 20., 21., 22., 23., 24., 25.,\n        26., 27., 28., 30., 31., 32., 33., 34., 35., 36., 37., 38., 39.,\n        40., 41., 42., 43., 44., 45., 46., 47., 48., 49., 50., 51., 53.,\n        54., 55., 56., 57., 59., 60., 61., 62., 63., 64., 65., 67., 68.,\n        70., 71., 77., 78., 79., 81., 83., 84., 86., 87., 88., 89., 90.,\n        91., 93., 94., 95.])]"
     },
     "execution_count": 7,
     "metadata": {},
     "output_type": "execute_result"
    }
   ],
   "source": [
    "enc.categories_"
   ],
   "metadata": {
    "collapsed": false,
    "ExecuteTime": {
     "end_time": "2023-10-20T09:56:21.725590Z",
     "start_time": "2023-10-20T09:56:21.713552Z"
    }
   },
   "id": "d09dcbae106d0bb4"
  },
  {
   "cell_type": "code",
   "execution_count": 8,
   "outputs": [],
   "source": [
    "s = enc.transform(coo_result.T.toarray()).toarray()"
   ],
   "metadata": {
    "collapsed": false,
    "ExecuteTime": {
     "end_time": "2023-10-20T09:56:23.497149Z",
     "start_time": "2023-10-20T09:56:23.247746Z"
    }
   },
   "id": "ef673c8269c8c536"
  },
  {
   "cell_type": "code",
   "execution_count": 9,
   "outputs": [
    {
     "name": "stdout",
     "output_type": "stream",
     "text": [
      "48\n",
      "110\n",
      "182\n"
     ]
    }
   ],
   "source": [
    "for itr in range(len(s[40])):\n",
    "    if s[40, itr] != 0.0:\n",
    "        print(itr)"
   ],
   "metadata": {
    "collapsed": false,
    "ExecuteTime": {
     "end_time": "2023-10-20T09:38:49.373496Z",
     "start_time": "2023-10-20T09:38:49.359560Z"
    }
   },
   "id": "94f11e292f22e577"
  },
  {
   "cell_type": "code",
   "execution_count": 41,
   "outputs": [
    {
     "name": "stdout",
     "output_type": "stream",
     "text": [
      "92411\n"
     ]
    }
   ],
   "source": [
    "p = enc.inverse_transform(s)\n",
    "\n",
    "k = 0\n",
    "for itr in range(len(p)):\n",
    "    if (p[itr] == [0.0, 0.0, 0.0]).all():\n",
    "        k = k + 1\n",
    "        \n",
    "print(len(p) - k)"
   ],
   "metadata": {
    "collapsed": false,
    "ExecuteTime": {
     "end_time": "2023-10-21T14:05:39.222157Z",
     "start_time": "2023-10-21T14:05:36.903643Z"
    }
   },
   "id": "f5a1e6ae872a8f1d"
  },
  {
   "cell_type": "code",
   "execution_count": 46,
   "outputs": [
    {
     "name": "stdout",
     "output_type": "stream",
     "text": [
      "0\n",
      "1\n",
      "2\n",
      "3\n",
      "4\n",
      "5\n"
     ]
    }
   ],
   "source": [
    "import numpy as np\n",
    "\n",
    "p = enc.inverse_transform(s)\n",
    "points = np.zeros((len(p) - k), dtype=int)\n",
    "\n",
    "map = []\n",
    "\n",
    "k = 0\n",
    "i = 0\n",
    "for itr in range(len(p)):\n",
    "    if (p[itr] == [0.0, 0.0, 0.0]).all():\n",
    "        k = k + 1\n",
    "    else:\n",
    "        if k < 10:\n",
    "            print(itr)\n",
    "        points[i] = itr \n",
    "        map.append({'old_pcd': itr, 'new_pcd': i})\n",
    "        i = i + 1"
   ],
   "metadata": {
    "collapsed": false,
    "ExecuteTime": {
     "end_time": "2023-10-21T14:10:26.936199Z",
     "start_time": "2023-10-21T14:10:24.711077Z"
    }
   },
   "id": "5b570258682f67d6"
  },
  {
   "cell_type": "code",
   "execution_count": null,
   "outputs": [],
   "source": [],
   "metadata": {
    "collapsed": false
   },
   "id": "866be50aceacd7b4"
  },
  {
   "cell_type": "code",
   "execution_count": 53,
   "outputs": [
    {
     "data": {
      "text/plain": "{'old_pcd': 1171, 'new_pcd': 117}"
     },
     "execution_count": 53,
     "metadata": {},
     "output_type": "execute_result"
    }
   ],
   "source": [
    "map[117]"
   ],
   "metadata": {
    "collapsed": false,
    "ExecuteTime": {
     "end_time": "2023-10-21T14:11:58.766752Z",
     "start_time": "2023-10-21T14:11:58.754687Z"
    }
   },
   "id": "a14d4c856328c98a"
  },
  {
   "cell_type": "code",
   "execution_count": 44,
   "outputs": [
    {
     "data": {
      "text/plain": "{3}"
     },
     "execution_count": 44,
     "metadata": {},
     "output_type": "execute_result"
    }
   ],
   "source": [
    "map[3]"
   ],
   "metadata": {
    "collapsed": false,
    "ExecuteTime": {
     "end_time": "2023-10-21T14:08:21.791798Z",
     "start_time": "2023-10-21T14:08:21.770825Z"
    }
   },
   "id": "89936dad4fe3c4b5"
  },
  {
   "cell_type": "code",
   "execution_count": null,
   "outputs": [],
   "source": [
    "map"
   ],
   "metadata": {
    "collapsed": false
   },
   "id": "3f0c5ed5a009a3a6"
  },
  {
   "cell_type": "code",
   "execution_count": 35,
   "outputs": [
    {
     "data": {
      "text/plain": "array([ 0.,  0., 61.])"
     },
     "execution_count": 35,
     "metadata": {},
     "output_type": "execute_result"
    }
   ],
   "source": [
    "p[5]"
   ],
   "metadata": {
    "collapsed": false,
    "ExecuteTime": {
     "end_time": "2023-10-21T09:56:12.322450Z",
     "start_time": "2023-10-21T09:56:12.311602Z"
    }
   },
   "id": "b8973f455a9d6992"
  },
  {
   "cell_type": "code",
   "execution_count": 38,
   "outputs": [
    {
     "data": {
      "text/plain": "{6, 20}"
     },
     "execution_count": 38,
     "metadata": {},
     "output_type": "execute_result"
    }
   ],
   "source": [
    "map[6]"
   ],
   "metadata": {
    "collapsed": false,
    "ExecuteTime": {
     "end_time": "2023-10-21T09:56:27.561392Z",
     "start_time": "2023-10-21T09:56:27.546101Z"
    }
   },
   "id": "98bf645c3c57c1b6"
  },
  {
   "cell_type": "code",
   "execution_count": 21,
   "outputs": [
    {
     "data": {
      "text/plain": "92411"
     },
     "execution_count": 21,
     "metadata": {},
     "output_type": "execute_result"
    }
   ],
   "source": [
    "len(points)"
   ],
   "metadata": {
    "collapsed": false,
    "ExecuteTime": {
     "end_time": "2023-10-21T09:49:09.820976Z",
     "start_time": "2023-10-21T09:49:09.805682Z"
    }
   },
   "id": "3193521a77471e08"
  },
  {
   "cell_type": "code",
   "execution_count": 22,
   "outputs": [
    {
     "data": {
      "text/plain": "832606"
     },
     "execution_count": 22,
     "metadata": {},
     "output_type": "execute_result"
    }
   ],
   "source": [
    "k + len(points)"
   ],
   "metadata": {
    "collapsed": false,
    "ExecuteTime": {
     "end_time": "2023-10-21T09:49:21.656409Z",
     "start_time": "2023-10-21T09:49:21.640243Z"
    }
   },
   "id": "3184134bca342221"
  },
  {
   "cell_type": "code",
   "execution_count": 23,
   "outputs": [
    {
     "data": {
      "text/plain": "832606"
     },
     "execution_count": 23,
     "metadata": {},
     "output_type": "execute_result"
    }
   ],
   "source": [
    "len(p)"
   ],
   "metadata": {
    "collapsed": false,
    "ExecuteTime": {
     "end_time": "2023-10-21T09:49:31.795528Z",
     "start_time": "2023-10-21T09:49:31.780102Z"
    }
   },
   "id": "89ae28a658fbf54c"
  },
  {
   "cell_type": "code",
   "execution_count": 54,
   "outputs": [
    {
     "ename": "RuntimeError",
     "evalue": "Unable to cast Python instance to C++ type (compile in debug mode for details)",
     "output_type": "error",
     "traceback": [
      "\u001B[0;31m---------------------------------------------------------------------------\u001B[0m",
      "\u001B[0;31mRuntimeError\u001B[0m                              Traceback (most recent call last)",
      "Cell \u001B[0;32mIn[54], line 4\u001B[0m\n\u001B[1;32m      1\u001B[0m \u001B[38;5;28;01mimport\u001B[39;00m \u001B[38;5;21;01mopen3d\u001B[39;00m \u001B[38;5;28;01mas\u001B[39;00m \u001B[38;5;21;01mo3d\u001B[39;00m\n\u001B[1;32m      3\u001B[0m pcd_baby \u001B[38;5;241m=\u001B[39m o3d\u001B[38;5;241m.\u001B[39mgeometry\u001B[38;5;241m.\u001B[39mPointCloud()\n\u001B[0;32m----> 4\u001B[0m pcd_baby\u001B[38;5;241m.\u001B[39mpoints \u001B[38;5;241m=\u001B[39m \u001B[43mo3d\u001B[49m\u001B[38;5;241;43m.\u001B[39;49m\u001B[43mutility\u001B[49m\u001B[38;5;241;43m.\u001B[39;49m\u001B[43mVector3dVector\u001B[49m\u001B[43m(\u001B[49m\u001B[43mpoints\u001B[49m\u001B[43m)\u001B[49m\n",
      "\u001B[0;31mRuntimeError\u001B[0m: Unable to cast Python instance to C++ type (compile in debug mode for details)"
     ]
    }
   ],
   "source": [
    "import open3d as o3d\n",
    "\n",
    "pcd_baby = o3d.geometry.PointCloud()\n",
    "pcd_baby.points = o3d.utility.Vector3dVector(points)"
   ],
   "metadata": {
    "collapsed": false,
    "ExecuteTime": {
     "end_time": "2023-10-21T14:12:46.039971Z",
     "start_time": "2023-10-21T14:12:46.025882Z"
    }
   },
   "id": "9d27b55428bc661f"
  },
  {
   "cell_type": "code",
   "execution_count": null,
   "outputs": [],
   "source": [],
   "metadata": {
    "collapsed": false
   },
   "id": "bb1e72478f90426e"
  },
  {
   "cell_type": "code",
   "execution_count": 11,
   "outputs": [
    {
     "data": {
      "text/plain": "277369"
     },
     "execution_count": 11,
     "metadata": {},
     "output_type": "execute_result"
    }
   ],
   "source": [
    "import numpy as np\n",
    "len(np.asarray(pcds[0].points))"
   ],
   "metadata": {
    "collapsed": false,
    "ExecuteTime": {
     "end_time": "2023-10-20T09:38:54.633455Z",
     "start_time": "2023-10-20T09:38:54.619905Z"
    }
   },
   "id": "885ae9fdbcdee1d3"
  },
  {
   "cell_type": "code",
   "execution_count": 12,
   "outputs": [
    {
     "name": "stdout",
     "output_type": "stream",
     "text": [
      "[53. 45. 53.]\n",
      "53.0\n",
      "832606\n",
      "PointCloud with 277369 points.\n",
      "277369\n"
     ]
    }
   ],
   "source": [
    "import utils.pcd_utils\n",
    "pcd = utils.pcd_utils.visualize_from_one_hot_encoding(s, enc, pcds, 20, 20)"
   ],
   "metadata": {
    "collapsed": false,
    "ExecuteTime": {
     "end_time": "2023-10-20T09:38:57.969076Z",
     "start_time": "2023-10-20T09:38:56.840803Z"
    }
   },
   "id": "5be0dafeb44781ca"
  },
  {
   "cell_type": "code",
   "execution_count": 12,
   "outputs": [
    {
     "name": "stdout",
     "output_type": "stream",
     "text": [
      "\u001B[1;33m[Open3D WARNING] GLFW Error: Cocoa: Failed to find service port for display\u001B[0;m\n"
     ]
    }
   ],
   "source": [
    "import open3d as o3d\n",
    "\n",
    "o3d.visualization.draw_geometries([pcd])"
   ],
   "metadata": {
    "collapsed": false,
    "ExecuteTime": {
     "end_time": "2023-10-20T09:38:14.125762Z",
     "start_time": "2023-10-20T09:37:58.362904Z"
    }
   },
   "id": "4a001fc7f85ef612"
  },
  {
   "cell_type": "code",
   "execution_count": 15,
   "outputs": [
    {
     "name": "stdout",
     "output_type": "stream",
     "text": [
      "20 : [15.  0.  0.]\n",
      "21 : [15. 17.  0.]\n",
      "22 : [15. 17. 15.]\n",
      "23 : [15. 17. 15.]\n",
      "24 : [15. 17. 15.]\n",
      "25 : [15. 17. 15.]\n",
      "26 : [15. 17. 15.]\n",
      "27 : [15. 17. 15.]\n",
      "28 : [ 0.  0. 15.]\n",
      "29 : [0. 0. 0.]\n",
      "30 : [0. 0. 0.]\n",
      "31 : [0. 0. 0.]\n",
      "32 : [53. 45.  0.]\n",
      "33 : [53. 45.  0.]\n",
      "34 : [53. 45. 53.]\n",
      "35 : [53. 45. 53.]\n",
      "36 : [53. 45. 53.]\n",
      "37 : [53. 45. 53.]\n",
      "38 : [53. 45. 53.]\n",
      "39 : [53. 45. 53.]\n",
      "40 : [53. 45. 53.]\n",
      "41 : [53. 45. 53.]\n",
      "42 : [53. 45. 53.]\n",
      "43 : [53. 45. 53.]\n",
      "44 : [53. 45. 53.]\n",
      "45 : [ 7.  4. 53.]\n"
     ]
    }
   ],
   "source": [
    "i = enc.inverse_transform(s)\n",
    "\n",
    "start = 20\n",
    "end = 46\n",
    "for point in range(start, end) :\n",
    "    print(\"{} : {}\".format(point, i[point]))"
   ],
   "metadata": {
    "collapsed": false,
    "ExecuteTime": {
     "end_time": "2023-10-20T09:49:38.479020Z",
     "start_time": "2023-10-20T09:49:37.493493Z"
    }
   },
   "id": "ae804c460000934d"
  },
  {
   "cell_type": "code",
   "execution_count": 9,
   "outputs": [],
   "source": [
    "from sklearn.metrics.pairwise import pairwise_distances\n",
    "dist555 = pairwise_distances(s[0:450])"
   ],
   "metadata": {
    "collapsed": false,
    "ExecuteTime": {
     "end_time": "2023-10-20T09:56:28.929941Z",
     "start_time": "2023-10-20T09:56:28.864752Z"
    }
   },
   "id": "48dc37ee150b8d41"
  },
  {
   "cell_type": "code",
   "execution_count": 18,
   "outputs": [
    {
     "data": {
      "text/plain": "2.449489742783178"
     },
     "execution_count": 18,
     "metadata": {},
     "output_type": "execute_result"
    }
   ],
   "source": [
    "dist555[26, 37]"
   ],
   "metadata": {
    "collapsed": false,
    "ExecuteTime": {
     "end_time": "2023-10-20T09:40:22.550463Z",
     "start_time": "2023-10-20T09:40:22.538536Z"
    }
   },
   "id": "5e609cfc38befd21"
  },
  {
   "cell_type": "code",
   "execution_count": 27,
   "outputs": [
    {
     "data": {
      "text/plain": "(450, 450)"
     },
     "execution_count": 27,
     "metadata": {},
     "output_type": "execute_result"
    }
   ],
   "source": [
    "dist555.shape"
   ],
   "metadata": {
    "collapsed": false,
    "ExecuteTime": {
     "end_time": "2023-10-20T09:46:48.566221Z",
     "start_time": "2023-10-20T09:46:48.552465Z"
    }
   },
   "id": "4e39010b6739ce12"
  },
  {
   "cell_type": "code",
   "execution_count": 11,
   "outputs": [],
   "source": [
    "dist = np.exp(dist555)"
   ],
   "metadata": {
    "collapsed": false,
    "ExecuteTime": {
     "end_time": "2023-10-20T09:53:15.926651Z",
     "start_time": "2023-10-20T09:53:15.913054Z"
    }
   },
   "id": "d4a1fe010e37b4b8"
  },
  {
   "cell_type": "code",
   "execution_count": 14,
   "outputs": [
    {
     "data": {
      "text/plain": "array([[0.        , 0.        , 0.        , ..., 1.41421356, 1.41421356,\n        1.41421356],\n       [0.        , 0.        , 0.        , ..., 1.41421356, 1.41421356,\n        1.41421356],\n       [0.        , 0.        , 0.        , ..., 1.41421356, 1.41421356,\n        1.41421356],\n       ...,\n       [1.41421356, 1.41421356, 1.41421356, ..., 0.        , 0.        ,\n        0.        ],\n       [1.41421356, 1.41421356, 1.41421356, ..., 0.        , 0.        ,\n        0.        ],\n       [1.41421356, 1.41421356, 1.41421356, ..., 0.        , 0.        ,\n        0.        ]])"
     },
     "execution_count": 14,
     "metadata": {},
     "output_type": "execute_result"
    }
   ],
   "source": [
    "dist555"
   ],
   "metadata": {
    "collapsed": false,
    "ExecuteTime": {
     "end_time": "2023-10-20T09:54:07.925535Z",
     "start_time": "2023-10-20T09:54:07.913773Z"
    }
   },
   "id": "1ebb87a0d91d53e8"
  },
  {
   "cell_type": "code",
   "execution_count": 13,
   "outputs": [
    {
     "data": {
      "text/plain": "array([[1.        , 1.        , 1.        , ..., 4.11325038, 4.11325038,\n        4.11325038],\n       [1.        , 1.        , 1.        , ..., 4.11325038, 4.11325038,\n        4.11325038],\n       [1.        , 1.        , 1.        , ..., 4.11325038, 4.11325038,\n        4.11325038],\n       ...,\n       [4.11325038, 4.11325038, 4.11325038, ..., 1.        , 1.        ,\n        1.        ],\n       [4.11325038, 4.11325038, 4.11325038, ..., 1.        , 1.        ,\n        1.        ],\n       [4.11325038, 4.11325038, 4.11325038, ..., 1.        , 1.        ,\n        1.        ]])"
     },
     "execution_count": 13,
     "metadata": {},
     "output_type": "execute_result"
    }
   ],
   "source": [
    "dist"
   ],
   "metadata": {
    "collapsed": false,
    "ExecuteTime": {
     "end_time": "2023-10-20T09:53:43.056166Z",
     "start_time": "2023-10-20T09:53:43.044721Z"
    }
   },
   "id": "5d8d48dd4382578d"
  },
  {
   "cell_type": "code",
   "execution_count": 10,
   "outputs": [
    {
     "name": "stdout",
     "output_type": "stream",
     "text": [
      "(450, 450)\n",
      "1.0053009775053847\n",
      "ggg\n",
      "(449, 449)\n",
      "1.005379397149197\n",
      "ggg\n",
      "(448, 448)\n",
      "1.0054598190116366\n",
      "ggg\n",
      "(447, 447)\n",
      "1.0055423207654997\n",
      "ggg\n",
      "(446, 446)\n",
      "0.9980425595643315\n",
      "ggg\n",
      "(263, 263)\n",
      "1.009400075239312\n",
      "ggg\n",
      "(262, 262)\n",
      "1.009647154489983\n",
      "ggg\n",
      "(261, 261)\n",
      "1.009783896937795\n",
      "ggg\n",
      "(260, 260)\n",
      "0.9967122979374823\n",
      "ggg\n",
      "(184, 184)\n",
      "0.9997205585836595\n",
      "ggg\n",
      "(88, 88)\n",
      "1.0071310772508884\n",
      "ggg\n",
      "(38, 38)\n",
      "0.9844930755037444\n",
      "ggg\n",
      "(17, 17)\n",
      "0.995698439912337\n",
      "ggg\n",
      "(8, 8)\n",
      "inf\n",
      "(9, 9)\n",
      "1.0121062129975167\n",
      "ggg\n",
      "(7, 7)\n",
      "1.196390590523579\n",
      "ggg\n",
      "(6, 6)\n",
      "0.8989754991058333\n",
      "ggg\n",
      "(5, 5)\n",
      "0.9313211564230552\n",
      "ggg\n",
      "(4, 4)\n",
      "1.0444630713806553\n",
      "ggg\n",
      "(2, 2)\n",
      "(2, 2)\n",
      "(1, 1)\n",
      "(1, 1)\n",
      "(1, 1)\n",
      "(2, 2)\n",
      "(21, 21)\n",
      "1.119534186861145\n",
      "ggg\n",
      "(20, 20)\n",
      "0.9068235153789725\n",
      "ggg\n",
      "(19, 19)\n",
      "1.1748701714947323\n",
      "ggg\n",
      "(18, 18)\n",
      "0.8586719040159165\n",
      "ggg\n",
      "(17, 17)\n",
      "0.9386491905439174\n",
      "ggg\n",
      "(7, 7)\n",
      "0.7844543145495974\n",
      "ggg\n",
      "(6, 6)\n",
      "0.8006715770097076\n",
      "ggg\n",
      "(5, 5)\n",
      "inf\n",
      "(1, 1)\n",
      "(1, 1)\n",
      "(10, 10)\n",
      "0.7584714357839281\n",
      "ggg\n",
      "(9, 9)\n",
      "0.7648486160294723\n",
      "ggg\n",
      "(8, 8)\n",
      "0.7731627476097037\n",
      "ggg\n",
      "(7, 7)\n",
      "0.7844543145495974\n",
      "ggg\n",
      "(6, 6)\n",
      "0.9177218396437302\n",
      "ggg\n",
      "(4, 4)\n",
      "inf\n",
      "(2, 2)\n",
      "(1, 1)\n",
      "(1, 1)\n",
      "(1, 1)\n",
      "(1, 1)\n",
      "(1, 1)\n",
      "(1, 1)\n",
      "(1, 1)\n",
      "(1, 1)\n",
      "(50, 50)\n"
     ]
    },
    {
     "name": "stderr",
     "output_type": "stream",
     "text": [
      "/Users/sofiavivdich/projects/lidar-labelling/venv/lib/python3.9/site-packages/scipy/sparse/linalg/_eigen/arpack/arpack.py:939: LinAlgWarning: Diagonal number 8 is exactly zero. Singular matrix.\n",
      "  self.M_lu = lu_factor(M)\n",
      "/Users/sofiavivdich/projects/lidar-labelling/awesome_normalized_cut.py:13: RuntimeWarning: invalid value encountered in scalar divide\n",
      "  return (cost / assoc_a) + (cost / assoc_b)\n",
      "/Users/sofiavivdich/projects/lidar-labelling/venv/lib/python3.9/site-packages/scipy/sparse/linalg/_eigen/arpack/arpack.py:939: LinAlgWarning: Diagonal number 5 is exactly zero. Singular matrix.\n",
      "  self.M_lu = lu_factor(M)\n",
      "/Users/sofiavivdich/projects/lidar-labelling/venv/lib/python3.9/site-packages/scipy/sparse/linalg/_eigen/arpack/arpack.py:939: LinAlgWarning: Diagonal number 4 is exactly zero. Singular matrix.\n",
      "  self.M_lu = lu_factor(M)\n",
      "/Users/sofiavivdich/projects/lidar-labelling/venv/lib/python3.9/site-packages/scipy/sparse/linalg/_eigen/arpack/arpack.py:939: LinAlgWarning: Diagonal number 1 is exactly zero. Singular matrix.\n",
      "  self.M_lu = lu_factor(M)\n",
      "/Users/sofiavivdich/projects/lidar-labelling/venv/lib/python3.9/site-packages/scipy/sparse/linalg/_eigen/arpack/arpack.py:939: LinAlgWarning: Diagonal number 3 is exactly zero. Singular matrix.\n",
      "  self.M_lu = lu_factor(M)\n"
     ]
    },
    {
     "name": "stdout",
     "output_type": "stream",
     "text": [
      "0.9736477934814642\n",
      "ggg\n",
      "(36, 36)\n",
      "1.1100652638326358\n",
      "ggg\n",
      "(1, 1)\n",
      "(35, 35)\n",
      "0.9787100354110722\n",
      "ggg\n",
      "(29, 29)\n",
      "0.9399318112777375\n",
      "ggg\n",
      "(12, 12)\n",
      "1.6743166898287232\n",
      "ggg\n",
      "(11, 11)\n",
      "inf\n",
      "(1, 1)\n",
      "(17, 17)\n",
      "1.0360683464838063\n",
      "ggg\n",
      "(5, 5)\n",
      "inf\n",
      "(12, 12)\n",
      "0.6205349932299216\n",
      "ggg\n",
      "(11, 11)\n",
      "0.6241431327656015\n",
      "ggg\n",
      "(10, 10)\n",
      "0.6285873992740718\n",
      "ggg\n",
      "(9, 9)\n",
      "0.6341965192357523\n",
      "ggg\n",
      "(1, 1)\n",
      "(8, 8)\n",
      "0.64149752781164\n",
      "ggg\n",
      "(7, 7)\n",
      "1.4803599393981928\n",
      "ggg\n",
      "(6, 6)\n",
      "inf\n",
      "(1, 1)\n",
      "(1, 1)\n",
      "(1, 1)\n",
      "(1, 1)\n",
      "(1, 1)\n",
      "(6, 6)\n",
      "1.074855006934422\n",
      "ggg\n",
      "(3, 3)\n",
      "inf\n",
      "(3, 3)\n",
      "inf\n",
      "(14, 14)\n",
      "1.000614153374794\n",
      "ggg\n",
      "(4, 4)\n",
      "inf\n",
      "(10, 10)\n",
      "0.7584714357839281\n",
      "ggg\n",
      "(9, 9)\n",
      "0.7648486160294723\n",
      "ggg\n",
      "(8, 8)\n",
      "0.8485152435769412\n",
      "ggg\n",
      "(2, 2)\n",
      "(6, 6)\n",
      "0.8006715770097076\n",
      "ggg\n",
      "(5, 5)\n",
      "inf\n",
      "(1, 1)\n",
      "(1, 1)\n",
      "(1, 1)\n",
      "(96, 96)\n",
      "0.9842681735040507\n",
      "ggg\n",
      "(95, 95)\n",
      "1.0262373925364385\n",
      "ggg\n",
      "(94, 94)\n",
      "1.0279899690096304\n",
      "ggg\n",
      "(1, 1)\n",
      "(93, 93)\n",
      "0.9818534271117002\n",
      "ggg\n",
      "(92, 92)\n",
      "1.000943104201987\n",
      "ggg\n",
      "(55, 55)\n",
      "0.9652946939087242\n",
      "ggg\n",
      "(54, 54)\n",
      "0.9655019328791128\n",
      "ggg\n",
      "(53, 53)\n",
      "0.9657179797892484\n",
      "ggg\n",
      "(52, 52)\n",
      "1.0573692645129684\n",
      "ggg\n",
      "(51, 51)\n",
      "0.9605614989218422\n",
      "ggg\n",
      "(50, 50)\n",
      "0.9809211537439908\n",
      "ggg\n",
      "(44, 44)\n",
      "1.0717735513912228\n",
      "ggg\n",
      "(1, 1)\n",
      "(43, 43)\n",
      "0.9459710705336095\n",
      "ggg\n",
      "(42, 42)\n",
      "1.0864369433936614\n",
      "ggg\n",
      "(41, 41)\n",
      "1.1076063590584737\n",
      "ggg\n",
      "(40, 40)\n",
      "1.1423235138638026\n",
      "ggg\n",
      "(39, 39)\n",
      "0.9351620652428916\n",
      "ggg\n",
      "(17, 17)\n",
      "0.8783368992534808\n",
      "ggg\n",
      "(8, 8)\n",
      "0.64149752781164\n",
      "ggg\n",
      "(7, 7)\n",
      "0.6513918678490482\n",
      "ggg\n",
      "(6, 6)\n",
      "0.665559665277522\n",
      "ggg\n",
      "(5, 5)\n",
      "0.6875321175111442\n",
      "ggg\n",
      "(4, 4)\n",
      "0.7262098355020445\n",
      "ggg\n",
      "(3, 3)\n",
      "0.8123273572878915\n",
      "ggg\n",
      "(2, 2)\n",
      "(1, 1)\n",
      "(1, 1)\n",
      "(1, 1)\n",
      "(1, 1)\n",
      "(1, 1)\n",
      "(1, 1)\n",
      "(9, 9)\n",
      "0.6913287412035133\n",
      "ggg\n",
      "(2, 2)\n",
      "(7, 7)\n",
      "0.6513918678490482\n",
      "ggg\n",
      "(6, 6)\n",
      "0.665559665277522\n",
      "ggg\n",
      "(5, 5)\n",
      "0.6875321175111442\n",
      "ggg\n",
      "(4, 4)\n",
      "0.7262098355020445\n",
      "ggg\n",
      "(3, 3)\n",
      "0.8123273572878915\n",
      "ggg\n",
      "(2, 2)\n",
      "(1, 1)\n",
      "(1, 1)\n",
      "(1, 1)\n",
      "(1, 1)\n",
      "(1, 1)\n",
      "(22, 22)\n",
      "0.9084861394977366\n",
      "ggg\n",
      "(12, 12)\n",
      "1.6743166898287232\n",
      "ggg\n",
      "(11, 11)\n",
      "inf\n",
      "(1, 1)\n",
      "(10, 10)\n",
      "0.6285873992740718\n",
      "ggg\n",
      "(9, 9)\n",
      "0.6341965192357523\n",
      "ggg\n",
      "(8, 8)\n",
      "0.64149752781164\n",
      "ggg\n",
      "(1, 1)\n",
      "(7, 7)\n",
      "0.6513918678490482\n",
      "ggg\n",
      "(6, 6)\n",
      "0.665559665277522\n",
      "ggg\n",
      "(5, 5)\n",
      "0.6875321175111442\n",
      "ggg\n",
      "(4, 4)\n",
      "0.7262098355020445\n",
      "ggg\n",
      "(3, 3)\n",
      "0.8123273572878915\n",
      "ggg\n",
      "(1, 1)\n",
      "(2, 2)\n",
      "(1, 1)\n",
      "(1, 1)\n",
      "(1, 1)\n",
      "(1, 1)\n",
      "(1, 1)\n",
      "(1, 1)\n",
      "(1, 1)\n",
      "(1, 1)\n",
      "(1, 1)\n",
      "(1, 1)\n",
      "(6, 6)\n",
      "1.6346158184640631\n",
      "ggg\n",
      "(5, 5)\n",
      "inf\n",
      "(1, 1)\n",
      "(1, 1)\n",
      "(1, 1)\n",
      "(1, 1)\n",
      "(1, 1)\n",
      "(1, 1)\n",
      "(37, 37)\n",
      "0.9890285992323482\n",
      "ggg\n",
      "(18, 18)\n",
      "0.9716925983597456\n",
      "ggg\n",
      "(11, 11)\n",
      "0.8919699710671076\n",
      "ggg\n",
      "(10, 10)\n",
      "0.9932719078419634\n",
      "ggg\n",
      "(6, 6)\n",
      "0.8006715770097076\n",
      "ggg\n",
      "(5, 5)\n",
      "inf\n",
      "(1, 1)\n",
      "(4, 4)\n",
      "inf\n",
      "(1, 1)\n",
      "(7, 7)\n",
      "0.9551538752120127\n",
      "ggg\n",
      "(4, 4)\n",
      "inf\n",
      "(3, 3)\n",
      "0.8123273572878915\n",
      "ggg\n",
      "(1, 1)\n",
      "(2, 2)\n",
      "(19, 19)\n",
      "0.9395241921192964\n",
      "ggg\n",
      "(18, 18)\n",
      "0.9417679443468968\n",
      "ggg\n",
      "(17, 17)\n",
      "0.9725759985092051\n",
      "ggg\n",
      "(12, 12)\n",
      "0.9271138501587218\n",
      "ggg\n",
      "(8, 8)\n",
      "0.9159833777265819\n",
      "ggg\n",
      "(5, 5)\n",
      "1.0432102354727246\n",
      "ggg\n",
      "(3, 3)\n",
      "0.8123273572878915\n",
      "ggg\n",
      "(2, 2)\n",
      "(1, 1)\n",
      "(2, 2)\n",
      "(3, 3)\n",
      "0.9166666666666666\n",
      "ggg\n",
      "(1, 1)\n",
      "(2, 2)\n",
      "(4, 4)\n",
      "0.8205128205128205\n",
      "ggg\n",
      "(3, 3)\n",
      "0.9166666666666666\n",
      "ggg\n",
      "(2, 2)\n",
      "(1, 1)\n",
      "(1, 1)\n",
      "(5, 5)\n",
      "inf\n",
      "(1, 1)\n",
      "(1, 1)\n",
      "(1, 1)\n",
      "(1, 1)\n",
      "(1, 1)\n",
      "(76, 76)\n",
      "1.0325329217431458\n",
      "ggg\n",
      "(75, 75)\n",
      "0.9926899620844409\n",
      "ggg\n",
      "(28, 28)\n",
      "0.9517581695093018\n",
      "ggg\n",
      "(27, 27)\n",
      "0.9821456412962241\n",
      "ggg\n",
      "(14, 14)\n",
      "0.9570180599187921\n",
      "ggg\n",
      "(6, 6)\n",
      "0.8006715770097076\n",
      "ggg\n",
      "(1, 1)\n",
      "(5, 5)\n",
      "inf\n",
      "(8, 8)\n",
      "0.9582007929855607\n",
      "ggg\n",
      "(4, 4)\n",
      "0.7262098355020445\n",
      "ggg\n",
      "(3, 3)\n",
      "0.8123273572878915\n",
      "ggg\n",
      "(2, 2)\n",
      "(1, 1)\n",
      "(1, 1)\n",
      "(4, 4)\n",
      "inf\n",
      "(13, 13)\n",
      "0.9989401304471686\n",
      "ggg\n",
      "(3, 3)\n",
      "inf\n",
      "(10, 10)\n",
      "0.9505559318223746\n",
      "ggg\n",
      "(4, 4)\n",
      "inf\n",
      "(6, 6)\n",
      "0.8006715770097076\n",
      "ggg\n",
      "(5, 5)\n",
      "inf\n",
      "(1, 1)\n",
      "(1, 1)\n",
      "(47, 47)\n",
      "1.0668349587465804\n",
      "ggg\n",
      "(46, 46)\n",
      "0.9531104362492615\n",
      "ggg\n",
      "(45, 45)\n",
      "0.9758422315163763\n",
      "ggg\n",
      "(35, 35)\n",
      "0.9920267001190364\n",
      "ggg\n",
      "(20, 20)\n",
      "1.259824526554404\n",
      "ggg\n",
      "(19, 19)\n",
      "0.7633190471626041\n",
      "ggg\n",
      "(18, 18)\n",
      "1.2444366905512538\n",
      "ggg\n",
      "(17, 17)\n",
      "0.6094194406293245\n",
      "ggg\n",
      "(16, 16)\n",
      "0.6110347537315047\n",
      "ggg\n",
      "(15, 15)\n",
      "1.5377071796391215\n",
      "ggg\n",
      "(14, 14)\n",
      "inf\n",
      "(1, 1)\n",
      "(1, 1)\n",
      "(1, 1)\n",
      "(1, 1)\n",
      "(1, 1)\n",
      "(1, 1)\n",
      "(15, 15)\n",
      "0.9486651682749885\n",
      "ggg\n",
      "(9, 9)\n",
      "0.9464224434249894\n",
      "ggg\n",
      "(5, 5)\n",
      "inf\n",
      "(4, 4)\n",
      "0.8205128205128205\n",
      "ggg\n",
      "(3, 3)\n",
      "0.9166666666666666\n",
      "ggg\n",
      "(2, 2)\n",
      "(1, 1)\n",
      "(1, 1)\n",
      "(6, 6)\n",
      "0.8006715770097076\n",
      "ggg\n",
      "(5, 5)\n",
      "inf\n",
      "(1, 1)\n",
      "(10, 10)\n",
      "0.9180443824131981\n",
      "ggg\n",
      "(4, 4)\n",
      "0.7262098355020445\n",
      "ggg\n",
      "(3, 3)\n",
      "0.8123273572878915\n",
      "ggg\n",
      "(2, 2)\n",
      "(1, 1)\n",
      "(1, 1)\n",
      "(6, 6)\n",
      "inf\n",
      "(1, 1)\n",
      "(1, 1)\n",
      "(1, 1)\n",
      "(1, 1)\n",
      "(1, 1)\n",
      "(1, 1)\n",
      "(183, 183)\n",
      "1.013513786476432\n",
      "ggg\n",
      "(182, 182)\n",
      "1.013548112976238\n",
      "ggg\n",
      "(1, 1)\n",
      "(181, 181)\n",
      "0.9950369380361122\n",
      "ggg\n",
      "(89, 89)\n",
      "0.9932841789332536\n",
      "ggg\n",
      "(39, 39)\n",
      "1.0860822617467278\n",
      "ggg\n",
      "(38, 38)\n",
      "1.1072631606683074\n",
      "ggg\n",
      "(37, 37)\n",
      "1.1337434145866598\n",
      "ggg\n",
      "(1, 1)\n",
      "(36, 36)\n",
      "1.193951110290978\n",
      "ggg\n",
      "(35, 35)\n",
      "0.9574929262748043\n",
      "ggg\n",
      "(9, 9)\n",
      "inf\n",
      "(26, 26)\n",
      "0.7269921723656794\n",
      "ggg\n",
      "(25, 25)\n",
      "0.727708317902838\n",
      "ggg\n",
      "(24, 24)\n",
      "0.7284878819154399\n",
      "ggg\n",
      "(23, 23)\n",
      "0.7293396787439084\n",
      "ggg\n",
      "(22, 22)\n",
      "0.7302742355181736\n",
      "ggg\n",
      "(21, 21)\n",
      "0.7313042294337789\n",
      "ggg\n",
      "(20, 20)\n",
      "0.7324450662004133\n",
      "ggg\n",
      "(19, 19)\n",
      "0.7337156558598039\n",
      "ggg\n",
      "(18, 18)\n",
      "0.7351394692772615\n",
      "ggg\n",
      "(17, 17)\n",
      "0.7367460013735768\n",
      "ggg\n",
      "(16, 16)\n",
      "1.6836066132359901\n",
      "ggg\n",
      "(15, 15)\n",
      "inf\n",
      "(1, 1)\n",
      "(1, 1)\n",
      "(1, 1)\n",
      "(1, 1)\n",
      "(1, 1)\n",
      "(1, 1)\n",
      "(1, 1)\n",
      "(1, 1)\n",
      "(1, 1)\n",
      "(1, 1)\n",
      "(1, 1)\n",
      "(1, 1)\n",
      "(1, 1)\n",
      "(1, 1)\n",
      "(50, 50)\n",
      "0.9933126057380286\n",
      "ggg\n",
      "(24, 24)\n",
      "0.9300942927388992\n",
      "ggg\n",
      "(23, 23)\n",
      "1.1271201395889419\n",
      "ggg\n",
      "(22, 22)\n",
      "0.9042699160775455\n",
      "ggg\n",
      "(21, 21)\n",
      "0.9055726028023544\n",
      "ggg\n",
      "(20, 20)\n",
      "1.1713399453996751\n",
      "ggg\n",
      "(19, 19)\n",
      "1.0039719617746043\n",
      "ggg\n",
      "(5, 5)\n",
      "0.8259367314033186\n",
      "ggg\n",
      "(4, 4)\n",
      "0.8707512058522329\n",
      "ggg\n",
      "(3, 3)\n",
      "inf\n",
      "(1, 1)\n",
      "(1, 1)\n",
      "(14, 14)\n",
      "0.743097481028346\n",
      "ggg\n",
      "(13, 13)\n",
      "0.7459456564224412\n",
      "ggg\n",
      "(12, 12)\n",
      "0.7493319971183675\n",
      "ggg\n",
      "(11, 11)\n",
      "0.7534249471704547\n",
      "ggg\n",
      "(10, 10)\n",
      "1.6667094582783157\n",
      "ggg\n",
      "(9, 9)\n",
      "inf\n",
      "(1, 1)\n",
      "(1, 1)\n",
      "(1, 1)\n",
      "(1, 1)\n",
      "(1, 1)\n",
      "(1, 1)\n",
      "(1, 1)\n",
      "(1, 1)\n",
      "(1, 1)\n",
      "(1, 1)\n",
      "(26, 26)\n",
      "1.0878876377207725\n",
      "ggg\n",
      "(25, 25)\n",
      "0.9915357542224517\n",
      "ggg\n",
      "(22, 22)\n",
      "0.9779493902650587\n",
      "ggg\n",
      "(12, 12)\n",
      "0.9392968347777025\n",
      "ggg\n",
      "(10, 10)\n",
      "0.976458334246493\n",
      "ggg\n",
      "(5, 5)\n",
      "0.8736721967311679\n",
      "ggg\n",
      "(1, 1)\n",
      "(4, 4)\n",
      "0.9354225489461492\n",
      "ggg\n",
      "(2, 2)\n",
      "(2, 2)\n",
      "(5, 5)\n",
      "inf\n",
      "(2, 2)\n",
      "(10, 10)\n",
      "inf\n",
      "(3, 3)\n",
      "inf\n",
      "(1, 1)\n",
      "(92, 92)\n",
      "1.0271314478976312\n",
      "ggg\n",
      "(1, 1)\n",
      "(91, 91)\n",
      "1.0278832337563808\n",
      "ggg\n",
      "(90, 90)\n",
      "1.0308988070650802\n",
      "ggg\n",
      "(89, 89)\n",
      "0.9871917161481554\n",
      "ggg\n",
      "(43, 43)\n",
      "1.068231058757936\n",
      "ggg\n",
      "(42, 42)\n"
     ]
    },
    {
     "name": "stderr",
     "output_type": "stream",
     "text": [
      "/Users/sofiavivdich/projects/lidar-labelling/venv/lib/python3.9/site-packages/scipy/sparse/linalg/_eigen/arpack/arpack.py:939: LinAlgWarning: Diagonal number 6 is exactly zero. Singular matrix.\n",
      "  self.M_lu = lu_factor(M)\n",
      "/Users/sofiavivdich/projects/lidar-labelling/venv/lib/python3.9/site-packages/scipy/sparse/linalg/_eigen/arpack/arpack.py:939: LinAlgWarning: Diagonal number 9 is exactly zero. Singular matrix.\n",
      "  self.M_lu = lu_factor(M)\n",
      "/Users/sofiavivdich/projects/lidar-labelling/venv/lib/python3.9/site-packages/scipy/sparse/linalg/_eigen/arpack/arpack.py:939: LinAlgWarning: Diagonal number 10 is exactly zero. Singular matrix.\n",
      "  self.M_lu = lu_factor(M)\n"
     ]
    },
    {
     "name": "stdout",
     "output_type": "stream",
     "text": [
      "0.9733254739717424\n",
      "ggg\n",
      "(20, 20)\n",
      "0.9363321077110955\n",
      "ggg\n",
      "(13, 13)\n",
      "0.9376063981022471\n",
      "ggg\n",
      "(7, 7)\n",
      "0.7844543145495978\n",
      "ggg\n",
      "(6, 6)\n",
      "inf\n",
      "(1, 1)\n",
      "(6, 6)\n",
      "0.8006715770097076\n",
      "ggg\n",
      "(5, 5)\n",
      "1.6174919570103885\n",
      "ggg\n",
      "(4, 4)\n",
      "inf\n",
      "(1, 1)\n",
      "(1, 1)\n",
      "(7, 7)\n",
      "0.7844543145495974\n",
      "ggg\n",
      "(6, 6)\n",
      "0.8006715770097076\n",
      "ggg\n",
      "(5, 5)\n",
      "inf\n",
      "(1, 1)\n",
      "(1, 1)\n",
      "(22, 22)\n",
      "0.9563581680649113\n",
      "ggg\n",
      "(10, 10)\n",
      "0.9308272505765144\n",
      "ggg\n",
      "(6, 6)\n",
      "0.8006715770097076\n",
      "ggg\n",
      "(5, 5)\n",
      "inf\n",
      "(1, 1)\n",
      "(4, 4)\n",
      "0.7262098355020445\n",
      "ggg\n",
      "(3, 3)\n",
      "0.8123273572878915\n",
      "ggg\n",
      "(2, 2)\n",
      "(1, 1)\n",
      "(1, 1)\n",
      "(12, 12)\n",
      "0.9934248294756187\n",
      "ggg\n",
      "(8, 8)\n",
      "inf\n",
      "(4, 4)\n",
      "inf\n",
      "(1, 1)\n",
      "(46, 46)\n",
      "0.9846714097823096\n",
      "ggg\n",
      "(18, 18)\n",
      "1.1790736519473883\n",
      "ggg\n",
      "(17, 17)\n",
      "1.0012944994843176\n",
      "ggg\n",
      "(13, 13)\n",
      "0.7459456564224412\n",
      "ggg\n",
      "(12, 12)\n",
      "0.7493319971183675\n",
      "ggg\n",
      "(11, 11)\n",
      "0.7534249471704547\n",
      "ggg\n",
      "(10, 10)\n",
      "0.7584714357839281\n",
      "ggg\n",
      "(9, 9)\n",
      "0.7648486160294723\n",
      "ggg\n",
      "(8, 8)\n",
      "0.7731627476097037\n",
      "ggg\n",
      "(7, 7)\n",
      "0.7844543145495974\n",
      "ggg\n",
      "(6, 6)\n",
      "0.8006715770097076\n",
      "ggg\n",
      "(5, 5)\n",
      "inf\n",
      "(1, 1)\n",
      "(1, 1)\n",
      "(1, 1)\n",
      "(1, 1)\n",
      "(1, 1)\n",
      "(1, 1)\n",
      "(1, 1)\n",
      "(1, 1)\n",
      "(4, 4)\n",
      "inf\n",
      "(1, 1)\n",
      "(28, 28)\n",
      "1.1067136591628013\n",
      "ggg\n",
      "(1, 1)\n",
      "(27, 27)\n",
      "1.0029194685377194\n",
      "ggg\n",
      "(4, 4)\n",
      "inf\n",
      "(23, 23)\n",
      "1.1225649605591304\n",
      "ggg\n",
      "(2, 2)\n",
      "(21, 21)\n",
      "0.8232558139534885\n",
      "ggg\n",
      "(20, 20)\n",
      "0.8245398773006135\n",
      "ggg\n",
      "(19, 19)\n",
      "0.9517791819088793\n",
      "ggg\n",
      "(6, 6)\n",
      "0.7536231884057971\n",
      "ggg\n",
      "(5, 5)\n",
      "inf\n",
      "(1, 1)\n",
      "(13, 13)\n",
      "0.7011494252873562\n",
      "ggg\n",
      "(12, 12)\n",
      "inf\n",
      "(1, 1)\n",
      "(1, 1)\n",
      "(1, 1)\n",
      "(1, 1)\n",
      "(1, 1)\n",
      "(1, 1)\n",
      "(1, 1)\n",
      "(1, 1)\n",
      "(1, 1)\n",
      "(1, 1)\n"
     ]
    },
    {
     "name": "stderr",
     "output_type": "stream",
     "text": [
      "/Users/sofiavivdich/projects/lidar-labelling/venv/lib/python3.9/site-packages/scipy/sparse/linalg/_eigen/arpack/arpack.py:939: LinAlgWarning: Diagonal number 12 is exactly zero. Singular matrix.\n",
      "  self.M_lu = lu_factor(M)\n"
     ]
    }
   ],
   "source": [
    "import numpy as np\n",
    "labels = np.arange(450)\n",
    "# print(labels)\n",
    "\n",
    "from awesome_normalized_cut import normalized_cut\n",
    "\n",
    "u = normalized_cut(dist555, labels, 10)"
   ],
   "metadata": {
    "collapsed": false,
    "ExecuteTime": {
     "end_time": "2023-10-20T09:56:42.782206Z",
     "start_time": "2023-10-20T09:56:41.451457Z"
    }
   },
   "id": "7eb9fbeae30a2731"
  },
  {
   "cell_type": "code",
   "execution_count": 11,
   "outputs": [
    {
     "data": {
      "text/plain": "[array([ 21, 106, 122, 126, 144, 239, 435, 449]),\n array([ 28, 311]),\n array([ 57, 398]),\n array([211]),\n array([332]),\n array([74]),\n array([133, 366]),\n array([ 50, 242, 268, 365, 387]),\n array([357]),\n array([264]),\n array([ 63, 135, 164, 377]),\n array([174, 420]),\n array([416]),\n array([276]),\n array([341]),\n array([134]),\n array([388]),\n array([69]),\n array([289]),\n array([71]),\n array([65]),\n array([  6, 156, 170, 203, 220, 223, 285, 347, 406, 425, 429]),\n array([41]),\n array([ 68, 182, 231, 280, 381]),\n array([209]),\n array([175, 191, 224, 329, 334, 408]),\n array([115]),\n array([313]),\n array([410]),\n array([200]),\n array([116]),\n array([ 76, 192, 363]),\n array([376, 399, 400]),\n array([ 78, 217, 315, 383]),\n array([227, 236]),\n array([ 99, 162, 270, 303, 328]),\n array([419]),\n array([243]),\n array([290]),\n array([67]),\n array([87]),\n array([  5, 128]),\n array([177]),\n array([322]),\n array([369]),\n array([183]),\n array([235]),\n array([318]),\n array([160, 308]),\n array([ 20, 439]),\n array([196]),\n array([324]),\n array([151]),\n array([296]),\n array([316]),\n array([185, 193, 226, 272, 305, 331, 333, 348, 372, 389, 445]),\n array([54]),\n array([345]),\n array([310]),\n array([  3, 338]),\n array([354]),\n array([291]),\n array([238]),\n array([124]),\n array([437]),\n array([118]),\n array([98]),\n array([61]),\n array([58]),\n array([247]),\n array([198, 206, 254, 428, 447]),\n array([53]),\n array([215]),\n array([42]),\n array([409]),\n array([171]),\n array([241]),\n array([ 66, 179, 312, 337, 440]),\n array([259]),\n array([  0, 107, 143, 361]),\n array([417]),\n array([ 81, 187, 401, 427]),\n array([448]),\n array([110, 295]),\n array([  2, 257]),\n array([213]),\n array([102, 351]),\n array([323]),\n array([101, 364]),\n array([104, 300]),\n array([194]),\n array([446]),\n array([ 92, 173, 286, 307, 403]),\n array([204]),\n array([378]),\n array([147]),\n array([34]),\n array([146]),\n array([271]),\n array([ 39, 205, 255, 256, 430]),\n array([  1, 349]),\n array([180]),\n array([309]),\n array([ 55, 155, 260, 374]),\n array([ 77, 178, 302]),\n array([ 60, 167, 336, 438]),\n array([ 45, 161, 165, 288, 370]),\n array([353]),\n array([261]),\n array([ 11,  12,  29, 121, 138, 163, 189, 219, 248, 339, 356, 414, 423,\n        444]),\n array([114]),\n array([19]),\n array([404]),\n array([4]),\n array([172]),\n array([97]),\n array([ 95, 120, 158, 319, 441]),\n array([ 32, 431]),\n array([218]),\n array([278]),\n array([ 43, 181, 340, 342, 391]),\n array([195]),\n array([108, 346]),\n array([149]),\n array([267]),\n array([  9,  86, 137, 216, 352, 380]),\n array([184]),\n array([56]),\n array([96]),\n array([36]),\n array([47]),\n array([46]),\n array([73]),\n array([93]),\n array([ 16, 105, 141, 188, 222, 287, 306, 320, 371]),\n array([ 14,  15, 142, 157, 186, 197, 201, 208, 258, 265, 281, 335, 407,\n        424, 426]),\n array([62]),\n array([251]),\n array([436]),\n array([298]),\n array([246]),\n array([394]),\n array([415]),\n array([154]),\n array([299]),\n array([317]),\n array([127]),\n array([64]),\n array([38]),\n array([72]),\n array([ 40, 282, 350]),\n array([31]),\n array([360]),\n array([ 13, 150, 159, 228, 240, 304, 359, 412, 434]),\n array([89]),\n array([202]),\n array([221]),\n array([244]),\n array([229]),\n array([82]),\n array([390]),\n array([269]),\n array([48]),\n array([131]),\n array([117]),\n array([109, 249]),\n array([113, 130]),\n array([ 59, 139, 176, 325, 413]),\n array([367, 382]),\n array([ 22,  94, 112, 190, 230, 234, 253, 262, 402, 442]),\n array([ 18, 145, 210]),\n array([75]),\n array([52]),\n array([ 17,  49, 232, 274, 301, 443]),\n array([225]),\n array([  8,  30, 252, 263]),\n array([90]),\n array([373]),\n array([ 91, 125, 279, 393, 421]),\n array([379]),\n array([140]),\n array([ 84, 237, 245, 266, 432]),\n array([368]),\n array([111, 327]),\n array([132]),\n array([362]),\n array([100, 283, 284, 297, 330, 344, 358, 375]),\n array([ 35, 275, 411, 433]),\n array([70]),\n array([ 79, 166, 294, 326, 386]),\n array([153]),\n array([10]),\n array([396]),\n array([214]),\n array([314]),\n array([392]),\n array([343]),\n array([119]),\n array([ 80, 152, 233, 397]),\n array([85]),\n array([83]),\n array([ 44, 136, 148, 321]),\n array([ 88, 199]),\n array([103, 168, 212, 277, 405]),\n array([207]),\n array([  7,  33, 123, 250, 273, 292, 293, 355, 385, 395, 418, 422]),\n array([169]),\n array([129]),\n array([384]),\n array([26]),\n array([37]),\n array([51]),\n array([27]),\n array([25]),\n array([24]),\n array([23])]"
     },
     "execution_count": 11,
     "metadata": {},
     "output_type": "execute_result"
    }
   ],
   "source": [
    "u"
   ],
   "metadata": {
    "collapsed": false,
    "ExecuteTime": {
     "end_time": "2023-10-20T09:56:49.173798Z",
     "start_time": "2023-10-20T09:56:49.169250Z"
    }
   },
   "id": "a0351a3c0b53680d"
  },
  {
   "cell_type": "code",
   "execution_count": 12,
   "outputs": [],
   "source": [
    "# 1) выбросить ненужные точки. создать новое облако и мапу старое - новое\n",
    "# 2) voxel_down_sample применить к маленькому облаку\n",
    "# применить к нему граф кат, раскрасить по кластерам ИСХОДНОЕ маленькое облако с новыми инстансами\n",
    "# 3) kd деревья почитать чтобы найти соседей"
   ],
   "metadata": {
    "collapsed": false,
    "ExecuteTime": {
     "end_time": "2023-10-20T10:03:23.748291Z",
     "start_time": "2023-10-20T10:03:23.739265Z"
    }
   },
   "id": "e4234db97aaa7c2f"
  },
  {
   "cell_type": "code",
   "execution_count": 13,
   "outputs": [
    {
     "data": {
      "text/plain": "[array([  0,   1,   2,   3,   4,   5,   6,   7,   8,   9,  10,  11,  12,\n         13,  14,  15,  16,  17,  18,  19,  20,  21,  22,  23,  24,  25,\n         26,  28,  29,  30,  31,  32,  33,  34,  35,  36,  37,  38,  39,\n         40,  41,  42,  43,  44,  45,  46,  47,  48,  49,  50,  51,  52,\n         53,  54,  55,  56,  57,  58,  59,  60,  61,  62,  63,  64,  65,\n         66,  67,  68,  69,  70,  71,  72,  73,  74,  75,  76,  77,  78,\n         79,  80,  81,  82,  83,  84,  85,  86,  87,  88,  89,  90,  91,\n         92,  93,  94,  95,  96,  97,  98,  99, 100, 101, 102, 103, 104,\n        105, 106, 107, 108, 109, 110, 111, 112, 113, 114, 115, 116, 117,\n        118, 119, 120, 121, 122, 123, 124, 125, 126, 127, 128, 129, 130,\n        131, 132, 133, 134, 135, 136, 137, 138, 139, 140, 141, 142, 143,\n        144, 145, 146, 147, 148, 149, 150, 151, 152, 153, 154, 155, 156,\n        157, 158, 159, 160, 161, 162, 163, 164, 165, 166, 167, 168, 169,\n        170, 171, 172, 173, 174, 175, 176, 177, 178, 179, 180, 181, 182,\n        183, 184, 185, 186, 187, 188, 189, 190, 191, 192, 193, 194, 195,\n        196, 197, 198, 199, 200, 201, 202, 203, 204, 205, 206, 207, 208,\n        209, 210, 211, 212, 213, 214, 215, 216, 217, 218, 219, 220, 221,\n        222, 223, 224, 225, 226, 227, 228, 229, 230, 231, 232, 233, 234,\n        235, 236, 237, 238, 239, 240, 241, 242, 243, 244, 245, 246, 247,\n        248, 249, 250, 251, 252, 253, 254, 255, 256, 257, 258, 259, 260,\n        261, 262, 263, 264, 265, 266, 267, 268, 269, 270, 271, 272, 273,\n        274, 275, 276, 277, 278, 279, 280, 281, 282, 283, 284, 285, 286,\n        287, 288, 289, 290, 291, 292, 293, 294, 295, 296, 297, 298, 299,\n        300, 301, 302, 303, 304, 305, 306, 307, 308, 309, 310, 311, 312,\n        313, 314, 315, 316, 317, 318, 319, 320, 321, 322, 323, 324, 325,\n        326, 327, 328, 329, 330, 331, 332, 333, 334, 335, 336, 337, 338,\n        339, 340, 341, 342, 343, 344, 345, 346, 347, 348, 349, 350, 351,\n        352, 353, 354, 355, 356, 357, 358, 359, 360, 361, 362, 363, 364,\n        365, 366, 367, 368, 369, 370, 371, 372, 373, 374, 375, 376, 377,\n        378, 379, 380, 381, 382, 383, 384, 385, 386, 387, 388, 389, 390,\n        391, 392, 393, 394, 395, 396, 397, 398, 399, 400, 401, 402, 403,\n        404, 405, 406, 407, 408, 409, 410, 411, 412, 413, 414, 415, 416,\n        417, 418, 419, 420, 421, 422, 423, 424, 425, 426, 427, 428, 429,\n        430, 431, 432, 433, 434, 435, 436, 437, 438, 439, 440, 441, 442,\n        443, 444, 445, 446, 447, 448, 449]),\n array([27])]"
     },
     "execution_count": 13,
     "metadata": {},
     "output_type": "execute_result"
    }
   ],
   "source": [
    "u"
   ],
   "metadata": {
    "collapsed": false,
    "ExecuteTime": {
     "end_time": "2023-10-20T09:48:44.477454Z",
     "start_time": "2023-10-20T09:48:44.466771Z"
    }
   },
   "id": "25455f06d3499b50"
  },
  {
   "cell_type": "code",
   "execution_count": null,
   "outputs": [],
   "source": [],
   "metadata": {
    "collapsed": false
   },
   "id": "8181fd2ac233064c"
  },
  {
   "cell_type": "code",
   "execution_count": null,
   "outputs": [],
   "source": [],
   "metadata": {
    "collapsed": false
   },
   "id": "d96a2631c536f612"
  },
  {
   "cell_type": "code",
   "execution_count": null,
   "outputs": [],
   "source": [
    "import scipy.spatial\n",
    "res = scipy.spatial.distance.cdist(s, s, 'euclidean')"
   ],
   "metadata": {
    "collapsed": false,
    "ExecuteTime": {
     "start_time": "2023-10-19T18:06:42.597562Z"
    }
   },
   "id": "652da42c9128ad27"
  },
  {
   "cell_type": "code",
   "execution_count": 1,
   "outputs": [
    {
     "ename": "NameError",
     "evalue": "name 'res' is not defined",
     "output_type": "error",
     "traceback": [
      "\u001B[0;31m---------------------------------------------------------------------------\u001B[0m",
      "\u001B[0;31mNameError\u001B[0m                                 Traceback (most recent call last)",
      "Cell \u001B[0;32mIn[1], line 1\u001B[0m\n\u001B[0;32m----> 1\u001B[0m \u001B[43mres\u001B[49m\n",
      "\u001B[0;31mNameError\u001B[0m: name 'res' is not defined"
     ]
    }
   ],
   "source": [
    "res"
   ],
   "metadata": {
    "collapsed": false,
    "ExecuteTime": {
     "end_time": "2023-10-19T18:26:19.171401Z",
     "start_time": "2023-10-19T18:26:18.821955Z"
    }
   },
   "id": "c367a6b6f0ce2311"
  },
  {
   "cell_type": "code",
   "execution_count": null,
   "outputs": [],
   "source": [
    "# найти функцию которая на разреженных матрицах считает расстояния\n",
    "# на каком-то этапе надо выкинуть точки которые не попадают ни в один снимок"
   ],
   "metadata": {
    "collapsed": false
   },
   "id": "eec6aa91f68da4fc"
  }
 ],
 "metadata": {
  "kernelspec": {
   "display_name": "Python 3 (ipykernel)",
   "language": "python",
   "name": "python3"
  },
  "language_info": {
   "codemirror_mode": {
    "name": "ipython",
    "version": 3
   },
   "file_extension": ".py",
   "mimetype": "text/x-python",
   "name": "python",
   "nbconvert_exporter": "python",
   "pygments_lexer": "ipython3",
   "version": "3.9.6"
  }
 },
 "nbformat": 4,
 "nbformat_minor": 5
}
