{
 "cells": [
  {
   "cell_type": "code",
   "execution_count": null,
   "outputs": [],
   "source": [
    "from pathlib import Path\n",
    "\n",
    "from pcd_dataset.kitti_dataset import KittiDataset\n",
    "\n",
    "dataset_path = 'dataset/'\n",
    "sequence = '00'\n",
    "sam_labels_path = Path.cwd().joinpath('pipeline', 'vfm-labels', 'sam', sequence)\n",
    "\n",
    "kitti = KittiDataset(dataset_path, sequence, sam_labels_path)"
   ],
   "metadata": {
    "collapsed": false
   },
   "id": "e847962e99830a2f"
  },
  {
   "cell_type": "code",
   "execution_count": null,
   "outputs": [],
   "source": [
    "from mapping.simple_mapping import SimpleMapping\n",
    "\n",
    "sm = SimpleMapping(kitti)\n",
    "labeled_pcds = sm.get_combined_labeled_point_clouds('cam2', 20, 25)"
   ],
   "metadata": {
    "collapsed": false
   },
   "id": "2c2963d027f62259"
  }
 ],
 "metadata": {
  "kernelspec": {
   "display_name": "Python 3 (ipykernel)",
   "language": "python",
   "name": "python3"
  },
  "language_info": {
   "codemirror_mode": {
    "name": "ipython",
    "version": 3
   },
   "file_extension": ".py",
   "mimetype": "text/x-python",
   "name": "python",
   "nbconvert_exporter": "python",
   "pygments_lexer": "ipython3",
   "version": "3.9.6"
  }
 },
 "nbformat": 4,
 "nbformat_minor": 5
}
