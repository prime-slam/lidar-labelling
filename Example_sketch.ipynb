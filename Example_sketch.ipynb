{
 "cells": [
  {
   "cell_type": "code",
   "execution_count": 1,
   "outputs": [],
   "source": [
    "# favorite example\n",
    "\n",
    "# cam2, start_index = 20, end_index = 23\n",
    "\n",
    "# point №40\n",
    "# it corresponds to instance 53 (image 20)\n",
    "# it corresponds to instance 45 (image 21)\n",
    "# it corresponds to instance 53 (image 22)"
   ],
   "metadata": {
    "collapsed": false,
    "ExecuteTime": {
     "end_time": "2023-10-04T21:08:26.442303Z",
     "start_time": "2023-10-04T21:08:26.439852Z"
    }
   },
   "id": "8eadad1f7357df6"
  },
  {
   "cell_type": "code",
   "execution_count": 2,
   "outputs": [],
   "source": [
    "from pathlib import Path\n",
    "\n",
    "from pcd_dataset.kitti_dataset import KittiDataset\n",
    "\n",
    "dataset_path = 'dataset/'\n",
    "sequence = '00'\n",
    "sam_labels_path = Path.cwd().joinpath('pipeline', 'vfm-labels', 'sam', sequence)\n",
    "\n",
    "kitti = KittiDataset(dataset_path, sequence, sam_labels_path)"
   ],
   "metadata": {
    "collapsed": false,
    "ExecuteTime": {
     "end_time": "2023-10-04T21:08:27.883813Z",
     "start_time": "2023-10-04T21:08:27.125581Z"
    }
   },
   "id": "e847962e99830a2f"
  },
  {
   "cell_type": "code",
   "execution_count": 3,
   "outputs": [
    {
     "name": "stderr",
     "output_type": "stream",
     "text": [
      "INFO:simple_mapping.SimpleMapping:Image 20 processed\n",
      "INFO:simple_mapping.SimpleMapping:Image 21 processed\n",
      "INFO:simple_mapping.SimpleMapping:Image 22 processed\n"
     ]
    }
   ],
   "source": [
    "from mapping.simple_mapping import SimpleMapping\n",
    "\n",
    "sm = SimpleMapping(kitti)\n",
    "labeled_pcds, colored_pcds, coo_matrix = sm.get_combined_labeled_point_clouds('cam2', 20, 23)"
   ],
   "metadata": {
    "collapsed": false,
    "ExecuteTime": {
     "end_time": "2023-10-04T21:08:34.767954Z",
     "start_time": "2023-10-04T21:08:28.714012Z"
    }
   },
   "id": "2c2963d027f62259"
  },
  {
   "cell_type": "code",
   "execution_count": 4,
   "outputs": [
    {
     "data": {
      "text/plain": "3"
     },
     "execution_count": 4,
     "metadata": {},
     "output_type": "execute_result"
    }
   ],
   "source": [
    "len(coo_matrix)"
   ],
   "metadata": {
    "collapsed": false,
    "ExecuteTime": {
     "end_time": "2023-10-04T21:08:36.792408Z",
     "start_time": "2023-10-04T21:08:36.785303Z"
    }
   },
   "id": "b76ca802f7120ef8"
  },
  {
   "cell_type": "code",
   "execution_count": 5,
   "outputs": [
    {
     "name": "stdout",
     "output_type": "stream",
     "text": [
      "53.0\n"
     ]
    }
   ],
   "source": [
    "# point №40\n",
    "# it corresponds to instance 53 (image 22)\n",
    "print(coo_matrix[2].data[40])"
   ],
   "metadata": {
    "collapsed": false,
    "ExecuteTime": {
     "end_time": "2023-10-04T21:08:37.483438Z",
     "start_time": "2023-10-04T21:08:37.480443Z"
    }
   },
   "id": "961bc8c3c2847b7a"
  },
  {
   "cell_type": "code",
   "execution_count": 6,
   "outputs": [
    {
     "data": {
      "text/plain": "277369"
     },
     "execution_count": 6,
     "metadata": {},
     "output_type": "execute_result"
    }
   ],
   "source": [
    "len(coo_matrix[0].data)"
   ],
   "metadata": {
    "collapsed": false,
    "ExecuteTime": {
     "end_time": "2023-10-04T21:08:38.481055Z",
     "start_time": "2023-10-04T21:08:38.474876Z"
    }
   },
   "id": "17358d2f63737324"
  },
  {
   "cell_type": "code",
   "execution_count": 7,
   "outputs": [],
   "source": [
    "from mapping.sparse_matrix_utils import construct_coo_matrix_for_multiple_views_data\n",
    "\n",
    "data1 = construct_coo_matrix_for_multiple_views_data(coo_matrix)"
   ],
   "metadata": {
    "collapsed": false,
    "ExecuteTime": {
     "end_time": "2023-10-04T21:08:40.348660Z",
     "start_time": "2023-10-04T21:08:40.341108Z"
    }
   },
   "id": "a9529247f74212c4"
  },
  {
   "cell_type": "code",
   "execution_count": 8,
   "outputs": [
    {
     "data": {
      "text/plain": "45.0"
     },
     "execution_count": 8,
     "metadata": {},
     "output_type": "execute_result"
    }
   ],
   "source": [
    "# point40 corresponds to instance 45 (image 21). I want to check it in the result data\n",
    "# coo_matrix[0].data = 277369\n",
    "# 277369 + 40 = 277409 => index of point40 (image 21) in the result data\n",
    "data1[277409]"
   ],
   "metadata": {
    "collapsed": false,
    "ExecuteTime": {
     "end_time": "2023-10-04T21:08:42.381186Z",
     "start_time": "2023-10-04T21:08:42.373863Z"
    }
   },
   "id": "a48f22a4530cebd0"
  },
  {
   "cell_type": "code",
   "execution_count": 9,
   "outputs": [],
   "source": [
    "from mapping.sparse_matrix_utils import construct_coo_matrix_for_multiple_views\n",
    "\n",
    "coo_result = construct_coo_matrix_for_multiple_views(coo_matrix, 20)"
   ],
   "metadata": {
    "collapsed": false,
    "ExecuteTime": {
     "end_time": "2023-10-04T21:08:45.955608Z",
     "start_time": "2023-10-04T21:08:45.864475Z"
    }
   },
   "id": "d95b980b64944498"
  },
  {
   "cell_type": "code",
   "execution_count": 10,
   "outputs": [],
   "source": [
    "csr_multiple_views = coo_result.tocsr()"
   ],
   "metadata": {
    "collapsed": false,
    "ExecuteTime": {
     "end_time": "2023-10-04T21:08:49.963637Z",
     "start_time": "2023-10-04T21:08:49.949460Z"
    }
   },
   "id": "7f8f1a0292ea7d2b"
  },
  {
   "cell_type": "code",
   "execution_count": 11,
   "outputs": [
    {
     "data": {
      "text/plain": "53.0"
     },
     "execution_count": 11,
     "metadata": {},
     "output_type": "execute_result"
    }
   ],
   "source": [
    "# image_index = 2 (image 22) and point №40. expected value = 53\n",
    "csr_multiple_views[2, 40]"
   ],
   "metadata": {
    "collapsed": false,
    "ExecuteTime": {
     "end_time": "2023-10-04T21:08:52.265985Z",
     "start_time": "2023-10-04T21:08:52.257702Z"
    }
   },
   "id": "1415789323a075f1"
  },
  {
   "cell_type": "code",
   "execution_count": 12,
   "outputs": [
    {
     "data": {
      "text/plain": "45.0"
     },
     "execution_count": 12,
     "metadata": {},
     "output_type": "execute_result"
    }
   ],
   "source": [
    "# image_index = 1 (image 21) and point №40. expected value = 45\n",
    "csr_multiple_views[1, 40]"
   ],
   "metadata": {
    "collapsed": false,
    "ExecuteTime": {
     "end_time": "2023-10-04T21:08:53.128832Z",
     "start_time": "2023-10-04T21:08:53.124810Z"
    }
   },
   "id": "f9d4934d82ca080b"
  },
  {
   "cell_type": "code",
   "execution_count": 13,
   "outputs": [
    {
     "data": {
      "text/plain": "0.0"
     },
     "execution_count": 13,
     "metadata": {},
     "output_type": "execute_result"
    }
   ],
   "source": [
    "csr_multiple_views[0, 0]"
   ],
   "metadata": {
    "collapsed": false,
    "ExecuteTime": {
     "end_time": "2023-10-04T21:09:06.051036Z",
     "start_time": "2023-10-04T21:09:06.042786Z"
    }
   },
   "id": "d88482c3b7cea8ff"
  },
  {
   "cell_type": "code",
   "execution_count": null,
   "outputs": [],
   "source": [
    "# print(len(point_labels_dict))"
   ],
   "metadata": {
    "collapsed": false
   },
   "id": "2161e4dc37b7d638"
  },
  {
   "cell_type": "code",
   "execution_count": null,
   "outputs": [],
   "source": [
    "# point40 = point_labels_dict[40]\n",
    "# print(point40)"
   ],
   "metadata": {
    "collapsed": false
   },
   "id": "fed10e7e374c747"
  },
  {
   "cell_type": "code",
   "execution_count": null,
   "outputs": [],
   "source": [
    "# label0 = point40[0]\n",
    "# print(label0.image_index)"
   ],
   "metadata": {
    "collapsed": false
   },
   "id": "9d9570e1ea1045e6"
  },
  {
   "cell_type": "code",
   "execution_count": null,
   "outputs": [],
   "source": [
    "# label0.instance_array"
   ],
   "metadata": {
    "collapsed": false
   },
   "id": "95126d18a73b335d"
  },
  {
   "cell_type": "code",
   "execution_count": null,
   "outputs": [],
   "source": [
    "# label1 = point40[1]\n",
    "# print(label1.image_index)"
   ],
   "metadata": {
    "collapsed": false
   },
   "id": "27e9e28f948d4677"
  },
  {
   "cell_type": "code",
   "execution_count": null,
   "outputs": [],
   "source": [
    "# label1.instance_array"
   ],
   "metadata": {
    "collapsed": false
   },
   "id": "c37c72087d0ef8af"
  },
  {
   "cell_type": "code",
   "execution_count": null,
   "outputs": [],
   "source": [
    "# label2 = point40[2]\n",
    "# print(label2.image_index)"
   ],
   "metadata": {
    "collapsed": false
   },
   "id": "6f461ee838ef945c"
  },
  {
   "cell_type": "code",
   "execution_count": null,
   "outputs": [],
   "source": [
    "# label2.instance_array"
   ],
   "metadata": {
    "collapsed": false
   },
   "id": "8934c7d4c8020d36"
  }
 ],
 "metadata": {
  "kernelspec": {
   "display_name": "Python 3 (ipykernel)",
   "language": "python",
   "name": "python3"
  },
  "language_info": {
   "codemirror_mode": {
    "name": "ipython",
    "version": 3
   },
   "file_extension": ".py",
   "mimetype": "text/x-python",
   "name": "python",
   "nbconvert_exporter": "python",
   "pygments_lexer": "ipython3",
   "version": "3.9.6"
  }
 },
 "nbformat": 4,
 "nbformat_minor": 5
}
