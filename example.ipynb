{
 "cells": [
  {
   "cell_type": "code",
   "execution_count": null,
   "metadata": {},
   "outputs": [],
   "source": [
    "from src.datasets.kitti_dataset import KittiDataset\n",
    "\n",
    "dataset_path = \"dataset/\"\n",
    "sequence = \"00\"\n",
    "image_instances_path = \"pipeline/vfm-labels/sam/00/\"\n",
    "kitti = KittiDataset(dataset_path, sequence, image_instances_path)"
   ]
  },
  {
   "cell_type": "code",
   "execution_count": null,
   "metadata": {},
   "outputs": [],
   "source": [
    "from src.services.preprocessing.common.config import ConfigDTO\n",
    "\n",
    "config = ConfigDTO(\n",
    "    **{\n",
    "        \"dataset\": kitti,\n",
    "        \"start_index\": 20,\n",
    "        \"end_index\": 23,\n",
    "        \"start_image_index_offset\": 3,\n",
    "        \"cam_name\": \"cam2\",\n",
    "        \"R\": 16,\n",
    "        \"nb_neighbors\": 25,\n",
    "        \"std_ratio\": 5.0,\n",
    "        \"voxel_size\": 0.25,\n",
    "    }\n",
    ")"
   ]
  },
  {
   "cell_type": "code",
   "execution_count": null,
   "metadata": {},
   "outputs": [],
   "source": [
    "from src.services.preprocessing.init.map import InitMapProcessor\n",
    "from src.services.preprocessing.init.instances_matrix import InitInstancesMatrixProcessor\n",
    "\n",
    "init_pcd = InitMapProcessor().process(config)\n",
    "points2instances = InitInstancesMatrixProcessor().process(config, init_pcd)"
   ]
  },
  {
   "cell_type": "code",
   "execution_count": null,
   "metadata": {},
   "outputs": [],
   "source": [
    "from src.services.preprocessing.not_zero import SelectionNotZeroProcessor\n",
    "from src.services.preprocessing.in_cube import SelectionInCubeProcessor\n",
    "from src.services.preprocessing.statistical_outlier import StatisticalOutlierProcessor\n",
    "\n",
    "processors = [\n",
    "    SelectionNotZeroProcessor(),\n",
    "    SelectionInCubeProcessor(),\n",
    "    StatisticalOutlierProcessor(),\n",
    "]"
   ]
  },
  {
   "cell_type": "code",
   "execution_count": null,
   "metadata": {},
   "outputs": [],
   "source": [
    "import copy\n",
    "\n",
    "pcd = copy.deepcopy(init_pcd)\n",
    "for processor in processors:\n",
    "    pcd, points2instances = processor.process(config, pcd, points2instances)\n",
    "\n",
    "pcd_for_clustering = copy.deepcopy(pcd)"
   ]
  },
  {
   "cell_type": "code",
   "execution_count": null,
   "metadata": {},
   "outputs": [],
   "source": [
    "from src.services.preprocessing.voxel_down import VoxelDownProcessor\n",
    "\n",
    "pcd, points2instances, trace = VoxelDownProcessor().process(config, pcd, points2instances)"
   ]
  },
  {
   "cell_type": "code",
   "execution_count": null,
   "metadata": {},
   "outputs": [],
   "source": [
    "import numpy as np\n",
    "\n",
    "from scipy.spatial.distance import cdist\n",
    "from src.utils.distances_utils import sam_label_distance\n",
    "\n",
    "points = np.asarray(pcd.points)\n",
    "spatial_distance = cdist(points, points)\n",
    "\n",
    "dist, masks = sam_label_distance(points2instances, spatial_distance, 2, 10, 3)"
   ]
  },
  {
   "cell_type": "code",
   "execution_count": null,
   "metadata": {},
   "outputs": [],
   "source": [
    "dist.shape"
   ]
  },
  {
   "cell_type": "code",
   "execution_count": null,
   "metadata": {},
   "outputs": [],
   "source": [
    "from src.utils.distances_utils import remove_isolated_points\n",
    "\n",
    "dist, points, trace = remove_isolated_points(dist, points, trace)"
   ]
  },
  {
   "cell_type": "code",
   "execution_count": null,
   "metadata": {},
   "outputs": [],
   "source": [
    "dist.shape"
   ]
  },
  {
   "cell_type": "code",
   "execution_count": null,
   "metadata": {},
   "outputs": [],
   "source": [
    "from src.utils.distances_utils import extract_largest_connected_component\n",
    "\n",
    "dist_final, points_final, trace_final = extract_largest_connected_component(dist, points, trace)"
   ]
  },
  {
   "cell_type": "code",
   "execution_count": null,
   "metadata": {},
   "outputs": [],
   "source": [
    "print(dist_final.shape)\n",
    "print(len(points_final))\n",
    "print(len(trace_final))"
   ]
  },
  {
   "cell_type": "code",
   "execution_count": null,
   "metadata": {},
   "outputs": [],
   "source": [
    "dist = dist_final\n",
    "points = points_final"
   ]
  },
  {
   "cell_type": "code",
   "execution_count": null,
   "metadata": {},
   "outputs": [],
   "source": [
    "from src.services.normalized_cut_service import normalized_cut\n",
    "\n",
    "T = 0.07\n",
    "eigenval = 2\n",
    "\n",
    "clusters = normalized_cut(\n",
    "    dist,\n",
    "    np.array([i for i in range(len(points))], dtype=int),\n",
    "    T,\n",
    "    eigenval\n",
    ")"
   ]
  },
  {
   "cell_type": "code",
   "execution_count": null,
   "metadata": {},
   "outputs": [],
   "source": [
    "len(clusters)"
   ]
  },
  {
   "cell_type": "code",
   "execution_count": null,
   "metadata": {},
   "outputs": [],
   "source": [
    "from src.utils.pcd_utils import color_pcd_by_clusters_and_voxels\n",
    "\n",
    "pcd_colored = color_pcd_by_clusters_and_voxels(pcd_for_clustering, trace_final, clusters)"
   ]
  },
  {
   "cell_type": "code",
   "execution_count": null,
   "metadata": {},
   "outputs": [],
   "source": [
    "from src.utils.pcd_utils import visualize_pcd\n",
    "\n",
    "visualize_pcd(pcd_colored)"
   ]
  },
  {
   "cell_type": "code",
   "execution_count": null,
   "metadata": {},
   "outputs": [],
   "source": []
  }
 ],
 "metadata": {
  "kernelspec": {
   "display_name": "Python 3",
   "language": "python",
   "name": "python3"
  },
  "language_info": {
   "codemirror_mode": {
    "name": "ipython",
    "version": 3
   },
   "file_extension": ".py",
   "mimetype": "text/x-python",
   "name": "python",
   "nbconvert_exporter": "python",
   "pygments_lexer": "ipython3",
   "version": "3.9.6"
  },
  "orig_nbformat": 4
 },
 "nbformat": 4,
 "nbformat_minor": 2
}
