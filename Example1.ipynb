{
 "cells": [
  {
   "cell_type": "code",
   "execution_count": 1,
   "outputs": [],
   "source": [
    "from pathlib import Path\n",
    "\n",
    "from pcd_dataset.kitti_dataset import KittiDataset\n",
    "\n",
    "dataset_path = 'dataset/'\n",
    "sequence = '00'\n",
    "sam_labels_path = Path.cwd().joinpath('pipeline', 'vfm-labels', 'sam', sequence)\n",
    "\n",
    "kitti = KittiDataset(dataset_path, sequence, sam_labels_path)"
   ],
   "metadata": {
    "collapsed": false,
    "ExecuteTime": {
     "end_time": "2023-10-24T07:58:22.240018Z",
     "start_time": "2023-10-24T07:58:21.095991Z"
    }
   },
   "id": "e847962e99830a2f"
  },
  {
   "cell_type": "code",
   "execution_count": 2,
   "outputs": [
    {
     "name": "stderr",
     "output_type": "stream",
     "text": [
      "INFO:simple_mapping.SimpleMapping:Image 20 processed\n",
      "INFO:simple_mapping.SimpleMapping:Image 21 processed\n",
      "INFO:simple_mapping.SimpleMapping:Image 22 processed\n"
     ]
    }
   ],
   "source": [
    "from mapping.simple_mapping import SimpleMapping\n",
    "\n",
    "sm = SimpleMapping(kitti)\n",
    "coo_matrix, pcds = sm.get_combined_labeled_point_clouds('cam2', 20, 23)"
   ],
   "metadata": {
    "collapsed": false,
    "ExecuteTime": {
     "end_time": "2023-10-24T07:58:28.350215Z",
     "start_time": "2023-10-24T07:58:22.968144Z"
    }
   },
   "id": "2c2963d027f62259"
  },
  {
   "cell_type": "code",
   "execution_count": 3,
   "outputs": [],
   "source": [
    "from mapping.sparse_matrix_utils import construct_coo_matrix_for_multiple_views\n",
    "\n",
    "coo_result = construct_coo_matrix_for_multiple_views(coo_matrix, 20)"
   ],
   "metadata": {
    "collapsed": false,
    "ExecuteTime": {
     "end_time": "2023-10-24T07:59:00.741038Z",
     "start_time": "2023-10-24T07:59:00.619924Z"
    }
   },
   "id": "d95b980b64944498"
  },
  {
   "cell_type": "code",
   "execution_count": 4,
   "outputs": [],
   "source": [
    "from sklearn.preprocessing import OneHotEncoder\n",
    "enc = OneHotEncoder(handle_unknown='ignore', sparse_output=True)"
   ],
   "metadata": {
    "collapsed": false,
    "ExecuteTime": {
     "end_time": "2023-10-24T07:59:01.241059Z",
     "start_time": "2023-10-24T07:59:01.183108Z"
    }
   },
   "id": "a78c374fc626ffad"
  },
  {
   "cell_type": "code",
   "execution_count": 5,
   "outputs": [
    {
     "data": {
      "text/plain": "OneHotEncoder(handle_unknown='ignore')",
      "text/html": "<style>#sk-container-id-1 {color: black;}#sk-container-id-1 pre{padding: 0;}#sk-container-id-1 div.sk-toggleable {background-color: white;}#sk-container-id-1 label.sk-toggleable__label {cursor: pointer;display: block;width: 100%;margin-bottom: 0;padding: 0.3em;box-sizing: border-box;text-align: center;}#sk-container-id-1 label.sk-toggleable__label-arrow:before {content: \"▸\";float: left;margin-right: 0.25em;color: #696969;}#sk-container-id-1 label.sk-toggleable__label-arrow:hover:before {color: black;}#sk-container-id-1 div.sk-estimator:hover label.sk-toggleable__label-arrow:before {color: black;}#sk-container-id-1 div.sk-toggleable__content {max-height: 0;max-width: 0;overflow: hidden;text-align: left;background-color: #f0f8ff;}#sk-container-id-1 div.sk-toggleable__content pre {margin: 0.2em;color: black;border-radius: 0.25em;background-color: #f0f8ff;}#sk-container-id-1 input.sk-toggleable__control:checked~div.sk-toggleable__content {max-height: 200px;max-width: 100%;overflow: auto;}#sk-container-id-1 input.sk-toggleable__control:checked~label.sk-toggleable__label-arrow:before {content: \"▾\";}#sk-container-id-1 div.sk-estimator input.sk-toggleable__control:checked~label.sk-toggleable__label {background-color: #d4ebff;}#sk-container-id-1 div.sk-label input.sk-toggleable__control:checked~label.sk-toggleable__label {background-color: #d4ebff;}#sk-container-id-1 input.sk-hidden--visually {border: 0;clip: rect(1px 1px 1px 1px);clip: rect(1px, 1px, 1px, 1px);height: 1px;margin: -1px;overflow: hidden;padding: 0;position: absolute;width: 1px;}#sk-container-id-1 div.sk-estimator {font-family: monospace;background-color: #f0f8ff;border: 1px dotted black;border-radius: 0.25em;box-sizing: border-box;margin-bottom: 0.5em;}#sk-container-id-1 div.sk-estimator:hover {background-color: #d4ebff;}#sk-container-id-1 div.sk-parallel-item::after {content: \"\";width: 100%;border-bottom: 1px solid gray;flex-grow: 1;}#sk-container-id-1 div.sk-label:hover label.sk-toggleable__label {background-color: #d4ebff;}#sk-container-id-1 div.sk-serial::before {content: \"\";position: absolute;border-left: 1px solid gray;box-sizing: border-box;top: 0;bottom: 0;left: 50%;z-index: 0;}#sk-container-id-1 div.sk-serial {display: flex;flex-direction: column;align-items: center;background-color: white;padding-right: 0.2em;padding-left: 0.2em;position: relative;}#sk-container-id-1 div.sk-item {position: relative;z-index: 1;}#sk-container-id-1 div.sk-parallel {display: flex;align-items: stretch;justify-content: center;background-color: white;position: relative;}#sk-container-id-1 div.sk-item::before, #sk-container-id-1 div.sk-parallel-item::before {content: \"\";position: absolute;border-left: 1px solid gray;box-sizing: border-box;top: 0;bottom: 0;left: 50%;z-index: -1;}#sk-container-id-1 div.sk-parallel-item {display: flex;flex-direction: column;z-index: 1;position: relative;background-color: white;}#sk-container-id-1 div.sk-parallel-item:first-child::after {align-self: flex-end;width: 50%;}#sk-container-id-1 div.sk-parallel-item:last-child::after {align-self: flex-start;width: 50%;}#sk-container-id-1 div.sk-parallel-item:only-child::after {width: 0;}#sk-container-id-1 div.sk-dashed-wrapped {border: 1px dashed gray;margin: 0 0.4em 0.5em 0.4em;box-sizing: border-box;padding-bottom: 0.4em;background-color: white;}#sk-container-id-1 div.sk-label label {font-family: monospace;font-weight: bold;display: inline-block;line-height: 1.2em;}#sk-container-id-1 div.sk-label-container {text-align: center;}#sk-container-id-1 div.sk-container {/* jupyter's `normalize.less` sets `[hidden] { display: none; }` but bootstrap.min.css set `[hidden] { display: none !important; }` so we also need the `!important` here to be able to override the default hidden behavior on the sphinx rendered scikit-learn.org. See: https://github.com/scikit-learn/scikit-learn/issues/21755 */display: inline-block !important;position: relative;}#sk-container-id-1 div.sk-text-repr-fallback {display: none;}</style><div id=\"sk-container-id-1\" class=\"sk-top-container\"><div class=\"sk-text-repr-fallback\"><pre>OneHotEncoder(handle_unknown=&#x27;ignore&#x27;)</pre><b>In a Jupyter environment, please rerun this cell to show the HTML representation or trust the notebook. <br />On GitHub, the HTML representation is unable to render, please try loading this page with nbviewer.org.</b></div><div class=\"sk-container\" hidden><div class=\"sk-item\"><div class=\"sk-estimator sk-toggleable\"><input class=\"sk-toggleable__control sk-hidden--visually\" id=\"sk-estimator-id-1\" type=\"checkbox\" checked><label for=\"sk-estimator-id-1\" class=\"sk-toggleable__label sk-toggleable__label-arrow\">OneHotEncoder</label><div class=\"sk-toggleable__content\"><pre>OneHotEncoder(handle_unknown=&#x27;ignore&#x27;)</pre></div></div></div></div></div>"
     },
     "execution_count": 5,
     "metadata": {},
     "output_type": "execute_result"
    }
   ],
   "source": [
    "enc.fit((coo_result.T).toarray())"
   ],
   "metadata": {
    "collapsed": false,
    "ExecuteTime": {
     "end_time": "2023-10-24T07:59:01.772076Z",
     "start_time": "2023-10-24T07:59:01.734394Z"
    }
   },
   "id": "2161e4dc37b7d638"
  },
  {
   "cell_type": "code",
   "execution_count": 6,
   "outputs": [
    {
     "data": {
      "text/plain": "[array([ 0.,  1.,  2.,  3.,  4.,  5.,  6.,  7.,  9., 10., 11., 12., 13.,\n        14., 15., 16., 17., 18., 19., 20., 21., 22., 23., 24., 25., 26.,\n        27., 28., 29., 30., 31., 32., 33., 34., 35., 37., 38., 39., 40.,\n        42., 43., 44., 45., 46., 48., 49., 50., 51., 53., 54., 56., 57.,\n        58., 59., 62., 63., 64., 67., 68., 69., 71., 73., 74., 75., 76.,\n        77., 78., 79., 80.]),\n array([ 0.,  2.,  3.,  4.,  5.,  6.,  7., 10., 11., 12., 13., 14., 15.,\n        16., 17., 18., 19., 20., 21., 22., 23., 24., 25., 26., 27., 28.,\n        29., 30., 31., 32., 33., 34., 35., 36., 37., 39., 40., 41., 42.,\n        43., 44., 45., 47., 49., 50., 51., 52., 54., 55., 56., 58., 59.,\n        60., 62., 64., 65., 67., 69., 71., 72., 73., 74.]),\n array([ 0.,  1.,  2.,  3.,  4.,  5.,  6.,  7.,  8.,  9., 10., 11., 12.,\n        13., 14., 15., 16., 17., 18., 19., 20., 21., 22., 23., 24., 25.,\n        26., 27., 28., 30., 31., 32., 33., 34., 35., 36., 37., 38., 39.,\n        40., 41., 42., 43., 44., 45., 46., 47., 48., 49., 50., 51., 53.,\n        54., 55., 56., 57., 59., 60., 61., 62., 63., 64., 65., 67., 68.,\n        70., 71., 77., 78., 79., 81., 83., 84., 86., 87., 88., 89., 90.,\n        91., 93., 94., 95.])]"
     },
     "execution_count": 6,
     "metadata": {},
     "output_type": "execute_result"
    }
   ],
   "source": [
    "enc.categories_"
   ],
   "metadata": {
    "collapsed": false,
    "ExecuteTime": {
     "end_time": "2023-10-24T07:59:02.739325Z",
     "start_time": "2023-10-24T07:59:02.719592Z"
    }
   },
   "id": "d09dcbae106d0bb4"
  },
  {
   "cell_type": "code",
   "execution_count": 7,
   "outputs": [],
   "source": [
    "enc_coo_result = enc.transform(coo_result.T.toarray()).toarray()"
   ],
   "metadata": {
    "collapsed": false,
    "ExecuteTime": {
     "end_time": "2023-10-24T07:59:04.345262Z",
     "start_time": "2023-10-24T07:59:04.107894Z"
    }
   },
   "id": "ef673c8269c8c536"
  },
  {
   "cell_type": "code",
   "execution_count": 8,
   "outputs": [
    {
     "name": "stdout",
     "output_type": "stream",
     "text": [
      "Number of points with non-zero all instances: 92411\n",
      "Number of points with non-zero any instances: 1629\n"
     ]
    }
   ],
   "source": [
    "inverse_enc_coo_result = enc.inverse_transform(enc_coo_result)\n",
    "\n",
    "k = 0\n",
    "n = 0\n",
    "for itr in range(len(inverse_enc_coo_result)):\n",
    "    if (inverse_enc_coo_result[itr] == [0.0, 0.0, 0.0]).all():\n",
    "        k = k + 1\n",
    "    if (inverse_enc_coo_result[itr] == [0.0, 0.0, 0.0]).any():\n",
    "        n = n + 1\n",
    "        \n",
    "print(\"Number of points with non-zero all instances: {}\".format(len(inverse_enc_coo_result) - k))\n",
    "print(\"Number of points with non-zero any instances: {}\".format(len(inverse_enc_coo_result) - n))"
   ],
   "metadata": {
    "collapsed": false,
    "ExecuteTime": {
     "end_time": "2023-10-24T07:59:09.065559Z",
     "start_time": "2023-10-24T07:59:05.597452Z"
    }
   },
   "id": "f5a1e6ae872a8f1d"
  },
  {
   "cell_type": "code",
   "execution_count": 9,
   "outputs": [],
   "source": [
    "summary_pcd = pcds[0] + pcds[1] + pcds[2]"
   ],
   "metadata": {
    "collapsed": false,
    "ExecuteTime": {
     "end_time": "2023-10-24T07:59:09.845639Z",
     "start_time": "2023-10-24T07:59:09.842113Z"
    }
   },
   "id": "67fb0093257d4b5b"
  },
  {
   "cell_type": "code",
   "execution_count": 10,
   "outputs": [
    {
     "data": {
      "text/plain": "832606"
     },
     "execution_count": 10,
     "metadata": {},
     "output_type": "execute_result"
    }
   ],
   "source": [
    "len(inverse_enc_coo_result)"
   ],
   "metadata": {
    "collapsed": false,
    "ExecuteTime": {
     "end_time": "2023-10-24T07:59:12.463624Z",
     "start_time": "2023-10-24T07:59:12.449135Z"
    }
   },
   "id": "ce9646c14dc25f37"
  },
  {
   "cell_type": "code",
   "execution_count": 11,
   "outputs": [
    {
     "data": {
      "text/plain": "832606"
     },
     "execution_count": 11,
     "metadata": {},
     "output_type": "execute_result"
    }
   ],
   "source": [
    "len(summary_pcd.points)"
   ],
   "metadata": {
    "collapsed": false,
    "ExecuteTime": {
     "end_time": "2023-10-24T07:59:13.019598Z",
     "start_time": "2023-10-24T07:59:13.009823Z"
    }
   },
   "id": "f42b367257d47d69"
  },
  {
   "cell_type": "code",
   "execution_count": 12,
   "outputs": [],
   "source": [
    "inverse_enc_coo_result = enc.inverse_transform(enc_coo_result)\n",
    "points = []\n",
    "map_old_new_point_ind = {}\n",
    "\n",
    "k = 0\n",
    "for itr in range(len(inverse_enc_coo_result)):\n",
    "    if (inverse_enc_coo_result[itr] == [0.0, 0.0, 0.0]).all():\n",
    "        k = k + 1\n",
    "    else:\n",
    "        points.append(summary_pcd.points[itr])\n",
    "        dict1 = {itr:(len(points) - 1)}\n",
    "        map_old_new_point_ind.update(dict1)"
   ],
   "metadata": {
    "collapsed": false,
    "ExecuteTime": {
     "end_time": "2023-10-24T07:59:15.589731Z",
     "start_time": "2023-10-24T07:59:13.399492Z"
    }
   },
   "id": "5b570258682f67d6"
  },
  {
   "cell_type": "code",
   "execution_count": 13,
   "outputs": [
    {
     "data": {
      "text/plain": "{0: 0,\n 1: 1,\n 2: 2,\n 3: 3,\n 4: 4,\n 5: 5,\n 20: 6,\n 21: 7,\n 22: 8,\n 23: 9,\n 24: 10,\n 25: 11,\n 26: 12,\n 27: 13,\n 28: 14,\n 32: 15,\n 33: 16,\n 34: 17,\n 35: 18,\n 36: 19,\n 37: 20,\n 38: 21,\n 39: 22,\n 40: 23,\n 41: 24,\n 42: 25,\n 43: 26,\n 44: 27,\n 45: 28,\n 46: 29,\n 47: 30,\n 48: 31,\n 49: 32,\n 50: 33,\n 51: 34,\n 52: 35,\n 53: 36,\n 54: 37,\n 55: 38,\n 56: 39,\n 57: 40,\n 58: 41,\n 59: 42,\n 60: 43,\n 61: 44,\n 62: 45,\n 63: 46,\n 64: 47,\n 65: 48,\n 66: 49,\n 67: 50,\n 68: 51,\n 69: 52,\n 70: 53,\n 71: 54,\n 72: 55,\n 73: 56,\n 74: 57,\n 75: 58,\n 76: 59,\n 77: 60,\n 78: 61,\n 79: 62,\n 80: 63,\n 81: 64,\n 82: 65,\n 83: 66,\n 84: 67,\n 85: 68,\n 86: 69,\n 87: 70,\n 88: 71,\n 89: 72,\n 90: 73,\n 91: 74,\n 92: 75,\n 93: 76,\n 94: 77,\n 95: 78,\n 96: 79,\n 97: 80,\n 98: 81,\n 99: 82,\n 100: 83,\n 101: 84,\n 102: 85,\n 103: 86,\n 104: 87,\n 105: 88,\n 106: 89,\n 107: 90,\n 108: 91,\n 109: 92,\n 110: 93,\n 111: 94,\n 112: 95,\n 113: 96,\n 114: 97,\n 115: 98,\n 1153: 99,\n 1154: 100,\n 1155: 101,\n 1156: 102,\n 1157: 103,\n 1158: 104,\n 1159: 105,\n 1160: 106,\n 1161: 107,\n 1162: 108,\n 1163: 109,\n 1164: 110,\n 1165: 111,\n 1166: 112,\n 1167: 113,\n 1168: 114,\n 1169: 115,\n 1170: 116,\n 1171: 117,\n 1172: 118,\n 1173: 119,\n 1174: 120,\n 1175: 121,\n 1176: 122,\n 1177: 123,\n 1178: 124,\n 1179: 125,\n 1180: 126,\n 1181: 127,\n 1182: 128,\n 1183: 129,\n 1184: 130,\n 1185: 131,\n 1186: 132,\n 1187: 133,\n 1188: 134,\n 1189: 135,\n 1190: 136,\n 1191: 137,\n 1192: 138,\n 1193: 139,\n 1194: 140,\n 1195: 141,\n 1196: 142,\n 1197: 143,\n 1198: 144,\n 1199: 145,\n 1200: 146,\n 1201: 147,\n 1202: 148,\n 1203: 149,\n 1204: 150,\n 1205: 151,\n 1206: 152,\n 1207: 153,\n 1208: 154,\n 1209: 155,\n 1210: 156,\n 1211: 157,\n 1212: 158,\n 1213: 159,\n 1214: 160,\n 1215: 161,\n 1216: 162,\n 1217: 163,\n 1218: 164,\n 1219: 165,\n 1220: 166,\n 1221: 167,\n 1222: 168,\n 1223: 169,\n 1224: 170,\n 1225: 171,\n 1226: 172,\n 1227: 173,\n 1228: 174,\n 1229: 175,\n 1230: 176,\n 1231: 177,\n 1232: 178,\n 1233: 179,\n 1234: 180,\n 1235: 181,\n 1236: 182,\n 1237: 183,\n 1238: 184,\n 1239: 185,\n 1240: 186,\n 1241: 187,\n 1242: 188,\n 1243: 189,\n 1244: 190,\n 1245: 191,\n 1246: 192,\n 1247: 193,\n 1248: 194,\n 1249: 195,\n 1250: 196,\n 1251: 197,\n 1252: 198,\n 1253: 199,\n 1254: 200,\n 1255: 201,\n 1256: 202,\n 1257: 203,\n 1258: 204,\n 1259: 205,\n 1260: 206,\n 1261: 207,\n 1262: 208,\n 1263: 209,\n 1264: 210,\n 1265: 211,\n 1266: 212,\n 1267: 213,\n 1268: 214,\n 1269: 215,\n 1270: 216,\n 1271: 217,\n 1272: 218,\n 1273: 219,\n 1274: 220,\n 1275: 221,\n 1276: 222,\n 1277: 223,\n 1278: 224,\n 1279: 225,\n 1280: 226,\n 1281: 227,\n 1282: 228,\n 1283: 229,\n 1284: 230,\n 1285: 231,\n 1286: 232,\n 1287: 233,\n 1288: 234,\n 1289: 235,\n 1290: 236,\n 1291: 237,\n 1292: 238,\n 1293: 239,\n 1294: 240,\n 1295: 241,\n 1296: 242,\n 1297: 243,\n 1298: 244,\n 1299: 245,\n 1300: 246,\n 1301: 247,\n 1302: 248,\n 1303: 249,\n 1304: 250,\n 1305: 251,\n 1306: 252,\n 1307: 253,\n 1308: 254,\n 1309: 255,\n 1310: 256,\n 1311: 257,\n 1312: 258,\n 1313: 259,\n 1314: 260,\n 1315: 261,\n 1316: 262,\n 1317: 263,\n 1318: 264,\n 1319: 265,\n 1320: 266,\n 1321: 267,\n 1322: 268,\n 1323: 269,\n 1324: 270,\n 1325: 271,\n 1326: 272,\n 1327: 273,\n 1328: 274,\n 1329: 275,\n 1330: 276,\n 1331: 277,\n 1332: 278,\n 1333: 279,\n 1334: 280,\n 1335: 281,\n 1336: 282,\n 1337: 283,\n 1338: 284,\n 1339: 285,\n 1340: 286,\n 1341: 287,\n 1342: 288,\n 1343: 289,\n 1344: 290,\n 1345: 291,\n 1346: 292,\n 1347: 293,\n 1348: 294,\n 1349: 295,\n 1350: 296,\n 1351: 297,\n 1352: 298,\n 1353: 299,\n 1354: 300,\n 1355: 301,\n 1356: 302,\n 1357: 303,\n 1358: 304,\n 1359: 305,\n 1360: 306,\n 1361: 307,\n 1362: 308,\n 1363: 309,\n 1364: 310,\n 1365: 311,\n 1366: 312,\n 1367: 313,\n 1368: 314,\n 1369: 315,\n 1370: 316,\n 1371: 317,\n 1372: 318,\n 1373: 319,\n 1374: 320,\n 1375: 321,\n 1376: 322,\n 1377: 323,\n 1378: 324,\n 1379: 325,\n 1380: 326,\n 1381: 327,\n 1382: 328,\n 1383: 329,\n 1384: 330,\n 1385: 331,\n 1386: 332,\n 1387: 333,\n 1388: 334,\n 1389: 335,\n 1390: 336,\n 1391: 337,\n 1392: 338,\n 1393: 339,\n 1394: 340,\n 1395: 341,\n 1396: 342,\n 1397: 343,\n 1398: 344,\n 1399: 345,\n 1400: 346,\n 1401: 347,\n 1402: 348,\n 1403: 349,\n 1404: 350,\n 1405: 351,\n 1406: 352,\n 1407: 353,\n 1408: 354,\n 1409: 355,\n 1410: 356,\n 1411: 357,\n 1412: 358,\n 1413: 359,\n 1414: 360,\n 1415: 361,\n 1416: 362,\n 1417: 363,\n 1418: 364,\n 1419: 365,\n 1420: 366,\n 1421: 367,\n 1422: 368,\n 1423: 369,\n 1424: 370,\n 1425: 371,\n 1428: 372,\n 1429: 373,\n 1430: 374,\n 1431: 375,\n 1432: 376,\n 1433: 377,\n 1434: 378,\n 1435: 379,\n 1436: 380,\n 1437: 381,\n 1438: 382,\n 1439: 383,\n 1440: 384,\n 1441: 385,\n 1442: 386,\n 1443: 387,\n 1444: 388,\n 1445: 389,\n 1446: 390,\n 1447: 391,\n 1448: 392,\n 1449: 393,\n 1450: 394,\n 1451: 395,\n 1452: 396,\n 1453: 397,\n 1454: 398,\n 1455: 399,\n 1456: 400,\n 1457: 401,\n 1458: 402,\n 1459: 403,\n 1460: 404,\n 1461: 405,\n 1462: 406,\n 1463: 407,\n 1464: 408,\n 1465: 409,\n 1466: 410,\n 1467: 411,\n 1468: 412,\n 1469: 413,\n 1470: 414,\n 1471: 415,\n 1472: 416,\n 1473: 417,\n 1474: 418,\n 1475: 419,\n 1476: 420,\n 1477: 421,\n 1478: 422,\n 1479: 423,\n 1480: 424,\n 1481: 425,\n 1482: 426,\n 1483: 427,\n 1484: 428,\n 1485: 429,\n 1486: 430,\n 1487: 431,\n 1488: 432,\n 1489: 433,\n 1490: 434,\n 1491: 435,\n 1492: 436,\n 1493: 437,\n 1494: 438,\n 1495: 439,\n 1496: 440,\n 1497: 441,\n 1498: 442,\n 1499: 443,\n 1500: 444,\n 1501: 445,\n 1502: 446,\n 1503: 447,\n 1504: 448,\n 1505: 449,\n 1506: 450,\n 1507: 451,\n 1508: 452,\n 1509: 453,\n 1510: 454,\n 2379: 455,\n 2380: 456,\n 2381: 457,\n 2382: 458,\n 2383: 459,\n 2384: 460,\n 2385: 461,\n 2386: 462,\n 2387: 463,\n 2388: 464,\n 2389: 465,\n 2390: 466,\n 2391: 467,\n 2392: 468,\n 2393: 469,\n 2394: 470,\n 2395: 471,\n 2396: 472,\n 2397: 473,\n 2398: 474,\n 2399: 475,\n 2400: 476,\n 2401: 477,\n 2402: 478,\n 2403: 479,\n 2404: 480,\n 2405: 481,\n 2406: 482,\n 2407: 483,\n 2408: 484,\n 2409: 485,\n 2410: 486,\n 2411: 487,\n 2412: 488,\n 2413: 489,\n 2414: 490,\n 2415: 491,\n 2416: 492,\n 2417: 493,\n 2418: 494,\n 2419: 495,\n 2420: 496,\n 2421: 497,\n 2422: 498,\n 2423: 499,\n 2424: 500,\n 2425: 501,\n 2426: 502,\n 2427: 503,\n 2428: 504,\n 2429: 505,\n 2430: 506,\n 2431: 507,\n 2432: 508,\n 2433: 509,\n 2434: 510,\n 2435: 511,\n 2436: 512,\n 2437: 513,\n 2438: 514,\n 2439: 515,\n 2440: 516,\n 2441: 517,\n 2442: 518,\n 2443: 519,\n 2444: 520,\n 2445: 521,\n 2446: 522,\n 2447: 523,\n 2448: 524,\n 2449: 525,\n 2450: 526,\n 2451: 527,\n 2452: 528,\n 2453: 529,\n 2454: 530,\n 2455: 531,\n 2456: 532,\n 2457: 533,\n 2458: 534,\n 2459: 535,\n 2460: 536,\n 2461: 537,\n 2462: 538,\n 2463: 539,\n 2464: 540,\n 2465: 541,\n 2466: 542,\n 2467: 543,\n 2468: 544,\n 2469: 545,\n 2470: 546,\n 2471: 547,\n 2472: 548,\n 2473: 549,\n 2474: 550,\n 2475: 551,\n 2476: 552,\n 2477: 553,\n 2478: 554,\n 2479: 555,\n 2480: 556,\n 2481: 557,\n 2482: 558,\n 2483: 559,\n 2484: 560,\n 2485: 561,\n 2486: 562,\n 2487: 563,\n 2488: 564,\n 2489: 565,\n 2490: 566,\n 2492: 567,\n 2493: 568,\n 2494: 569,\n 2495: 570,\n 2496: 571,\n 2497: 572,\n 2498: 573,\n 2499: 574,\n 2500: 575,\n 2501: 576,\n 2502: 577,\n 2503: 578,\n 2504: 579,\n 2505: 580,\n 2506: 581,\n 2507: 582,\n 2508: 583,\n 2509: 584,\n 2510: 585,\n 2511: 586,\n 2512: 587,\n 2513: 588,\n 2514: 589,\n 2515: 590,\n 2516: 591,\n 2517: 592,\n 2518: 593,\n 2519: 594,\n 2520: 595,\n 2521: 596,\n 2522: 597,\n 2523: 598,\n 2524: 599,\n 2525: 600,\n 2526: 601,\n 2527: 602,\n 2528: 603,\n 2529: 604,\n 2530: 605,\n 2531: 606,\n 2532: 607,\n 2533: 608,\n 2534: 609,\n 2535: 610,\n 2536: 611,\n 2537: 612,\n 2538: 613,\n 2539: 614,\n 2540: 615,\n 2541: 616,\n 2542: 617,\n 2543: 618,\n 2544: 619,\n 2545: 620,\n 2546: 621,\n 2547: 622,\n 2548: 623,\n 2549: 624,\n 2550: 625,\n 2551: 626,\n 2552: 627,\n 2553: 628,\n 2554: 629,\n 2555: 630,\n 2556: 631,\n 2557: 632,\n 2558: 633,\n 2559: 634,\n 2560: 635,\n 2561: 636,\n 2562: 637,\n 2563: 638,\n 2564: 639,\n 2565: 640,\n 2566: 641,\n 2567: 642,\n 2568: 643,\n 2569: 644,\n 2570: 645,\n 2572: 646,\n 2573: 647,\n 2574: 648,\n 2575: 649,\n 2583: 650,\n 2584: 651,\n 2585: 652,\n 2586: 653,\n 2587: 654,\n 2588: 655,\n 2589: 656,\n 2590: 657,\n 2591: 658,\n 2592: 659,\n 2593: 660,\n 2594: 661,\n 2595: 662,\n 2596: 663,\n 2597: 664,\n 2598: 665,\n 2599: 666,\n 2600: 667,\n 2601: 668,\n 2602: 669,\n 2603: 670,\n 2604: 671,\n 2605: 672,\n 2606: 673,\n 2607: 674,\n 2608: 675,\n 2609: 676,\n 2610: 677,\n 2611: 678,\n 2612: 679,\n 2613: 680,\n 2614: 681,\n 2615: 682,\n 2616: 683,\n 2617: 684,\n 2618: 685,\n 2619: 686,\n 2620: 687,\n 2621: 688,\n 2622: 689,\n 2623: 690,\n 2624: 691,\n 2625: 692,\n 2626: 693,\n 2627: 694,\n 2628: 695,\n 2629: 696,\n 2630: 697,\n 2631: 698,\n 2632: 699,\n 2633: 700,\n 2634: 701,\n 2635: 702,\n 2636: 703,\n 2637: 704,\n 2638: 705,\n 2639: 706,\n 2640: 707,\n 2641: 708,\n 2642: 709,\n 2643: 710,\n 2644: 711,\n 2645: 712,\n 2646: 713,\n 2647: 714,\n 2648: 715,\n 2649: 716,\n 2650: 717,\n 2651: 718,\n 2652: 719,\n 2653: 720,\n 2654: 721,\n 2655: 722,\n 2656: 723,\n 2657: 724,\n 2658: 725,\n 2659: 726,\n 2660: 727,\n 2661: 728,\n 2662: 729,\n 2663: 730,\n 2664: 731,\n 2665: 732,\n 2666: 733,\n 2667: 734,\n 2668: 735,\n 2669: 736,\n 2670: 737,\n 2671: 738,\n 2672: 739,\n 2673: 740,\n 2674: 741,\n 2675: 742,\n 2676: 743,\n 2677: 744,\n 2678: 745,\n 2679: 746,\n 2680: 747,\n 2681: 748,\n 2682: 749,\n 2683: 750,\n 2684: 751,\n 2685: 752,\n 2686: 753,\n 2687: 754,\n 2688: 755,\n 2689: 756,\n 2690: 757,\n 2691: 758,\n 2692: 759,\n 2693: 760,\n 2694: 761,\n 2695: 762,\n 2696: 763,\n 2697: 764,\n 2698: 765,\n 2699: 766,\n 2700: 767,\n 2701: 768,\n 2702: 769,\n 2703: 770,\n 2704: 771,\n 2705: 772,\n 2706: 773,\n 2707: 774,\n 2708: 775,\n 2709: 776,\n 2710: 777,\n 2711: 778,\n 2712: 779,\n 2713: 780,\n 2714: 781,\n 2715: 782,\n 2716: 783,\n 2717: 784,\n 2718: 785,\n 2719: 786,\n 2720: 787,\n 2721: 788,\n 2722: 789,\n 2723: 790,\n 2724: 791,\n 2725: 792,\n 2726: 793,\n 2738: 794,\n 2739: 795,\n 2740: 796,\n 2741: 797,\n 2742: 798,\n 2743: 799,\n 2744: 800,\n 2745: 801,\n 2746: 802,\n 2747: 803,\n 2748: 804,\n 2749: 805,\n 2750: 806,\n 2751: 807,\n 2752: 808,\n 2753: 809,\n 2754: 810,\n 2755: 811,\n 2756: 812,\n 2757: 813,\n 2758: 814,\n 2759: 815,\n 2760: 816,\n 2761: 817,\n 2762: 818,\n 2763: 819,\n 2764: 820,\n 2765: 821,\n 2766: 822,\n 2767: 823,\n 2768: 824,\n 2769: 825,\n 2770: 826,\n 2771: 827,\n 2772: 828,\n 2773: 829,\n 2774: 830,\n 2775: 831,\n 2776: 832,\n 2777: 833,\n 2778: 834,\n 2779: 835,\n 2780: 836,\n 2781: 837,\n 2782: 838,\n 2783: 839,\n 2784: 840,\n 2785: 841,\n 2786: 842,\n 2787: 843,\n 2788: 844,\n 2789: 845,\n 2790: 846,\n 2791: 847,\n 2792: 848,\n 2793: 849,\n 2794: 850,\n 2795: 851,\n 2796: 852,\n 2797: 853,\n 2798: 854,\n 2799: 855,\n 2800: 856,\n 2801: 857,\n 2802: 858,\n 2803: 859,\n 2804: 860,\n 2805: 861,\n 2806: 862,\n 3558: 863,\n 3559: 864,\n 3560: 865,\n 3561: 866,\n 3562: 867,\n 3563: 868,\n 3564: 869,\n 3565: 870,\n 3566: 871,\n 3567: 872,\n 3568: 873,\n 3569: 874,\n 3570: 875,\n 3571: 876,\n 3572: 877,\n 3573: 878,\n 3574: 879,\n 3575: 880,\n 3576: 881,\n 3577: 882,\n 3578: 883,\n 3579: 884,\n 3580: 885,\n 3581: 886,\n 3582: 887,\n 3583: 888,\n 3584: 889,\n 3585: 890,\n 3586: 891,\n 3587: 892,\n 3588: 893,\n 3589: 894,\n 3590: 895,\n 3591: 896,\n 3592: 897,\n 3593: 898,\n 3594: 899,\n 3595: 900,\n 3596: 901,\n 3597: 902,\n 3598: 903,\n 3599: 904,\n 3600: 905,\n 3601: 906,\n 3602: 907,\n 3603: 908,\n 3604: 909,\n 3605: 910,\n 3606: 911,\n 3607: 912,\n 3608: 913,\n 3609: 914,\n 3610: 915,\n 3611: 916,\n 3612: 917,\n 3613: 918,\n 3614: 919,\n 3615: 920,\n 3616: 921,\n 3617: 922,\n 3618: 923,\n 3619: 924,\n 3620: 925,\n 3621: 926,\n 3622: 927,\n 3623: 928,\n 3624: 929,\n 3625: 930,\n 3626: 931,\n 3627: 932,\n 3628: 933,\n 3629: 934,\n 3630: 935,\n 3631: 936,\n 3632: 937,\n 3633: 938,\n 3634: 939,\n 3635: 940,\n 3636: 941,\n 3637: 942,\n 3638: 943,\n 3639: 944,\n 3640: 945,\n 3641: 946,\n 3642: 947,\n 3643: 948,\n 3644: 949,\n 3645: 950,\n 3646: 951,\n 3647: 952,\n 3648: 953,\n 3649: 954,\n 3650: 955,\n 3651: 956,\n 3652: 957,\n 3653: 958,\n 3654: 959,\n 3655: 960,\n 3656: 961,\n 3657: 962,\n 3658: 963,\n 3659: 964,\n 3660: 965,\n 3661: 966,\n 3662: 967,\n 3663: 968,\n 3664: 969,\n 3665: 970,\n 3666: 971,\n 3667: 972,\n 3668: 973,\n 3669: 974,\n 3670: 975,\n 3671: 976,\n 3672: 977,\n 3673: 978,\n 3674: 979,\n 3675: 980,\n 3676: 981,\n 3684: 982,\n 3685: 983,\n 3686: 984,\n 3687: 985,\n 3688: 986,\n 3689: 987,\n 3690: 988,\n 3691: 989,\n 3692: 990,\n 3693: 991,\n 3694: 992,\n 3695: 993,\n 3696: 994,\n 3697: 995,\n 3698: 996,\n 3699: 997,\n 3700: 998,\n 3701: 999,\n ...}"
     },
     "execution_count": 13,
     "metadata": {},
     "output_type": "execute_result"
    }
   ],
   "source": [
    "map_old_new_point_ind"
   ],
   "metadata": {
    "collapsed": false,
    "ExecuteTime": {
     "end_time": "2023-10-24T07:59:16.000339Z",
     "start_time": "2023-10-24T07:59:15.996234Z"
    }
   },
   "id": "389966f1841e3dba"
  },
  {
   "cell_type": "code",
   "execution_count": 14,
   "outputs": [
    {
     "data": {
      "text/plain": "61"
     },
     "execution_count": 14,
     "metadata": {},
     "output_type": "execute_result"
    }
   ],
   "source": [
    "map_old_new_point_ind[78]"
   ],
   "metadata": {
    "collapsed": false,
    "ExecuteTime": {
     "end_time": "2023-10-24T07:59:16.546554Z",
     "start_time": "2023-10-24T07:59:16.535882Z"
    }
   },
   "id": "c1e8075220e7dee5"
  },
  {
   "cell_type": "code",
   "execution_count": 15,
   "outputs": [],
   "source": [
    "enc_coo_non_zero_instances = []\n",
    "for itr in range(len(enc_coo_result)):\n",
    "    if itr in map_old_new_point_ind.keys():\n",
    "        enc_coo_non_zero_instances.append(enc_coo_result[itr])"
   ],
   "metadata": {
    "collapsed": false,
    "ExecuteTime": {
     "end_time": "2023-10-24T07:59:17.010019Z",
     "start_time": "2023-10-24T07:59:16.906093Z"
    }
   },
   "id": "942616dc730d7b98"
  },
  {
   "cell_type": "code",
   "execution_count": 16,
   "outputs": [
    {
     "name": "stdout",
     "output_type": "stream",
     "text": [
      "[48. 41. 50.]\n",
      "[48. 41. 50.]\n"
     ]
    }
   ],
   "source": [
    "inverse_enc_coo_non_zero_instances = enc.inverse_transform(enc_coo_non_zero_instances)\n",
    "print(inverse_enc_coo_non_zero_instances[61])\n",
    "print(inverse_enc_coo_result[78])"
   ],
   "metadata": {
    "collapsed": false,
    "ExecuteTime": {
     "end_time": "2023-10-24T07:59:18.863783Z",
     "start_time": "2023-10-24T07:59:18.677801Z"
    }
   },
   "id": "89e3e3957717bc4c"
  },
  {
   "cell_type": "code",
   "execution_count": 17,
   "outputs": [],
   "source": [
    "import open3d as o3d\n",
    "\n",
    "pcd_baby = o3d.geometry.PointCloud()\n",
    "pcd_baby.points = o3d.utility.Vector3dVector(points)"
   ],
   "metadata": {
    "collapsed": false,
    "ExecuteTime": {
     "end_time": "2023-10-24T07:59:19.882242Z",
     "start_time": "2023-10-24T07:59:19.862820Z"
    }
   },
   "id": "9d27b55428bc661f"
  },
  {
   "cell_type": "code",
   "execution_count": 18,
   "outputs": [],
   "source": [
    "downpcd = pcd_baby.voxel_down_sample(voxel_size=0.05)\n",
    "# o3d.visualization.draw_geometries([downpcd])"
   ],
   "metadata": {
    "collapsed": false,
    "ExecuteTime": {
     "end_time": "2023-10-24T07:59:20.314946Z",
     "start_time": "2023-10-24T07:59:20.312513Z"
    }
   },
   "id": "bb1e72478f90426e"
  },
  {
   "cell_type": "code",
   "execution_count": 19,
   "outputs": [
    {
     "data": {
      "text/plain": "array([-2.79080391,  1.66868822,  7.49760649])"
     },
     "execution_count": 19,
     "metadata": {},
     "output_type": "execute_result"
    }
   ],
   "source": [
    "downpcd.points[50000]"
   ],
   "metadata": {
    "collapsed": false,
    "ExecuteTime": {
     "end_time": "2023-10-24T07:59:21.252910Z",
     "start_time": "2023-10-24T07:59:21.238043Z"
    }
   },
   "id": "eff5190b35dc602e"
  },
  {
   "cell_type": "code",
   "execution_count": 20,
   "outputs": [
    {
     "name": "stdout",
     "output_type": "stream",
     "text": [
      "ooo\n"
     ]
    }
   ],
   "source": [
    "for it in range(len(downpcd.points)):\n",
    "    if (downpcd.points[it] == [-2.7908039129797504, 1.668688224242099, 7.497606486148587]).all():\n",
    "        print(\"ooo\")"
   ],
   "metadata": {
    "collapsed": false,
    "ExecuteTime": {
     "end_time": "2023-10-24T07:59:24.075070Z",
     "start_time": "2023-10-24T07:59:23.888787Z"
    }
   },
   "id": "becde97cb5320d3e"
  },
  {
   "cell_type": "code",
   "execution_count": 21,
   "outputs": [],
   "source": [
    "from sklearn.metrics.pairwise import pairwise_distances\n",
    "distances = pairwise_distances(enc_coo_non_zero_instances[:20000])"
   ],
   "metadata": {
    "collapsed": false,
    "ExecuteTime": {
     "end_time": "2023-10-24T07:59:34.249826Z",
     "start_time": "2023-10-24T07:59:32.041940Z"
    }
   },
   "id": "261ef9638dc2b132"
  },
  {
   "cell_type": "code",
   "execution_count": 22,
   "outputs": [
    {
     "data": {
      "text/plain": "(20000, 20000)"
     },
     "execution_count": 22,
     "metadata": {},
     "output_type": "execute_result"
    }
   ],
   "source": [
    "distances.shape"
   ],
   "metadata": {
    "collapsed": false,
    "ExecuteTime": {
     "end_time": "2023-10-24T07:59:34.710289Z",
     "start_time": "2023-10-24T07:59:34.696711Z"
    }
   },
   "id": "f2a7917a653616c3"
  },
  {
   "cell_type": "code",
   "execution_count": null,
   "outputs": [
    {
     "name": "stdout",
     "output_type": "stream",
     "text": [
      "1\n",
      "(20000, 20000)\n",
      "2\n",
      "3\n",
      "4\n",
      "5\n",
      "6\n",
      "7\n"
     ]
    }
   ],
   "source": [
    "from awesome_normalized_cut import normalized_cut\n",
    "\n",
    "clusters = normalized_cut(distances, pcd_baby.points[20000], 1.1)"
   ],
   "metadata": {
    "collapsed": false,
    "is_executing": true,
    "ExecuteTime": {
     "start_time": "2023-10-24T07:59:37.259305Z"
    }
   },
   "id": "8578bf908e2ba88c"
  },
  {
   "cell_type": "code",
   "execution_count": 54,
   "outputs": [
    {
     "data": {
      "text/plain": "[array([272, 692, 878]),\n array([ 61, 563, 736, 891, 903]),\n array([127, 252, 764, 941]),\n array([ 36, 185, 423, 668, 893]),\n array([ 75, 110, 140, 335, 678]),\n array([433, 583, 687]),\n array([477]),\n array([323, 956]),\n array([ 60, 224, 503, 683, 823]),\n array([ 94, 234, 499]),\n array([ 22, 177, 375]),\n array([277, 539, 721]),\n array([373, 554]),\n array([397]),\n array([457]),\n array([ 44, 439, 633, 693, 901]),\n array([321, 528, 826]),\n array([871]),\n array([ 27,  49, 237, 567, 857]),\n array([429, 611]),\n array([182, 379, 415]),\n array([197, 362, 628, 756, 869]),\n array([384]),\n array([128]),\n array([124, 691, 763]),\n array([419, 607, 629]),\n array([ 82, 133, 656]),\n array([441, 625]),\n array([204, 349, 380, 483]),\n array([939]),\n array([ 21, 157, 209, 403, 815]),\n array([14]),\n array([100, 636]),\n array([ 99, 132, 690, 970]),\n array([390, 626, 972]),\n array([299, 463, 806]),\n array([313, 920]),\n array([351]),\n array([597, 684, 750, 935]),\n array([428, 556]),\n array([307, 367, 377, 879]),\n array([555, 724, 950]),\n array([417, 603, 694]),\n array([  2, 616, 645, 804]),\n array([789]),\n array([ 43, 521, 695]),\n array([332, 912, 926]),\n array([263, 513, 827, 923]),\n array([229, 245, 565, 798, 914]),\n array([  0,  68, 740]),\n array([487, 987]),\n array([320, 530, 910]),\n array([104]),\n array([431, 569, 976]),\n array([749, 994]),\n array([180, 247, 450, 913]),\n array([921]),\n array([62]),\n array([126, 681]),\n array([184, 432]),\n array([461, 657]),\n array([291, 706, 848, 870]),\n array([144, 167, 242, 343, 588, 596, 775, 860]),\n array([805]),\n array([639, 832]),\n array([114, 341, 374]),\n array([598, 729, 745]),\n array([ 50, 162]),\n array([ 89, 179, 333, 599, 895]),\n array([414]),\n array([  9, 198, 296, 370, 781]),\n array([192, 459, 707, 715]),\n array([129, 143, 744]),\n array([58]),\n array([304]),\n array([523]),\n array([559, 817]),\n array([138, 264, 486, 768, 777, 825, 882]),\n array([ 87, 568, 733, 793, 917]),\n array([101, 426, 592, 660, 967]),\n array([103, 536, 712, 822]),\n array([ 10,  28, 552, 619, 670, 844, 885, 899]),\n array([389, 543]),\n array([470, 778]),\n array([ 67, 329, 916]),\n array([954]),\n array([475, 561, 801]),\n array([468, 796]),\n array([81]),\n array([866, 986]),\n array([ 63, 363, 506, 835]),\n array([490, 635]),\n array([ 41, 123, 579, 943]),\n array([315]),\n array([342, 508]),\n array([617, 938]),\n array([121, 150, 225, 448]),\n array([163, 312, 807, 877]),\n array([430, 884]),\n array([130, 274, 742]),\n array([ 23, 294, 353]),\n array([534, 746]),\n array([408, 557, 562, 710]),\n array([288, 620, 982]),\n array([339, 473, 795]),\n array([142, 149, 156, 254, 808]),\n array([266, 732, 872]),\n array([621, 810, 948]),\n array([437]),\n array([308, 452, 517, 703]),\n array([958]),\n array([845]),\n array([113, 412, 548, 701]),\n array([ 31, 119, 136]),\n array([ 39, 381, 500]),\n array([146, 613, 751]),\n array([152, 547, 816]),\n array([ 19,  91, 643, 671, 908]),\n array([193, 862]),\n array([369, 512]),\n array([467, 553, 672]),\n array([497, 999]),\n array([527, 608, 658, 853]),\n array([449, 585]),\n array([256, 911]),\n array([220, 392, 896, 942]),\n array([ 37, 248, 425, 550, 560]),\n array([131, 356, 850, 890]),\n array([227, 280, 396, 538, 766, 787, 868, 906]),\n array([155, 267, 833, 957]),\n array([726, 907]),\n array([8]),\n array([218]),\n array([ 96, 292]),\n array([436, 520, 570, 797, 894]),\n array([696, 902]),\n array([600, 676, 770, 944]),\n array([837]),\n array([883]),\n array([737]),\n array([743, 947]),\n array([546]),\n array([317]),\n array([135, 270, 697, 855, 886]),\n array([116, 302, 575, 802]),\n array([188, 574, 824]),\n array([195, 458, 785, 897]),\n array([476, 665, 998]),\n array([154, 720]),\n array([  4,  35, 297, 646, 814]),\n array([842]),\n array([464]),\n array([74]),\n array([ 45, 111, 435, 571, 590, 968]),\n array([285, 322, 460, 702, 904, 977]),\n array([360, 420, 637]),\n array([485, 627, 669]),\n array([386, 519, 631]),\n array([205]),\n array([287, 345, 514]),\n array([638, 730, 905]),\n array([305, 644, 820, 990]),\n array([344, 974]),\n array([284, 491, 829]),\n array([105, 239]),\n array([ 57, 593, 799, 918]),\n array([409, 526, 975]),\n array([40]),\n array([445, 831]),\n array([258]),\n array([ 46, 786, 898]),\n array([ 69, 134, 253, 488, 686, 771]),\n array([ 16, 533, 748]),\n array([364]),\n array([773]),\n array([194, 269, 326, 851, 983]),\n array([469, 653]),\n array([531, 674]),\n array([145, 170, 334, 413]),\n array([ 70, 722, 979]),\n array([ 85, 758, 960]),\n array([226, 411, 498, 675]),\n array([401, 940]),\n array([289, 615, 734]),\n array([453, 545, 664]),\n array([838, 973]),\n array([190, 394]),\n array([183, 784]),\n array([ 72, 535]),\n array([  3, 199, 680]),\n array([446]),\n array([174, 391]),\n array([118, 233]),\n array([642, 836, 989]),\n array([492, 719]),\n array([708, 981]),\n array([ 88, 172, 240, 295]),\n array([191, 331, 624]),\n array([ 84,  95, 604, 630]),\n array([532, 576, 610, 728, 754]),\n array([442, 925]),\n array([404]),\n array([165, 228, 738]),\n array([173, 314, 651, 881]),\n array([196, 444]),\n array([251, 854]),\n array([782]),\n array([293, 725, 996]),\n array([ 30, 189, 244, 772, 876]),\n array([298, 482]),\n array([324, 618, 761, 937]),\n array([510, 537, 792, 849]),\n array([125, 673]),\n array([969]),\n array([589, 858]),\n array([365, 875, 993]),\n array([338, 502, 649, 747, 873]),\n array([55]),\n array([161, 215, 757]),\n array([200, 705, 946]),\n array([ 12, 139, 206, 208, 286, 311, 405, 424, 434, 465, 516, 591, 640,\n        641, 755, 788, 830, 931, 964]),\n array([698]),\n array([406, 992]),\n array([181, 717]),\n array([141, 169, 739, 919]),\n array([ 83, 203, 602]),\n array([262, 400, 495, 700]),\n array([541, 718]),\n array([6]),\n array([929]),\n array([11]),\n array([518]),\n array([212, 609, 803, 961]),\n array([187, 214, 564, 852]),\n array([ 80, 949]),\n array([479]),\n array([953]),\n array([153, 219, 376, 416, 540]),\n array([236, 257, 359, 440, 478]),\n array([300, 846, 951]),\n array([283, 355]),\n array([325, 466, 634]),\n array([791, 859]),\n array([309, 505, 811]),\n array([278, 352]),\n array([327, 572, 952]),\n array([13]),\n array([ 93, 115, 137, 175, 202, 213, 250, 259, 310, 337, 350, 358, 387,\n        398, 462, 493, 509, 544, 623, 685, 699, 723, 735, 753, 818, 934,\n        963]),\n array([ 48, 166, 319, 454, 714]),\n array([965]),\n array([  7,  33,  76, 765, 922]),\n array([652]),\n array([282, 812, 985]),\n array([148, 679, 834, 892]),\n array([59]),\n array([357, 421, 594]),\n array([211, 455]),\n array([427, 489, 659]),\n array([348, 783]),\n array([909]),\n array([  5, 276, 794]),\n array([ 54, 704, 930, 995]),\n array([393, 496]),\n array([366, 447, 578]),\n array([813, 865]),\n array([186, 856]),\n array([612, 800]),\n array([207, 759, 864]),\n array([178, 273, 666]),\n array([147, 160, 843, 962]),\n array([371]),\n array([418, 542, 711]),\n array([117, 222, 648]),\n array([580, 840]),\n array([ 86, 966]),\n array([109, 265, 347, 372, 456, 606]),\n array([158, 301, 776]),\n array([ 79,  97, 290, 595, 933]),\n array([223, 255, 378, 688, 762, 900, 945]),\n array([29]),\n array([ 34, 410, 471, 605]),\n array([422, 586]),\n array([494, 654]),\n array([176, 841, 861]),\n array([383, 874]),\n array([306, 346, 472]),\n array([ 78, 122, 151, 246, 566]),\n array([819, 978]),\n array([632, 663, 779]),\n array([279, 614]),\n array([168, 340]),\n array([232, 760, 980]),\n array([ 65, 230, 847, 924]),\n array([549, 662]),\n array([522]),\n array([328, 438, 863]),\n array([ 20, 474, 650]),\n array([ 73,  98, 159, 210]),\n array([260, 480, 511, 682]),\n array([112, 769]),\n array([261, 336, 501, 551]),\n array([243, 385, 395, 529, 577]),\n array([388]),\n array([ 18,  64, 709, 887, 971]),\n array([106, 303, 354]),\n array([558, 752]),\n array([ 15, 102, 221, 275, 828, 936]),\n array([ 24, 108, 889]),\n array([171, 271, 713, 780]),\n array([38]),\n array([217]),\n array([71]),\n array([582]),\n array([667, 928]),\n array([727, 867]),\n array([587, 839, 991]),\n array([525, 689, 809]),\n array([ 17,  56,  90, 120, 201, 741]),\n array([515]),\n array([504, 716]),\n array([ 32,  53, 107, 231, 268, 281, 451, 601, 661, 790, 888, 959]),\n array([ 26,  47, 821, 927]),\n array([ 42, 235, 484, 767, 988]),\n array([731]),\n array([316, 368, 443, 915]),\n array([  1, 402, 573, 677]),\n array([ 77, 238, 507]),\n array([ 52, 647, 880]),\n array([ 66, 407, 581]),\n array([241, 932]),\n array([399, 984]),\n array([361, 382]),\n array([ 51, 249, 481, 584]),\n array([318]),\n array([ 25, 524, 774, 997]),\n array([ 92, 164]),\n array([330, 622, 655, 955]),\n array([216])]"
     },
     "execution_count": 54,
     "metadata": {},
     "output_type": "execute_result"
    }
   ],
   "source": [
    "clusters"
   ],
   "metadata": {
    "collapsed": false,
    "ExecuteTime": {
     "end_time": "2023-10-22T17:52:08.561854Z",
     "start_time": "2023-10-22T17:52:08.531636Z"
    }
   },
   "id": "90c5db66ace661d3"
  },
  {
   "cell_type": "code",
   "execution_count": 55,
   "outputs": [
    {
     "data": {
      "text/plain": "array([48., 41., 50.])"
     },
     "execution_count": 55,
     "metadata": {},
     "output_type": "execute_result"
    }
   ],
   "source": [
    "inverse_enc_coo_non_zero_instances[61]"
   ],
   "metadata": {
    "collapsed": false,
    "ExecuteTime": {
     "end_time": "2023-10-22T17:52:18.463738Z",
     "start_time": "2023-10-22T17:52:18.420976Z"
    }
   },
   "id": "1a2647642220b9f9"
  },
  {
   "cell_type": "code",
   "execution_count": 56,
   "outputs": [
    {
     "data": {
      "text/plain": "array([ 0., 13., 30.])"
     },
     "execution_count": 56,
     "metadata": {},
     "output_type": "execute_result"
    }
   ],
   "source": [
    "inverse_enc_coo_non_zero_instances[563]"
   ],
   "metadata": {
    "collapsed": false,
    "ExecuteTime": {
     "end_time": "2023-10-22T17:52:25.871026Z",
     "start_time": "2023-10-22T17:52:25.821470Z"
    }
   },
   "id": "d25d9f6673aee2ec"
  },
  {
   "cell_type": "code",
   "execution_count": 43,
   "outputs": [
    {
     "data": {
      "text/plain": "array([9.29407103, 0.40789549, 0.18582554])"
     },
     "execution_count": 43,
     "metadata": {},
     "output_type": "execute_result"
    }
   ],
   "source": [
    "clusters[0][9999]"
   ],
   "metadata": {
    "collapsed": false,
    "ExecuteTime": {
     "end_time": "2023-10-22T17:39:52.179935Z",
     "start_time": "2023-10-22T17:39:52.163914Z"
    }
   },
   "id": "a0351a3c0b53680d"
  },
  {
   "cell_type": "code",
   "execution_count": 12,
   "outputs": [],
   "source": [
    "# 1) выбросить ненужные точки. создать новое облако и мапу старое - новое\n",
    "# 2) voxel_down_sample применить к маленькому облаку\n",
    "# применить к нему граф кат, раскрасить по кластерам ИСХОДНОЕ маленькое облако с новыми инстансами\n",
    "# 3) kd деревья почитать чтобы найти соседей"
   ],
   "metadata": {
    "collapsed": false,
    "ExecuteTime": {
     "end_time": "2023-10-20T10:03:23.748291Z",
     "start_time": "2023-10-20T10:03:23.739265Z"
    }
   },
   "id": "e4234db97aaa7c2f"
  }
 ],
 "metadata": {
  "kernelspec": {
   "display_name": "Python 3 (ipykernel)",
   "language": "python",
   "name": "python3"
  },
  "language_info": {
   "codemirror_mode": {
    "name": "ipython",
    "version": 3
   },
   "file_extension": ".py",
   "mimetype": "text/x-python",
   "name": "python",
   "nbconvert_exporter": "python",
   "pygments_lexer": "ipython3",
   "version": "3.9.6"
  }
 },
 "nbformat": 4,
 "nbformat_minor": 5
}
