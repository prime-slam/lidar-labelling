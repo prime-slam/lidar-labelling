{
 "cells": [
  {
   "cell_type": "code",
   "execution_count": null,
   "metadata": {},
   "outputs": [],
   "source": [
    "from pcd_dataset.kitti_dataset import KittiDataset\n",
    "\n",
    "dataset_path = 'dataset_baby/'\n",
    "sequence = '00'\n",
    "image_instances_path = 'pipeline_baby/vfm-labels/sam/00/'\n",
    "kitti = KittiDataset(dataset_path, sequence, image_instances_path)"
   ]
  },
  {
   "cell_type": "code",
   "execution_count": null,
   "metadata": {},
   "outputs": [],
   "source": [
    "start_index = 20\n",
    "end_index = 23\n",
    "cam_name = 'cam2'"
   ]
  },
  {
   "cell_type": "code",
   "execution_count": null,
   "metadata": {},
   "outputs": [],
   "source": [
    "from services.label_service import get_map_not_zero_in_sphere\n",
    "\n",
    "map, points2instances = get_map_not_zero_in_sphere(kitti, cam_name, start_index, end_index, 8, False)"
   ]
  },
  {
   "cell_type": "code",
   "execution_count": null,
   "metadata": {},
   "outputs": [],
   "source": [
    "from services.label_service import build_custom_voxel_pcd\n",
    "\n",
    "voxel_pcd, voxel_points2instances, voxel_trace = build_custom_voxel_pcd(map, points2instances)\n",
    "\n",
    "import open3d as o3d\n",
    "from utils.pcd_utils import color_pcd_by_labels\n",
    "\n",
    "voxel_pcd_colored = color_pcd_by_labels(voxel_pcd, voxel_points2instances[:, 1])\n",
    "o3d.visualization.draw_geometries([voxel_pcd_colored])"
   ]
  },
  {
   "cell_type": "code",
   "execution_count": null,
   "metadata": {},
   "outputs": [],
   "source": [
    "import numpy as np\n",
    "\n",
    "from scipy.spatial.distance import cdist\n",
    "from utils.distances_utils import sam_label_distance\n",
    "\n",
    "points = np.asarray(voxel_pcd.points)\n",
    "spatial_distance = cdist(points, points)\n",
    "\n",
    "print(\"len(voxel_pcd.points) = {}\".format(len(voxel_pcd.points)))\n",
    "print(\"len(voxel_points2instances) = {}\".format(len(voxel_points2instances)))\n",
    "\n",
    "dist, masks = sam_label_distance(voxel_points2instances, spatial_distance, 2, 10)"
   ]
  },
  {
   "cell_type": "code",
   "execution_count": null,
   "metadata": {},
   "outputs": [],
   "source": [
    "from services.normalized_cut_service import normalized_cut\n",
    "\n",
    "T = 0.3\n",
    "clusters = normalized_cut(dist, np.asarray(points), T)"
   ]
  },
  {
   "cell_type": "code",
   "execution_count": null,
   "metadata": {},
   "outputs": [],
   "source": [
    "len(clusters)"
   ]
  },
  {
   "cell_type": "code",
   "execution_count": null,
   "metadata": {},
   "outputs": [],
   "source": [
    "import numpy as np\n",
    "from scipy.spatial import KDTree\n",
    "\n",
    "cloud1 = np.asarray(map.points)\n",
    "cloud2 = np.asarray(voxel_pcd.points)\n",
    "\n",
    "# Build KD-trees for each point cloud\n",
    "tree1 = KDTree(cloud1)\n",
    "tree2 = KDTree(cloud2)\n",
    "\n",
    "# Find nearest neighbors for each point in cloud1\n",
    "dists, indices = tree2.query(cloud1, k=1)\n",
    "\n",
    "# Get the neighbor points from cloud2\n",
    "neighbors = cloud2[indices]"
   ]
  },
  {
   "cell_type": "code",
   "execution_count": null,
   "metadata": {},
   "outputs": [],
   "source": [
    "from utils.pcd_utils import color_pcd_by_clusters_common\n",
    "\n",
    "import open3d as o3d\n",
    "\n",
    "pcd_clustered1, pcd_clustered2, counter1, counter2 = color_pcd_by_clusters_common(map, clusters, neighbors)\n",
    "\n",
    "print(\"counter1 = {}, counter2 = {}\".format(counter1, counter2))\n",
    "print(\"removed points = {}\".format(len(map.points) - len(voxel_pcd.points)))\n",
    "print(\"len(map.points) = {}\".format(len(map.points)))\n",
    "print(\"len(voxel_pcd.points) = {}\".format(len(voxel_pcd.points)))\n",
    "\n",
    "o3d.visualization.draw_geometries([pcd_clustered1])\n",
    "o3d.visualization.draw_geometries([pcd_clustered2])"
   ]
  },
  {
   "cell_type": "code",
   "execution_count": null,
   "metadata": {},
   "outputs": [],
   "source": []
  }
 ],
 "metadata": {
  "kernelspec": {
   "display_name": "Python 3",
   "language": "python",
   "name": "python3"
  },
  "language_info": {
   "codemirror_mode": {
    "name": "ipython",
    "version": 3
   },
   "file_extension": ".py",
   "mimetype": "text/x-python",
   "name": "python",
   "nbconvert_exporter": "python",
   "pygments_lexer": "ipython3",
   "version": "3.9.6"
  },
  "orig_nbformat": 4
 },
 "nbformat": 4,
 "nbformat_minor": 2
}
