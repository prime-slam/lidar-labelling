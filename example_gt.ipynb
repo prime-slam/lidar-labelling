{
 "cells": [
  {
   "cell_type": "code",
   "execution_count": null,
   "metadata": {},
   "outputs": [],
   "source": [
    "from src.datasets.kitti_dataset import KittiDataset\n",
    "\n",
    "dataset_path = \"dataset/\"\n",
    "sequence = \"00\"\n",
    "image_instances_path = \"pipeline/vfm-labelss/sam/00/\"\n",
    "gt_labels_path = \"dataset/sequences/00/labels/\"\n",
    "kitti = KittiDataset(dataset_path, sequence, image_instances_path)"
   ]
  },
  {
   "cell_type": "code",
   "execution_count": null,
   "metadata": {},
   "outputs": [],
   "source": [
    "from src.services.preprocessing.common.config import ConfigDTO\n",
    "\n",
    "config = ConfigDTO(\n",
    "    **{\n",
    "        \"dataset\": kitti,\n",
    "        \"start_index\": 20,\n",
    "        \"end_index\": 24,\n",
    "        \"start_image_index_offset\": 3,\n",
    "        \"cam_name\": \"cam2\",\n",
    "        \"R\": 18,\n",
    "        \"nb_neighbors\": 25,\n",
    "        \"std_ratio\": 5.0,\n",
    "        \"voxel_size\": 0.25,\n",
    "    }\n",
    ")"
   ]
  },
  {
   "cell_type": "code",
   "execution_count": null,
   "metadata": {},
   "outputs": [],
   "source": [
    "from src.services.preprocessing.init.map import InitMapProcessor\n",
    "from src.services.preprocessing.init.instances_matrix import InitInstancesMatrixProcessor\n",
    "\n",
    "init_pcd = InitMapProcessor().process(config)\n",
    "points2instances = InitInstancesMatrixProcessor().process(config, init_pcd)"
   ]
  },
  {
   "cell_type": "code",
   "execution_count": null,
   "metadata": {},
   "outputs": [],
   "source": [
    "from src.utils.gt_utils import build_sem_inst_label_arrays\n",
    "\n",
    "sem_label_array_src, inst_label_array_src = build_sem_inst_label_arrays(gt_labels_path,\n",
    "                                                                        config.start_index,\n",
    "                                                                        config.end_index)\n",
    "print(len(sem_label_array_src) == len(init_pcd.points))\n",
    "print(len(inst_label_array_src) == len(init_pcd.points))"
   ]
  },
  {
   "cell_type": "code",
   "execution_count": null,
   "metadata": {},
   "outputs": [],
   "source": [
    "points2instances.shape"
   ]
  },
  {
   "cell_type": "code",
   "execution_count": null,
   "metadata": {},
   "outputs": [],
   "source": [
    "import copy\n",
    "\n",
    "from src.utils.pcd_utils import color_pcd_by_labels\n",
    "from src.utils.pcd_utils import visualize_pcd\n",
    "\n",
    "colored_pcd = color_pcd_by_labels(copy.deepcopy(init_pcd), points2instances[:, 0])\n",
    "visualize_pcd(colored_pcd)"
   ]
  },
  {
   "cell_type": "code",
   "execution_count": null,
   "metadata": {},
   "outputs": [],
   "source": [
    "from src.services.preprocessing.not_zero import SelectionNotZeroProcessor\n",
    "from src.services.preprocessing.in_cube import SelectionInCubeProcessor\n",
    "from src.services.preprocessing.statistical_outlier import StatisticalOutlierProcessor\n",
    "\n",
    "processors = [\n",
    "    SelectionNotZeroProcessor(),\n",
    "    SelectionInCubeProcessor(),\n",
    "    StatisticalOutlierProcessor(),\n",
    "]"
   ]
  },
  {
   "cell_type": "code",
   "execution_count": null,
   "metadata": {},
   "outputs": [],
   "source": [
    "import copy\n",
    "\n",
    "pcd = copy.deepcopy(init_pcd)\n",
    "for processor in processors:\n",
    "    pcd, points2instances, indices = processor.process(config, pcd, points2instances)\n",
    "    sem_label_array_src = sem_label_array_src[indices]\n",
    "    inst_label_array_src = inst_label_array_src[indices]\n",
    "\n",
    "pcd_for_clustering = copy.deepcopy(pcd)\n",
    "points2instances_pcd_for_clustering = copy.deepcopy(points2instances)\n",
    "inst_label_array_for_clustering = copy.deepcopy(inst_label_array_src)\n",
    "sem_label_array_for_clustering = copy.deepcopy(sem_label_array_src)"
   ]
  },
  {
   "cell_type": "code",
   "execution_count": null,
   "metadata": {},
   "outputs": [],
   "source": [
    "len(inst_label_array_for_clustering) == len(pcd_for_clustering.points)"
   ]
  },
  {
   "cell_type": "code",
   "execution_count": null,
   "metadata": {},
   "outputs": [],
   "source": [
    "len(sem_label_array_for_clustering) == len(pcd_for_clustering.points)"
   ]
  },
  {
   "cell_type": "code",
   "execution_count": null,
   "metadata": {},
   "outputs": [],
   "source": [
    "from src.utils.gt_utils import combine_sem_inst_labels\n",
    "\n",
    "combined_label_array = combine_sem_inst_labels(sem_label_array_for_clustering,\n",
    "                                               inst_label_array_for_clustering)"
   ]
  },
  {
   "cell_type": "code",
   "execution_count": null,
   "metadata": {},
   "outputs": [],
   "source": [
    "len(combined_label_array) == len(pcd_for_clustering.points)"
   ]
  },
  {
   "cell_type": "code",
   "execution_count": null,
   "metadata": {},
   "outputs": [],
   "source": [
    "import copy\n",
    "\n",
    "from src.utils.pcd_utils import color_pcd_by_labels\n",
    "from src.utils.pcd_utils import visualize_pcd\n",
    "\n",
    "colored_pcd_for_clustering = color_pcd_by_labels(copy.deepcopy(pcd_for_clustering),\n",
    "                                                 points2instances_pcd_for_clustering[:, 3])\n",
    "visualize_pcd(colored_pcd_for_clustering)"
   ]
  },
  {
   "cell_type": "code",
   "execution_count": null,
   "metadata": {},
   "outputs": [],
   "source": [
    "colored_pcd_pcd_for_clustering = color_pcd_by_labels(copy.deepcopy(pcd_for_clustering), combined_label_array)\n",
    "visualize_pcd(colored_pcd_pcd_for_clustering)"
   ]
  },
  {
   "cell_type": "code",
   "execution_count": null,
   "metadata": {},
   "outputs": [],
   "source": [
    "from src.services.preprocessing.voxel_down import VoxelDownProcessor\n",
    "\n",
    "pcd, points2instances, trace = VoxelDownProcessor().process(config, pcd, points2instances)"
   ]
  },
  {
   "cell_type": "code",
   "execution_count": null,
   "metadata": {},
   "outputs": [],
   "source": [
    "colored_pcd_pcd_for_clustering = color_pcd_by_labels(copy.deepcopy(pcd_for_clustering), inst_label_array_for_clustering)\n",
    "visualize_pcd(colored_pcd_pcd_for_clustering)"
   ]
  },
  {
   "cell_type": "code",
   "execution_count": null,
   "metadata": {},
   "outputs": [],
   "source": [
    "import numpy as np\n",
    "\n",
    "from scipy.spatial.distance import cdist\n",
    "from src.utils.distances_utils import sam_label_distance\n",
    "\n",
    "points = np.asarray(pcd.points)\n",
    "spatial_distance = cdist(points, points)\n",
    "\n",
    "dist, masks = sam_label_distance(points2instances, spatial_distance, 3, 3, 5)"
   ]
  },
  {
   "cell_type": "code",
   "execution_count": null,
   "metadata": {},
   "outputs": [],
   "source": [
    "dist.shape"
   ]
  },
  {
   "cell_type": "code",
   "execution_count": null,
   "metadata": {},
   "outputs": [],
   "source": [
    "from src.services.distance.isolated import RemovingIsolatedPointsProcessor\n",
    "from src.services.distance.connected_component import ExtractionLargestConnectedComponentProcessor\n",
    "\n",
    "distance_processors = [\n",
    "    RemovingIsolatedPointsProcessor(),\n",
    "    ExtractionLargestConnectedComponentProcessor(),\n",
    "]\n",
    "\n",
    "for processor in distance_processors:\n",
    "    dist, points, trace = processor.process(dist, points, trace)"
   ]
  },
  {
   "cell_type": "code",
   "execution_count": null,
   "metadata": {},
   "outputs": [],
   "source": [
    "print(dist.shape)\n",
    "print(len(points))\n",
    "print(len(trace))"
   ]
  },
  {
   "cell_type": "code",
   "execution_count": null,
   "metadata": {},
   "outputs": [],
   "source": [
    "from src.services.normalized_cut_service import normalized_cut\n",
    "\n",
    "T = 0.02\n",
    "eigenval = 2\n",
    "\n",
    "clusters = normalized_cut(\n",
    "    dist,\n",
    "    np.array([i for i in range(len(points))], dtype=int),\n",
    "    T,\n",
    "    eigenval\n",
    ")"
   ]
  },
  {
   "cell_type": "code",
   "execution_count": null,
   "metadata": {},
   "outputs": [],
   "source": [
    "len(clusters)"
   ]
  },
  {
   "cell_type": "code",
   "execution_count": null,
   "metadata": {},
   "outputs": [],
   "source": [
    "from src.utils.pcd_utils import color_pcd_by_clusters_and_voxels\n",
    "\n",
    "pcd_colored = color_pcd_by_clusters_and_voxels(pcd_for_clustering, trace, clusters)"
   ]
  },
  {
   "cell_type": "code",
   "execution_count": null,
   "metadata": {},
   "outputs": [],
   "source": [
    "from src.utils.pcd_utils import visualize_pcd\n",
    "\n",
    "visualize_pcd(pcd_colored)"
   ]
  },
  {
   "cell_type": "code",
   "execution_count": null,
   "metadata": {},
   "outputs": [],
   "source": [
    "from src.utils.pcd_utils import color_pcd_by_labels\n",
    "\n",
    "pcd_src_colored = color_pcd_by_labels(pcd_for_clustering, points2instances_pcd_for_clustering[:, 3])\n",
    "visualize_pcd(pcd_src_colored)"
   ]
  },
  {
   "cell_type": "code",
   "execution_count": null,
   "metadata": {},
   "outputs": [],
   "source": []
  }
 ],
 "metadata": {
  "kernelspec": {
   "display_name": "Python 3",
   "language": "python",
   "name": "python3"
  },
  "language_info": {
   "codemirror_mode": {
    "name": "ipython",
    "version": 3
   },
   "file_extension": ".py",
   "mimetype": "text/x-python",
   "name": "python",
   "nbconvert_exporter": "python",
   "pygments_lexer": "ipython3",
   "version": "3.9.6"
  },
  "orig_nbformat": 4
 },
 "nbformat": 4,
 "nbformat_minor": 2
}
