{
 "cells": [
  {
   "cell_type": "code",
   "execution_count": null,
   "metadata": {},
   "outputs": [],
   "source": [
    "from src.datasets.kitti_dataset import KittiDataset\n",
    "\n",
    "dataset_path = \"dataset/\"  # kitti\n",
    "sequence = \"00\"\n",
    "image_instances_path = \"pipeline/vfm-labelss/sam/00/\"  # images processed by the SAM algorithm in npz format\n",
    "gt_labels_path = \"dataset/sequences/00/labels/\"  # ground true kitti cloud segmentation\n",
    "kitti = KittiDataset(dataset_path, sequence, image_instances_path)"
   ]
  },
  {
   "cell_type": "code",
   "execution_count": null,
   "metadata": {},
   "outputs": [],
   "source": [
    "# setting parameter values\n",
    "\n",
    "from src.services.preprocessing.common.config import ConfigDTO\n",
    "\n",
    "config = ConfigDTO(\n",
    "    **{\n",
    "        \"dataset\": kitti,\n",
    "        \"start_index\": 2024,\n",
    "        \"end_index\": 2028,\n",
    "        \"start_image_index_offset\": 0,\n",
    "        \"alpha_physical_distance\": 5,\n",
    "        \"beta_instance_distance\": 5,\n",
    "        \"T_normalized_cut\": 0.02,\n",
    "        \"reduce_detail_int_to_union_threshold\": 0.5,\n",
    "        \"reduce_detail_int_to_mask_threshold\": 0.6,\n",
    "        \"cam_name\": \"cam2\",\n",
    "        \"R\": 18,\n",
    "        \"nb_neighbors\": 25,\n",
    "        \"std_ratio\": 5.0,\n",
    "        \"voxel_size\": 0.25,\n",
    "    }\n",
    ")"
   ]
  },
  {
   "cell_type": "code",
   "execution_count": null,
   "metadata": {},
   "outputs": [],
   "source": [
    "# pcd initialisation and initial segmentation based on images\n",
    "\n",
    "from src.services.preprocessing.init.map import InitMapProcessor\n",
    "from src.services.preprocessing.init.instances_matrix import InitInstancesMatrixProcessor\n",
    "\n",
    "init_pcd = InitMapProcessor().process(config)\n",
    "points2instances = InitInstancesMatrixProcessor().process(config, init_pcd)"
   ]
  },
  {
   "cell_type": "code",
   "execution_count": null,
   "metadata": {},
   "outputs": [],
   "source": [
    "# building an array of gt instance segmentation for each sequence pcd\n",
    "\n",
    "from src.utils.gt_utils import build_sem_inst_label_arrays\n",
    "\n",
    "_, inst_label_array_src = build_sem_inst_label_arrays(\n",
    "    gt_labels_path, config.start_index, config.end_index\n",
    ")"
   ]
  },
  {
   "cell_type": "code",
   "execution_count": null,
   "metadata": {},
   "outputs": [],
   "source": [
    "# visualisation of gt instance masks on the pcd\n",
    "\n",
    "import copy\n",
    "\n",
    "from src.utils.pcd_utils import color_pcd_by_labels\n",
    "from src.utils.pcd_utils import visualize_pcd\n",
    "\n",
    "colored_pcd = color_pcd_by_labels(copy.deepcopy(init_pcd), inst_label_array_src)\n",
    "visualize_pcd(colored_pcd)"
   ]
  },
  {
   "cell_type": "code",
   "execution_count": null,
   "metadata": {},
   "outputs": [],
   "source": [
    "# visualisation of the initial pcd segmentation masks for a particular image\n",
    "\n",
    "import copy\n",
    "\n",
    "from src.utils.pcd_utils import color_pcd_by_labels\n",
    "from src.utils.pcd_utils import visualize_pcd\n",
    "\n",
    "colored_pcd = color_pcd_by_labels(copy.deepcopy(init_pcd), points2instances[:, 0])\n",
    "visualize_pcd(colored_pcd)"
   ]
  },
  {
   "cell_type": "code",
   "execution_count": null,
   "metadata": {},
   "outputs": [],
   "source": [
    "# pcd handler initialisation\n",
    "\n",
    "from src.services.preprocessing.not_zero import SelectionNotZeroProcessor\n",
    "from src.services.preprocessing.in_cube import SelectionInCubeProcessor\n",
    "from src.services.preprocessing.statistical_outlier import StatisticalOutlierProcessor\n",
    "\n",
    "processors = [\n",
    "    SelectionNotZeroProcessor(),\n",
    "    SelectionInCubeProcessor(),\n",
    "    StatisticalOutlierProcessor(),\n",
    "]"
   ]
  },
  {
   "cell_type": "code",
   "execution_count": null,
   "metadata": {},
   "outputs": [],
   "source": [
    "# pcd processing and saving the state\n",
    "\n",
    "import copy\n",
    "\n",
    "pcd = copy.deepcopy(init_pcd)\n",
    "for processor in processors:\n",
    "    pcd, points2instances, indices = processor.process(config, pcd, points2instances)\n",
    "    inst_label_array_src = inst_label_array_src[indices]\n",
    "\n",
    "pcd_for_clustering = copy.deepcopy(pcd)\n",
    "points2instances_pcd_for_clustering = copy.deepcopy(points2instances)\n",
    "inst_label_array_for_clustering = copy.deepcopy(inst_label_array_src)"
   ]
  },
  {
   "cell_type": "code",
   "execution_count": null,
   "metadata": {},
   "outputs": [],
   "source": [
    "# visualisation of gt instance masks on the processed pcd before voxelization\n",
    "\n",
    "import copy\n",
    "\n",
    "from src.utils.pcd_utils import color_pcd_by_labels\n",
    "from src.utils.pcd_utils import visualize_pcd\n",
    "\n",
    "colored_pcd_for_clustering = color_pcd_by_labels(\n",
    "    copy.deepcopy(pcd_for_clustering), inst_label_array_for_clustering\n",
    ")\n",
    "visualize_pcd(colored_pcd_for_clustering)"
   ]
  },
  {
   "cell_type": "code",
   "execution_count": null,
   "metadata": {},
   "outputs": [],
   "source": [
    "# visualisation of the initial pcd segmentation masks before voxelization\n",
    "\n",
    "import copy\n",
    "\n",
    "from src.utils.pcd_utils import color_pcd_by_labels\n",
    "from src.utils.pcd_utils import visualize_pcd\n",
    "\n",
    "colored_pcd_for_clustering = color_pcd_by_labels(\n",
    "    copy.deepcopy(pcd_for_clustering), points2instances_pcd_for_clustering[:, 0]\n",
    ")\n",
    "visualize_pcd(colored_pcd_for_clustering)"
   ]
  },
  {
   "cell_type": "code",
   "execution_count": null,
   "metadata": {},
   "outputs": [],
   "source": [
    "# final processing step - voxelisation of the pcd\n",
    "\n",
    "from src.services.preprocessing.voxel_down import VoxelDownProcessor\n",
    "\n",
    "pcd, points2instances, trace = VoxelDownProcessor().process(config, pcd, points2instances)"
   ]
  },
  {
   "cell_type": "code",
   "execution_count": null,
   "metadata": {},
   "outputs": [],
   "source": [
    "# calculation of distance matrix for voxelised pcd\n",
    "\n",
    "import numpy as np\n",
    "\n",
    "from scipy.spatial.distance import cdist\n",
    "from src.utils.distances_utils import sam_label_distance\n",
    "\n",
    "points = np.asarray(pcd.points)\n",
    "spatial_distance = cdist(points, points)\n",
    "\n",
    "dist, masks = sam_label_distance(\n",
    "    points2instances,\n",
    "    spatial_distance,\n",
    "    3,\n",
    "    config.beta_instance_distance,\n",
    "    config.alpha_physical_distance\n",
    ")"
   ]
  },
  {
   "cell_type": "code",
   "execution_count": null,
   "metadata": {},
   "outputs": [],
   "source": [
    "dist.shape"
   ]
  },
  {
   "cell_type": "code",
   "execution_count": null,
   "metadata": {},
   "outputs": [],
   "source": [
    "# distance matrix processing\n",
    "\n",
    "from src.services.distance.isolated import RemovingIsolatedPointsProcessor\n",
    "from src.services.distance.connected_component import ExtractionLargestConnectedComponentProcessor\n",
    "\n",
    "distance_processors = [\n",
    "    RemovingIsolatedPointsProcessor(),\n",
    "    ExtractionLargestConnectedComponentProcessor(),\n",
    "]\n",
    "\n",
    "for processor in distance_processors:\n",
    "    dist, points, trace = processor.process(dist, points, trace)"
   ]
  },
  {
   "cell_type": "code",
   "execution_count": null,
   "metadata": {},
   "outputs": [],
   "source": [
    "print(dist.shape)\n",
    "print(len(points))\n",
    "print(len(trace))"
   ]
  },
  {
   "cell_type": "code",
   "execution_count": null,
   "metadata": {},
   "outputs": [],
   "source": [
    "# pcd clustering using GraphCut algorithm\n",
    "\n",
    "from src.services.normalized_cut_service import normalized_cut\n",
    "\n",
    "eigenval =  2\n",
    "clusters = normalized_cut(\n",
    "    dist,\n",
    "    np.array([i for i in range(len(points))], dtype=int),\n",
    "    config.T_normalized_cut,\n",
    "    eigenval\n",
    ")"
   ]
  },
  {
   "cell_type": "code",
   "execution_count": null,
   "metadata": {},
   "outputs": [],
   "source": [
    "len(clusters)"
   ]
  },
  {
   "cell_type": "code",
   "execution_count": null,
   "metadata": {},
   "outputs": [],
   "source": [
    "clusters[0]"
   ]
  },
  {
   "cell_type": "code",
   "execution_count": null,
   "metadata": {},
   "outputs": [],
   "source": [
    "# visualisation of segmentation results. masks will be drawn on the processed pcd before voxelisation\n",
    "\n",
    "import copy\n",
    "\n",
    "from src.utils.pcd_utils import color_pcd_by_clusters_and_voxels\n",
    "from src.utils.pcd_utils import visualize_pcd\n",
    "\n",
    "colored_clusters_for_clustering = color_pcd_by_clusters_and_voxels(\n",
    "    copy.deepcopy(pcd_for_clustering), copy.deepcopy(trace), clusters\n",
    ")\n",
    "visualize_pcd(colored_clusters_for_clustering)"
   ]
  },
  {
   "cell_type": "code",
   "execution_count": null,
   "metadata": {},
   "outputs": [],
   "source": [
    "# visualisation of gt instance masks on the processed pcd before voxelization\n",
    "\n",
    "import copy\n",
    "\n",
    "from src.utils.pcd_utils import color_pcd_by_labels\n",
    "from src.utils.pcd_utils import visualize_pcd\n",
    "\n",
    "colored_pcd_for_clustering = color_pcd_by_labels(\n",
    "    copy.deepcopy(pcd_for_clustering), inst_label_array_for_clustering\n",
    ")\n",
    "visualize_pcd(colored_pcd_for_clustering)"
   ]
  },
  {
   "cell_type": "code",
   "execution_count": null,
   "metadata": {},
   "outputs": [],
   "source": [
    "# auxiliary function for calculating metrics\n",
    "# if a cluster-prediction point is in the gt label, return the mask id number in the gt label array\n",
    "\n",
    "def find_num_in_inst_label_array(src_points, inst_label_array_for_clustering):\n",
    "    for point in src_points:\n",
    "        if inst_label_array_for_clustering[point] > 0:\n",
    "            return inst_label_array_for_clustering[point]\n",
    "    return -1"
   ]
  },
  {
   "cell_type": "code",
   "execution_count": null,
   "metadata": {},
   "outputs": [],
   "source": [
    "# building an array of predictions for comparison with gt instance label\n",
    "# cell j stores the mask number for the j-th pcd point\n",
    "\n",
    "def build_pred_inst_array(\n",
    "    inst_label_array_for_clustering, clusters, trace, instance_threshold\n",
    "):\n",
    "    pred_inst_array = np.zeros(len(inst_label_array_for_clustering), dtype=int)\n",
    "    free_id = 1\n",
    "    for cluster in clusters:\n",
    "        voxel_not_in_gt_cluster_count = 0\n",
    "        for voxel in cluster:\n",
    "            src_points = trace[voxel]\n",
    "            id = find_num_in_inst_label_array(\n",
    "                src_points, inst_label_array_for_clustering\n",
    "            )\n",
    "            if id == -1:\n",
    "                voxel_not_in_gt_cluster_count += 1\n",
    "\n",
    "        cluster_in_gt_instance = (\n",
    "            (len(cluster) - voxel_not_in_gt_cluster_count) / len(cluster)\n",
    "        ) * 100\n",
    "        if cluster_in_gt_instance >= instance_threshold:\n",
    "            for voxel in cluster:\n",
    "                src_points = trace[voxel]\n",
    "                for src_point in src_points:\n",
    "                    pred_inst_array[src_point] = free_id\n",
    "            free_id += 1\n",
    "    return pred_inst_array"
   ]
  },
  {
   "cell_type": "code",
   "execution_count": null,
   "metadata": {},
   "outputs": [],
   "source": [
    "# an array of predictions\n",
    "# if instance_threshold percent or more of the cluster is in the gt instance,\n",
    "# consider the cluster to be selected for comparison\n",
    "\n",
    "pred_inst_array = build_pred_inst_array(\n",
    "    copy.deepcopy(inst_label_array_for_clustering),\n",
    "    clusters,\n",
    "    copy.deepcopy(trace),\n",
    "    instance_threshold=30\n",
    ")"
   ]
  },
  {
   "cell_type": "code",
   "execution_count": null,
   "metadata": {},
   "outputs": [],
   "source": [
    "# metrics calculation\n",
    "\n",
    "from evops.metrics import precision\n",
    "from evops.metrics import recall\n",
    "from evops.metrics import fScore\n",
    "\n",
    "pred_labels = pred_inst_array\n",
    "gt_labels = inst_label_array_for_clustering\n",
    "tp_condition = \"iou\"\n",
    "print(\"precision={}\".format(precision(pred_labels, gt_labels, tp_condition)))\n",
    "print(\"recall={}\".format(recall(pred_labels, gt_labels, tp_condition)))\n",
    "print(\"fScore={}\".format(fScore(pred_labels, gt_labels, tp_condition)))"
   ]
  },
  {
   "cell_type": "code",
   "execution_count": null,
   "metadata": {},
   "outputs": [],
   "source": [
    "# visualisation of prediction masks\n",
    "\n",
    "import copy\n",
    "\n",
    "from src.utils.pcd_utils import color_pcd_by_labels\n",
    "from src.utils.pcd_utils import visualize_pcd\n",
    "\n",
    "colored_pcd_for_clustering = color_pcd_by_labels(\n",
    "    copy.deepcopy(pcd_for_clustering), pred_labels\n",
    ")\n",
    "visualize_pcd(colored_pcd_for_clustering)"
   ]
  },
  {
   "cell_type": "code",
   "execution_count": null,
   "metadata": {},
   "outputs": [],
   "source": [
    "# visualisation of gt instance label masks\n",
    "\n",
    "import copy\n",
    "\n",
    "from src.utils.pcd_utils import color_pcd_by_labels\n",
    "from src.utils.pcd_utils import visualize_pcd\n",
    "\n",
    "colored_pcd_for_clustering = color_pcd_by_labels(\n",
    "    copy.deepcopy(pcd_for_clustering), gt_labels\n",
    ")\n",
    "visualize_pcd(colored_pcd_for_clustering)"
   ]
  }
 ],
 "metadata": {
  "kernelspec": {
   "display_name": "Python 3",
   "language": "python",
   "name": "python3"
  },
  "language_info": {
   "codemirror_mode": {
    "name": "ipython",
    "version": 3
   },
   "file_extension": ".py",
   "mimetype": "text/x-python",
   "name": "python",
   "nbconvert_exporter": "python",
   "pygments_lexer": "ipython3",
   "version": "3.9.6"
  },
  "orig_nbformat": 4
 },
 "nbformat": 4,
 "nbformat_minor": 2
}
