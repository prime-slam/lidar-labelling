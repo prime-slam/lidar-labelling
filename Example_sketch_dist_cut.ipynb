{
 "cells": [
  {
   "cell_type": "code",
   "execution_count": 2,
   "outputs": [],
   "source": [
    "# favorite example\n",
    "\n",
    "# cam2, start_index = 20, end_index = 23\n",
    "\n",
    "# point №40\n",
    "# it corresponds to instance 53 (image 20)\n",
    "# it corresponds to instance 45 (image 21)\n",
    "# it corresponds to instance 53 (image 22)"
   ],
   "metadata": {
    "collapsed": false,
    "ExecuteTime": {
     "end_time": "2023-10-21T18:38:41.567864Z",
     "start_time": "2023-10-21T18:38:41.550368Z"
    }
   },
   "id": "8eadad1f7357df6"
  },
  {
   "cell_type": "code",
   "execution_count": 3,
   "outputs": [],
   "source": [
    "from pathlib import Path\n",
    "\n",
    "from pcd_dataset.kitti_dataset import KittiDataset\n",
    "\n",
    "dataset_path = 'dataset/'\n",
    "sequence = '00'\n",
    "sam_labels_path = Path.cwd().joinpath('pipeline', 'vfm-labels', 'sam', sequence)\n",
    "\n",
    "kitti = KittiDataset(dataset_path, sequence, sam_labels_path)"
   ],
   "metadata": {
    "collapsed": false,
    "ExecuteTime": {
     "end_time": "2023-10-21T18:38:43.182275Z",
     "start_time": "2023-10-21T18:38:41.884106Z"
    }
   },
   "id": "e847962e99830a2f"
  },
  {
   "cell_type": "code",
   "execution_count": 4,
   "outputs": [
    {
     "name": "stderr",
     "output_type": "stream",
     "text": [
      "INFO:simple_mapping.SimpleMapping:Image 20 processed\n"
     ]
    },
    {
     "name": "stdout",
     "output_type": "stream",
     "text": [
      "0.0\n"
     ]
    },
    {
     "name": "stderr",
     "output_type": "stream",
     "text": [
      "INFO:simple_mapping.SimpleMapping:Image 21 processed\n"
     ]
    },
    {
     "name": "stdout",
     "output_type": "stream",
     "text": [
      "0.0\n"
     ]
    },
    {
     "name": "stderr",
     "output_type": "stream",
     "text": [
      "INFO:simple_mapping.SimpleMapping:Image 22 processed\n"
     ]
    },
    {
     "name": "stdout",
     "output_type": "stream",
     "text": [
      "61.0\n"
     ]
    }
   ],
   "source": [
    "from mapping.simple_mapping import SimpleMapping\n",
    "\n",
    "sm = SimpleMapping(kitti)\n",
    "coo_matrix, pcds = sm.get_combined_labeled_point_clouds('cam2', 20, 23)"
   ],
   "metadata": {
    "collapsed": false,
    "ExecuteTime": {
     "end_time": "2023-10-21T18:38:48.329203Z",
     "start_time": "2023-10-21T18:38:43.187495Z"
    }
   },
   "id": "2c2963d027f62259"
  },
  {
   "cell_type": "code",
   "execution_count": 5,
   "outputs": [],
   "source": [
    "from mapping.sparse_matrix_utils import construct_coo_matrix_for_multiple_views\n",
    "\n",
    "coo_result = construct_coo_matrix_for_multiple_views(coo_matrix, 20)"
   ],
   "metadata": {
    "collapsed": false,
    "ExecuteTime": {
     "end_time": "2023-10-21T18:38:49.235146Z",
     "start_time": "2023-10-21T18:38:49.080412Z"
    }
   },
   "id": "d95b980b64944498"
  },
  {
   "cell_type": "code",
   "execution_count": 6,
   "outputs": [],
   "source": [
    "from sklearn.preprocessing import OneHotEncoder\n",
    "enc = OneHotEncoder(handle_unknown='ignore', sparse_output=True)"
   ],
   "metadata": {
    "collapsed": false,
    "ExecuteTime": {
     "end_time": "2023-10-21T18:38:49.936050Z",
     "start_time": "2023-10-21T18:38:49.916961Z"
    }
   },
   "id": "a78c374fc626ffad"
  },
  {
   "cell_type": "code",
   "execution_count": 7,
   "outputs": [
    {
     "data": {
      "text/plain": "OneHotEncoder(handle_unknown='ignore')",
      "text/html": "<style>#sk-container-id-1 {color: black;}#sk-container-id-1 pre{padding: 0;}#sk-container-id-1 div.sk-toggleable {background-color: white;}#sk-container-id-1 label.sk-toggleable__label {cursor: pointer;display: block;width: 100%;margin-bottom: 0;padding: 0.3em;box-sizing: border-box;text-align: center;}#sk-container-id-1 label.sk-toggleable__label-arrow:before {content: \"▸\";float: left;margin-right: 0.25em;color: #696969;}#sk-container-id-1 label.sk-toggleable__label-arrow:hover:before {color: black;}#sk-container-id-1 div.sk-estimator:hover label.sk-toggleable__label-arrow:before {color: black;}#sk-container-id-1 div.sk-toggleable__content {max-height: 0;max-width: 0;overflow: hidden;text-align: left;background-color: #f0f8ff;}#sk-container-id-1 div.sk-toggleable__content pre {margin: 0.2em;color: black;border-radius: 0.25em;background-color: #f0f8ff;}#sk-container-id-1 input.sk-toggleable__control:checked~div.sk-toggleable__content {max-height: 200px;max-width: 100%;overflow: auto;}#sk-container-id-1 input.sk-toggleable__control:checked~label.sk-toggleable__label-arrow:before {content: \"▾\";}#sk-container-id-1 div.sk-estimator input.sk-toggleable__control:checked~label.sk-toggleable__label {background-color: #d4ebff;}#sk-container-id-1 div.sk-label input.sk-toggleable__control:checked~label.sk-toggleable__label {background-color: #d4ebff;}#sk-container-id-1 input.sk-hidden--visually {border: 0;clip: rect(1px 1px 1px 1px);clip: rect(1px, 1px, 1px, 1px);height: 1px;margin: -1px;overflow: hidden;padding: 0;position: absolute;width: 1px;}#sk-container-id-1 div.sk-estimator {font-family: monospace;background-color: #f0f8ff;border: 1px dotted black;border-radius: 0.25em;box-sizing: border-box;margin-bottom: 0.5em;}#sk-container-id-1 div.sk-estimator:hover {background-color: #d4ebff;}#sk-container-id-1 div.sk-parallel-item::after {content: \"\";width: 100%;border-bottom: 1px solid gray;flex-grow: 1;}#sk-container-id-1 div.sk-label:hover label.sk-toggleable__label {background-color: #d4ebff;}#sk-container-id-1 div.sk-serial::before {content: \"\";position: absolute;border-left: 1px solid gray;box-sizing: border-box;top: 0;bottom: 0;left: 50%;z-index: 0;}#sk-container-id-1 div.sk-serial {display: flex;flex-direction: column;align-items: center;background-color: white;padding-right: 0.2em;padding-left: 0.2em;position: relative;}#sk-container-id-1 div.sk-item {position: relative;z-index: 1;}#sk-container-id-1 div.sk-parallel {display: flex;align-items: stretch;justify-content: center;background-color: white;position: relative;}#sk-container-id-1 div.sk-item::before, #sk-container-id-1 div.sk-parallel-item::before {content: \"\";position: absolute;border-left: 1px solid gray;box-sizing: border-box;top: 0;bottom: 0;left: 50%;z-index: -1;}#sk-container-id-1 div.sk-parallel-item {display: flex;flex-direction: column;z-index: 1;position: relative;background-color: white;}#sk-container-id-1 div.sk-parallel-item:first-child::after {align-self: flex-end;width: 50%;}#sk-container-id-1 div.sk-parallel-item:last-child::after {align-self: flex-start;width: 50%;}#sk-container-id-1 div.sk-parallel-item:only-child::after {width: 0;}#sk-container-id-1 div.sk-dashed-wrapped {border: 1px dashed gray;margin: 0 0.4em 0.5em 0.4em;box-sizing: border-box;padding-bottom: 0.4em;background-color: white;}#sk-container-id-1 div.sk-label label {font-family: monospace;font-weight: bold;display: inline-block;line-height: 1.2em;}#sk-container-id-1 div.sk-label-container {text-align: center;}#sk-container-id-1 div.sk-container {/* jupyter's `normalize.less` sets `[hidden] { display: none; }` but bootstrap.min.css set `[hidden] { display: none !important; }` so we also need the `!important` here to be able to override the default hidden behavior on the sphinx rendered scikit-learn.org. See: https://github.com/scikit-learn/scikit-learn/issues/21755 */display: inline-block !important;position: relative;}#sk-container-id-1 div.sk-text-repr-fallback {display: none;}</style><div id=\"sk-container-id-1\" class=\"sk-top-container\"><div class=\"sk-text-repr-fallback\"><pre>OneHotEncoder(handle_unknown=&#x27;ignore&#x27;)</pre><b>In a Jupyter environment, please rerun this cell to show the HTML representation or trust the notebook. <br />On GitHub, the HTML representation is unable to render, please try loading this page with nbviewer.org.</b></div><div class=\"sk-container\" hidden><div class=\"sk-item\"><div class=\"sk-estimator sk-toggleable\"><input class=\"sk-toggleable__control sk-hidden--visually\" id=\"sk-estimator-id-1\" type=\"checkbox\" checked><label for=\"sk-estimator-id-1\" class=\"sk-toggleable__label sk-toggleable__label-arrow\">OneHotEncoder</label><div class=\"sk-toggleable__content\"><pre>OneHotEncoder(handle_unknown=&#x27;ignore&#x27;)</pre></div></div></div></div></div>"
     },
     "execution_count": 7,
     "metadata": {},
     "output_type": "execute_result"
    }
   ],
   "source": [
    "enc.fit((coo_result.T).toarray())"
   ],
   "metadata": {
    "collapsed": false,
    "ExecuteTime": {
     "end_time": "2023-10-21T18:38:50.533783Z",
     "start_time": "2023-10-21T18:38:50.493037Z"
    }
   },
   "id": "2161e4dc37b7d638"
  },
  {
   "cell_type": "code",
   "execution_count": 8,
   "outputs": [
    {
     "data": {
      "text/plain": "[array([ 0.,  1.,  2.,  3.,  4.,  5.,  6.,  7.,  9., 10., 11., 12., 13.,\n        14., 15., 16., 17., 18., 19., 20., 21., 22., 23., 24., 25., 26.,\n        27., 28., 29., 30., 31., 32., 33., 34., 35., 37., 38., 39., 40.,\n        42., 43., 44., 45., 46., 48., 49., 50., 51., 53., 54., 56., 57.,\n        58., 59., 62., 63., 64., 67., 68., 69., 71., 73., 74., 75., 76.,\n        77., 78., 79., 80.]),\n array([ 0.,  2.,  3.,  4.,  5.,  6.,  7., 10., 11., 12., 13., 14., 15.,\n        16., 17., 18., 19., 20., 21., 22., 23., 24., 25., 26., 27., 28.,\n        29., 30., 31., 32., 33., 34., 35., 36., 37., 39., 40., 41., 42.,\n        43., 44., 45., 47., 49., 50., 51., 52., 54., 55., 56., 58., 59.,\n        60., 62., 64., 65., 67., 69., 71., 72., 73., 74.]),\n array([ 0.,  1.,  2.,  3.,  4.,  5.,  6.,  7.,  8.,  9., 10., 11., 12.,\n        13., 14., 15., 16., 17., 18., 19., 20., 21., 22., 23., 24., 25.,\n        26., 27., 28., 30., 31., 32., 33., 34., 35., 36., 37., 38., 39.,\n        40., 41., 42., 43., 44., 45., 46., 47., 48., 49., 50., 51., 53.,\n        54., 55., 56., 57., 59., 60., 61., 62., 63., 64., 65., 67., 68.,\n        70., 71., 77., 78., 79., 81., 83., 84., 86., 87., 88., 89., 90.,\n        91., 93., 94., 95.])]"
     },
     "execution_count": 8,
     "metadata": {},
     "output_type": "execute_result"
    }
   ],
   "source": [
    "enc.categories_"
   ],
   "metadata": {
    "collapsed": false,
    "ExecuteTime": {
     "end_time": "2023-10-21T18:38:51.722630Z",
     "start_time": "2023-10-21T18:38:51.709331Z"
    }
   },
   "id": "d09dcbae106d0bb4"
  },
  {
   "cell_type": "code",
   "execution_count": 9,
   "outputs": [],
   "source": [
    "s = enc.transform(coo_result.T.toarray()).toarray()"
   ],
   "metadata": {
    "collapsed": false,
    "ExecuteTime": {
     "end_time": "2023-10-21T18:38:52.445215Z",
     "start_time": "2023-10-21T18:38:52.226393Z"
    }
   },
   "id": "ef673c8269c8c536"
  },
  {
   "cell_type": "code",
   "execution_count": 10,
   "outputs": [
    {
     "data": {
      "text/plain": "832606"
     },
     "execution_count": 10,
     "metadata": {},
     "output_type": "execute_result"
    }
   ],
   "source": [
    "len(s)"
   ],
   "metadata": {
    "collapsed": false,
    "ExecuteTime": {
     "end_time": "2023-10-21T18:38:52.815616Z",
     "start_time": "2023-10-21T18:38:52.808606Z"
    }
   },
   "id": "9055b9f006c8812a"
  },
  {
   "cell_type": "code",
   "execution_count": 10,
   "outputs": [
    {
     "name": "stdout",
     "output_type": "stream",
     "text": [
      "48\n",
      "110\n",
      "182\n"
     ]
    }
   ],
   "source": [
    "# for itr in range(len(s[40])):\n",
    "#     if s[40, itr] != 0.0:\n",
    "#         print(itr)"
   ],
   "metadata": {
    "collapsed": false,
    "ExecuteTime": {
     "end_time": "2023-10-21T14:28:43.806722Z",
     "start_time": "2023-10-21T14:28:43.802782Z"
    }
   },
   "id": "94f11e292f22e577"
  },
  {
   "cell_type": "code",
   "execution_count": 11,
   "outputs": [
    {
     "name": "stdout",
     "output_type": "stream",
     "text": [
      "92411\n"
     ]
    }
   ],
   "source": [
    "p = enc.inverse_transform(s)\n",
    "\n",
    "k = 0\n",
    "for itr in range(len(p)):\n",
    "    if (p[itr] == [0.0, 0.0, 0.0]).all():\n",
    "        k = k + 1\n",
    "        \n",
    "print(len(p) - k)"
   ],
   "metadata": {
    "collapsed": false,
    "ExecuteTime": {
     "end_time": "2023-10-21T18:38:58.010392Z",
     "start_time": "2023-10-21T18:38:55.863887Z"
    }
   },
   "id": "f5a1e6ae872a8f1d"
  },
  {
   "cell_type": "code",
   "execution_count": 12,
   "outputs": [],
   "source": [
    "pcddd = pcds[0] + pcds[1] + pcds[2]"
   ],
   "metadata": {
    "collapsed": false,
    "ExecuteTime": {
     "end_time": "2023-10-21T18:38:58.751511Z",
     "start_time": "2023-10-21T18:38:58.742021Z"
    }
   },
   "id": "67fb0093257d4b5b"
  },
  {
   "cell_type": "code",
   "execution_count": 13,
   "outputs": [],
   "source": [
    "# p[40]"
   ],
   "metadata": {
    "collapsed": false,
    "ExecuteTime": {
     "end_time": "2023-10-21T18:38:59.322805Z",
     "start_time": "2023-10-21T18:38:59.311563Z"
    }
   },
   "id": "c97bc17408f1e2b2"
  },
  {
   "cell_type": "code",
   "execution_count": 14,
   "outputs": [
    {
     "data": {
      "text/plain": "array([-8.54871034, -1.86390096, 39.59046832])"
     },
     "execution_count": 14,
     "metadata": {},
     "output_type": "execute_result"
    }
   ],
   "source": [
    "pcddd.points[9]"
   ],
   "metadata": {
    "collapsed": false,
    "ExecuteTime": {
     "end_time": "2023-10-21T18:39:00.278749Z",
     "start_time": "2023-10-21T18:39:00.263805Z"
    }
   },
   "id": "b0ccef816bf9002b"
  },
  {
   "cell_type": "code",
   "execution_count": 15,
   "outputs": [
    {
     "name": "stdout",
     "output_type": "stream",
     "text": [
      "0\n",
      "1\n",
      "2\n",
      "3\n",
      "4\n",
      "5\n"
     ]
    }
   ],
   "source": [
    "import numpy as np\n",
    "\n",
    "p = enc.inverse_transform(s)\n",
    "# points = np.zeros((len(p) - k), dtype=int)\n",
    "points = []\n",
    "map = {}\n",
    "\n",
    "k = 0\n",
    "i = 0\n",
    "for itr in range(len(p)):\n",
    "    if (p[itr] == [0.0, 0.0, 0.0]).all():\n",
    "        k = k + 1\n",
    "    else:\n",
    "        if k < 10:\n",
    "            print(itr)\n",
    "        points.append(pcddd.points[itr])\n",
    "        dict1 = {itr:i}\n",
    "        map.update(dict1)\n",
    "        # map.update({'old_pcd': itr, 'new_pcd': i})\n",
    "        i = i + 1"
   ],
   "metadata": {
    "collapsed": false,
    "ExecuteTime": {
     "end_time": "2023-10-21T18:39:03.612900Z",
     "start_time": "2023-10-21T18:39:01.389771Z"
    }
   },
   "id": "5b570258682f67d6"
  },
  {
   "cell_type": "code",
   "execution_count": 16,
   "outputs": [
    {
     "data": {
      "text/plain": "92411"
     },
     "execution_count": 16,
     "metadata": {},
     "output_type": "execute_result"
    }
   ],
   "source": [
    "len(map)"
   ],
   "metadata": {
    "collapsed": false,
    "ExecuteTime": {
     "end_time": "2023-10-21T18:39:04.076384Z",
     "start_time": "2023-10-21T18:39:04.059729Z"
    }
   },
   "id": "ceeaaf8ccc133845"
  },
  {
   "cell_type": "code",
   "execution_count": 16,
   "outputs": [],
   "source": [],
   "metadata": {
    "collapsed": false,
    "ExecuteTime": {
     "end_time": "2023-10-21T18:39:05.145548Z",
     "start_time": "2023-10-21T18:39:05.129151Z"
    }
   },
   "id": "66017b555df88023"
  },
  {
   "cell_type": "code",
   "execution_count": 17,
   "outputs": [
    {
     "data": {
      "text/plain": "array([ 0., 25., 15.])"
     },
     "execution_count": 17,
     "metadata": {},
     "output_type": "execute_result"
    }
   ],
   "source": [
    "p[3692]\n",
    "# 3692 - 990"
   ],
   "metadata": {
    "collapsed": false,
    "ExecuteTime": {
     "end_time": "2023-10-21T18:39:05.447022Z",
     "start_time": "2023-10-21T18:39:05.432396Z"
    }
   },
   "id": "3862d4de0b302e37"
  },
  {
   "cell_type": "code",
   "execution_count": 17,
   "outputs": [
    {
     "data": {
      "text/plain": "{0: 0,\n 1: 1,\n 2: 2,\n 3: 3,\n 4: 4,\n 5: 5,\n 20: 6,\n 21: 7,\n 22: 8,\n 23: 9,\n 24: 10,\n 25: 11,\n 26: 12,\n 27: 13,\n 28: 14,\n 32: 15,\n 33: 16,\n 34: 17,\n 35: 18,\n 36: 19,\n 37: 20,\n 38: 21,\n 39: 22,\n 40: 23,\n 41: 24,\n 42: 25,\n 43: 26,\n 44: 27,\n 45: 28,\n 46: 29,\n 47: 30,\n 48: 31,\n 49: 32,\n 50: 33,\n 51: 34,\n 52: 35,\n 53: 36,\n 54: 37,\n 55: 38,\n 56: 39,\n 57: 40,\n 58: 41,\n 59: 42,\n 60: 43,\n 61: 44,\n 62: 45,\n 63: 46,\n 64: 47,\n 65: 48,\n 66: 49,\n 67: 50,\n 68: 51,\n 69: 52,\n 70: 53,\n 71: 54,\n 72: 55,\n 73: 56,\n 74: 57,\n 75: 58,\n 76: 59,\n 77: 60,\n 78: 61,\n 79: 62,\n 80: 63,\n 81: 64,\n 82: 65,\n 83: 66,\n 84: 67,\n 85: 68,\n 86: 69,\n 87: 70,\n 88: 71,\n 89: 72,\n 90: 73,\n 91: 74,\n 92: 75,\n 93: 76,\n 94: 77,\n 95: 78,\n 96: 79,\n 97: 80,\n 98: 81,\n 99: 82,\n 100: 83,\n 101: 84,\n 102: 85,\n 103: 86,\n 104: 87,\n 105: 88,\n 106: 89,\n 107: 90,\n 108: 91,\n 109: 92,\n 110: 93,\n 111: 94,\n 112: 95,\n 113: 96,\n 114: 97,\n 115: 98,\n 1153: 99,\n 1154: 100,\n 1155: 101,\n 1156: 102,\n 1157: 103,\n 1158: 104,\n 1159: 105,\n 1160: 106,\n 1161: 107,\n 1162: 108,\n 1163: 109,\n 1164: 110,\n 1165: 111,\n 1166: 112,\n 1167: 113,\n 1168: 114,\n 1169: 115,\n 1170: 116,\n 1171: 117,\n 1172: 118,\n 1173: 119,\n 1174: 120,\n 1175: 121,\n 1176: 122,\n 1177: 123,\n 1178: 124,\n 1179: 125,\n 1180: 126,\n 1181: 127,\n 1182: 128,\n 1183: 129,\n 1184: 130,\n 1185: 131,\n 1186: 132,\n 1187: 133,\n 1188: 134,\n 1189: 135,\n 1190: 136,\n 1191: 137,\n 1192: 138,\n 1193: 139,\n 1194: 140,\n 1195: 141,\n 1196: 142,\n 1197: 143,\n 1198: 144,\n 1199: 145,\n 1200: 146,\n 1201: 147,\n 1202: 148,\n 1203: 149,\n 1204: 150,\n 1205: 151,\n 1206: 152,\n 1207: 153,\n 1208: 154,\n 1209: 155,\n 1210: 156,\n 1211: 157,\n 1212: 158,\n 1213: 159,\n 1214: 160,\n 1215: 161,\n 1216: 162,\n 1217: 163,\n 1218: 164,\n 1219: 165,\n 1220: 166,\n 1221: 167,\n 1222: 168,\n 1223: 169,\n 1224: 170,\n 1225: 171,\n 1226: 172,\n 1227: 173,\n 1228: 174,\n 1229: 175,\n 1230: 176,\n 1231: 177,\n 1232: 178,\n 1233: 179,\n 1234: 180,\n 1235: 181,\n 1236: 182,\n 1237: 183,\n 1238: 184,\n 1239: 185,\n 1240: 186,\n 1241: 187,\n 1242: 188,\n 1243: 189,\n 1244: 190,\n 1245: 191,\n 1246: 192,\n 1247: 193,\n 1248: 194,\n 1249: 195,\n 1250: 196,\n 1251: 197,\n 1252: 198,\n 1253: 199,\n 1254: 200,\n 1255: 201,\n 1256: 202,\n 1257: 203,\n 1258: 204,\n 1259: 205,\n 1260: 206,\n 1261: 207,\n 1262: 208,\n 1263: 209,\n 1264: 210,\n 1265: 211,\n 1266: 212,\n 1267: 213,\n 1268: 214,\n 1269: 215,\n 1270: 216,\n 1271: 217,\n 1272: 218,\n 1273: 219,\n 1274: 220,\n 1275: 221,\n 1276: 222,\n 1277: 223,\n 1278: 224,\n 1279: 225,\n 1280: 226,\n 1281: 227,\n 1282: 228,\n 1283: 229,\n 1284: 230,\n 1285: 231,\n 1286: 232,\n 1287: 233,\n 1288: 234,\n 1289: 235,\n 1290: 236,\n 1291: 237,\n 1292: 238,\n 1293: 239,\n 1294: 240,\n 1295: 241,\n 1296: 242,\n 1297: 243,\n 1298: 244,\n 1299: 245,\n 1300: 246,\n 1301: 247,\n 1302: 248,\n 1303: 249,\n 1304: 250,\n 1305: 251,\n 1306: 252,\n 1307: 253,\n 1308: 254,\n 1309: 255,\n 1310: 256,\n 1311: 257,\n 1312: 258,\n 1313: 259,\n 1314: 260,\n 1315: 261,\n 1316: 262,\n 1317: 263,\n 1318: 264,\n 1319: 265,\n 1320: 266,\n 1321: 267,\n 1322: 268,\n 1323: 269,\n 1324: 270,\n 1325: 271,\n 1326: 272,\n 1327: 273,\n 1328: 274,\n 1329: 275,\n 1330: 276,\n 1331: 277,\n 1332: 278,\n 1333: 279,\n 1334: 280,\n 1335: 281,\n 1336: 282,\n 1337: 283,\n 1338: 284,\n 1339: 285,\n 1340: 286,\n 1341: 287,\n 1342: 288,\n 1343: 289,\n 1344: 290,\n 1345: 291,\n 1346: 292,\n 1347: 293,\n 1348: 294,\n 1349: 295,\n 1350: 296,\n 1351: 297,\n 1352: 298,\n 1353: 299,\n 1354: 300,\n 1355: 301,\n 1356: 302,\n 1357: 303,\n 1358: 304,\n 1359: 305,\n 1360: 306,\n 1361: 307,\n 1362: 308,\n 1363: 309,\n 1364: 310,\n 1365: 311,\n 1366: 312,\n 1367: 313,\n 1368: 314,\n 1369: 315,\n 1370: 316,\n 1371: 317,\n 1372: 318,\n 1373: 319,\n 1374: 320,\n 1375: 321,\n 1376: 322,\n 1377: 323,\n 1378: 324,\n 1379: 325,\n 1380: 326,\n 1381: 327,\n 1382: 328,\n 1383: 329,\n 1384: 330,\n 1385: 331,\n 1386: 332,\n 1387: 333,\n 1388: 334,\n 1389: 335,\n 1390: 336,\n 1391: 337,\n 1392: 338,\n 1393: 339,\n 1394: 340,\n 1395: 341,\n 1396: 342,\n 1397: 343,\n 1398: 344,\n 1399: 345,\n 1400: 346,\n 1401: 347,\n 1402: 348,\n 1403: 349,\n 1404: 350,\n 1405: 351,\n 1406: 352,\n 1407: 353,\n 1408: 354,\n 1409: 355,\n 1410: 356,\n 1411: 357,\n 1412: 358,\n 1413: 359,\n 1414: 360,\n 1415: 361,\n 1416: 362,\n 1417: 363,\n 1418: 364,\n 1419: 365,\n 1420: 366,\n 1421: 367,\n 1422: 368,\n 1423: 369,\n 1424: 370,\n 1425: 371,\n 1428: 372,\n 1429: 373,\n 1430: 374,\n 1431: 375,\n 1432: 376,\n 1433: 377,\n 1434: 378,\n 1435: 379,\n 1436: 380,\n 1437: 381,\n 1438: 382,\n 1439: 383,\n 1440: 384,\n 1441: 385,\n 1442: 386,\n 1443: 387,\n 1444: 388,\n 1445: 389,\n 1446: 390,\n 1447: 391,\n 1448: 392,\n 1449: 393,\n 1450: 394,\n 1451: 395,\n 1452: 396,\n 1453: 397,\n 1454: 398,\n 1455: 399,\n 1456: 400,\n 1457: 401,\n 1458: 402,\n 1459: 403,\n 1460: 404,\n 1461: 405,\n 1462: 406,\n 1463: 407,\n 1464: 408,\n 1465: 409,\n 1466: 410,\n 1467: 411,\n 1468: 412,\n 1469: 413,\n 1470: 414,\n 1471: 415,\n 1472: 416,\n 1473: 417,\n 1474: 418,\n 1475: 419,\n 1476: 420,\n 1477: 421,\n 1478: 422,\n 1479: 423,\n 1480: 424,\n 1481: 425,\n 1482: 426,\n 1483: 427,\n 1484: 428,\n 1485: 429,\n 1486: 430,\n 1487: 431,\n 1488: 432,\n 1489: 433,\n 1490: 434,\n 1491: 435,\n 1492: 436,\n 1493: 437,\n 1494: 438,\n 1495: 439,\n 1496: 440,\n 1497: 441,\n 1498: 442,\n 1499: 443,\n 1500: 444,\n 1501: 445,\n 1502: 446,\n 1503: 447,\n 1504: 448,\n 1505: 449,\n 1506: 450,\n 1507: 451,\n 1508: 452,\n 1509: 453,\n 1510: 454,\n 2379: 455,\n 2380: 456,\n 2381: 457,\n 2382: 458,\n 2383: 459,\n 2384: 460,\n 2385: 461,\n 2386: 462,\n 2387: 463,\n 2388: 464,\n 2389: 465,\n 2390: 466,\n 2391: 467,\n 2392: 468,\n 2393: 469,\n 2394: 470,\n 2395: 471,\n 2396: 472,\n 2397: 473,\n 2398: 474,\n 2399: 475,\n 2400: 476,\n 2401: 477,\n 2402: 478,\n 2403: 479,\n 2404: 480,\n 2405: 481,\n 2406: 482,\n 2407: 483,\n 2408: 484,\n 2409: 485,\n 2410: 486,\n 2411: 487,\n 2412: 488,\n 2413: 489,\n 2414: 490,\n 2415: 491,\n 2416: 492,\n 2417: 493,\n 2418: 494,\n 2419: 495,\n 2420: 496,\n 2421: 497,\n 2422: 498,\n 2423: 499,\n 2424: 500,\n 2425: 501,\n 2426: 502,\n 2427: 503,\n 2428: 504,\n 2429: 505,\n 2430: 506,\n 2431: 507,\n 2432: 508,\n 2433: 509,\n 2434: 510,\n 2435: 511,\n 2436: 512,\n 2437: 513,\n 2438: 514,\n 2439: 515,\n 2440: 516,\n 2441: 517,\n 2442: 518,\n 2443: 519,\n 2444: 520,\n 2445: 521,\n 2446: 522,\n 2447: 523,\n 2448: 524,\n 2449: 525,\n 2450: 526,\n 2451: 527,\n 2452: 528,\n 2453: 529,\n 2454: 530,\n 2455: 531,\n 2456: 532,\n 2457: 533,\n 2458: 534,\n 2459: 535,\n 2460: 536,\n 2461: 537,\n 2462: 538,\n 2463: 539,\n 2464: 540,\n 2465: 541,\n 2466: 542,\n 2467: 543,\n 2468: 544,\n 2469: 545,\n 2470: 546,\n 2471: 547,\n 2472: 548,\n 2473: 549,\n 2474: 550,\n 2475: 551,\n 2476: 552,\n 2477: 553,\n 2478: 554,\n 2479: 555,\n 2480: 556,\n 2481: 557,\n 2482: 558,\n 2483: 559,\n 2484: 560,\n 2485: 561,\n 2486: 562,\n 2487: 563,\n 2488: 564,\n 2489: 565,\n 2490: 566,\n 2492: 567,\n 2493: 568,\n 2494: 569,\n 2495: 570,\n 2496: 571,\n 2497: 572,\n 2498: 573,\n 2499: 574,\n 2500: 575,\n 2501: 576,\n 2502: 577,\n 2503: 578,\n 2504: 579,\n 2505: 580,\n 2506: 581,\n 2507: 582,\n 2508: 583,\n 2509: 584,\n 2510: 585,\n 2511: 586,\n 2512: 587,\n 2513: 588,\n 2514: 589,\n 2515: 590,\n 2516: 591,\n 2517: 592,\n 2518: 593,\n 2519: 594,\n 2520: 595,\n 2521: 596,\n 2522: 597,\n 2523: 598,\n 2524: 599,\n 2525: 600,\n 2526: 601,\n 2527: 602,\n 2528: 603,\n 2529: 604,\n 2530: 605,\n 2531: 606,\n 2532: 607,\n 2533: 608,\n 2534: 609,\n 2535: 610,\n 2536: 611,\n 2537: 612,\n 2538: 613,\n 2539: 614,\n 2540: 615,\n 2541: 616,\n 2542: 617,\n 2543: 618,\n 2544: 619,\n 2545: 620,\n 2546: 621,\n 2547: 622,\n 2548: 623,\n 2549: 624,\n 2550: 625,\n 2551: 626,\n 2552: 627,\n 2553: 628,\n 2554: 629,\n 2555: 630,\n 2556: 631,\n 2557: 632,\n 2558: 633,\n 2559: 634,\n 2560: 635,\n 2561: 636,\n 2562: 637,\n 2563: 638,\n 2564: 639,\n 2565: 640,\n 2566: 641,\n 2567: 642,\n 2568: 643,\n 2569: 644,\n 2570: 645,\n 2572: 646,\n 2573: 647,\n 2574: 648,\n 2575: 649,\n 2583: 650,\n 2584: 651,\n 2585: 652,\n 2586: 653,\n 2587: 654,\n 2588: 655,\n 2589: 656,\n 2590: 657,\n 2591: 658,\n 2592: 659,\n 2593: 660,\n 2594: 661,\n 2595: 662,\n 2596: 663,\n 2597: 664,\n 2598: 665,\n 2599: 666,\n 2600: 667,\n 2601: 668,\n 2602: 669,\n 2603: 670,\n 2604: 671,\n 2605: 672,\n 2606: 673,\n 2607: 674,\n 2608: 675,\n 2609: 676,\n 2610: 677,\n 2611: 678,\n 2612: 679,\n 2613: 680,\n 2614: 681,\n 2615: 682,\n 2616: 683,\n 2617: 684,\n 2618: 685,\n 2619: 686,\n 2620: 687,\n 2621: 688,\n 2622: 689,\n 2623: 690,\n 2624: 691,\n 2625: 692,\n 2626: 693,\n 2627: 694,\n 2628: 695,\n 2629: 696,\n 2630: 697,\n 2631: 698,\n 2632: 699,\n 2633: 700,\n 2634: 701,\n 2635: 702,\n 2636: 703,\n 2637: 704,\n 2638: 705,\n 2639: 706,\n 2640: 707,\n 2641: 708,\n 2642: 709,\n 2643: 710,\n 2644: 711,\n 2645: 712,\n 2646: 713,\n 2647: 714,\n 2648: 715,\n 2649: 716,\n 2650: 717,\n 2651: 718,\n 2652: 719,\n 2653: 720,\n 2654: 721,\n 2655: 722,\n 2656: 723,\n 2657: 724,\n 2658: 725,\n 2659: 726,\n 2660: 727,\n 2661: 728,\n 2662: 729,\n 2663: 730,\n 2664: 731,\n 2665: 732,\n 2666: 733,\n 2667: 734,\n 2668: 735,\n 2669: 736,\n 2670: 737,\n 2671: 738,\n 2672: 739,\n 2673: 740,\n 2674: 741,\n 2675: 742,\n 2676: 743,\n 2677: 744,\n 2678: 745,\n 2679: 746,\n 2680: 747,\n 2681: 748,\n 2682: 749,\n 2683: 750,\n 2684: 751,\n 2685: 752,\n 2686: 753,\n 2687: 754,\n 2688: 755,\n 2689: 756,\n 2690: 757,\n 2691: 758,\n 2692: 759,\n 2693: 760,\n 2694: 761,\n 2695: 762,\n 2696: 763,\n 2697: 764,\n 2698: 765,\n 2699: 766,\n 2700: 767,\n 2701: 768,\n 2702: 769,\n 2703: 770,\n 2704: 771,\n 2705: 772,\n 2706: 773,\n 2707: 774,\n 2708: 775,\n 2709: 776,\n 2710: 777,\n 2711: 778,\n 2712: 779,\n 2713: 780,\n 2714: 781,\n 2715: 782,\n 2716: 783,\n 2717: 784,\n 2718: 785,\n 2719: 786,\n 2720: 787,\n 2721: 788,\n 2722: 789,\n 2723: 790,\n 2724: 791,\n 2725: 792,\n 2726: 793,\n 2738: 794,\n 2739: 795,\n 2740: 796,\n 2741: 797,\n 2742: 798,\n 2743: 799,\n 2744: 800,\n 2745: 801,\n 2746: 802,\n 2747: 803,\n 2748: 804,\n 2749: 805,\n 2750: 806,\n 2751: 807,\n 2752: 808,\n 2753: 809,\n 2754: 810,\n 2755: 811,\n 2756: 812,\n 2757: 813,\n 2758: 814,\n 2759: 815,\n 2760: 816,\n 2761: 817,\n 2762: 818,\n 2763: 819,\n 2764: 820,\n 2765: 821,\n 2766: 822,\n 2767: 823,\n 2768: 824,\n 2769: 825,\n 2770: 826,\n 2771: 827,\n 2772: 828,\n 2773: 829,\n 2774: 830,\n 2775: 831,\n 2776: 832,\n 2777: 833,\n 2778: 834,\n 2779: 835,\n 2780: 836,\n 2781: 837,\n 2782: 838,\n 2783: 839,\n 2784: 840,\n 2785: 841,\n 2786: 842,\n 2787: 843,\n 2788: 844,\n 2789: 845,\n 2790: 846,\n 2791: 847,\n 2792: 848,\n 2793: 849,\n 2794: 850,\n 2795: 851,\n 2796: 852,\n 2797: 853,\n 2798: 854,\n 2799: 855,\n 2800: 856,\n 2801: 857,\n 2802: 858,\n 2803: 859,\n 2804: 860,\n 2805: 861,\n 2806: 862,\n 3558: 863,\n 3559: 864,\n 3560: 865,\n 3561: 866,\n 3562: 867,\n 3563: 868,\n 3564: 869,\n 3565: 870,\n 3566: 871,\n 3567: 872,\n 3568: 873,\n 3569: 874,\n 3570: 875,\n 3571: 876,\n 3572: 877,\n 3573: 878,\n 3574: 879,\n 3575: 880,\n 3576: 881,\n 3577: 882,\n 3578: 883,\n 3579: 884,\n 3580: 885,\n 3581: 886,\n 3582: 887,\n 3583: 888,\n 3584: 889,\n 3585: 890,\n 3586: 891,\n 3587: 892,\n 3588: 893,\n 3589: 894,\n 3590: 895,\n 3591: 896,\n 3592: 897,\n 3593: 898,\n 3594: 899,\n 3595: 900,\n 3596: 901,\n 3597: 902,\n 3598: 903,\n 3599: 904,\n 3600: 905,\n 3601: 906,\n 3602: 907,\n 3603: 908,\n 3604: 909,\n 3605: 910,\n 3606: 911,\n 3607: 912,\n 3608: 913,\n 3609: 914,\n 3610: 915,\n 3611: 916,\n 3612: 917,\n 3613: 918,\n 3614: 919,\n 3615: 920,\n 3616: 921,\n 3617: 922,\n 3618: 923,\n 3619: 924,\n 3620: 925,\n 3621: 926,\n 3622: 927,\n 3623: 928,\n 3624: 929,\n 3625: 930,\n 3626: 931,\n 3627: 932,\n 3628: 933,\n 3629: 934,\n 3630: 935,\n 3631: 936,\n 3632: 937,\n 3633: 938,\n 3634: 939,\n 3635: 940,\n 3636: 941,\n 3637: 942,\n 3638: 943,\n 3639: 944,\n 3640: 945,\n 3641: 946,\n 3642: 947,\n 3643: 948,\n 3644: 949,\n 3645: 950,\n 3646: 951,\n 3647: 952,\n 3648: 953,\n 3649: 954,\n 3650: 955,\n 3651: 956,\n 3652: 957,\n 3653: 958,\n 3654: 959,\n 3655: 960,\n 3656: 961,\n 3657: 962,\n 3658: 963,\n 3659: 964,\n 3660: 965,\n 3661: 966,\n 3662: 967,\n 3663: 968,\n 3664: 969,\n 3665: 970,\n 3666: 971,\n 3667: 972,\n 3668: 973,\n 3669: 974,\n 3670: 975,\n 3671: 976,\n 3672: 977,\n 3673: 978,\n 3674: 979,\n 3675: 980,\n 3676: 981,\n 3684: 982,\n 3685: 983,\n 3686: 984,\n 3687: 985,\n 3688: 986,\n 3689: 987,\n 3690: 988,\n 3691: 989,\n 3692: 990,\n 3693: 991,\n 3694: 992,\n 3695: 993,\n 3696: 994,\n 3697: 995,\n 3698: 996,\n 3699: 997,\n 3700: 998,\n 3701: 999,\n ...}"
     },
     "execution_count": 17,
     "metadata": {},
     "output_type": "execute_result"
    }
   ],
   "source": [
    "map"
   ],
   "metadata": {
    "collapsed": false,
    "ExecuteTime": {
     "end_time": "2023-10-21T15:12:30.146725Z",
     "start_time": "2023-10-21T15:12:30.139343Z"
    }
   },
   "id": "9a8af24944cec10c"
  },
  {
   "cell_type": "code",
   "execution_count": 19,
   "outputs": [
    {
     "data": {
      "text/plain": "832606"
     },
     "execution_count": 19,
     "metadata": {},
     "output_type": "execute_result"
    }
   ],
   "source": [
    "len(s)"
   ],
   "metadata": {
    "collapsed": false,
    "ExecuteTime": {
     "end_time": "2023-10-21T15:12:58.052890Z",
     "start_time": "2023-10-21T15:12:58.034341Z"
    }
   },
   "id": "c32c340f1e7ddbf7"
  },
  {
   "cell_type": "code",
   "execution_count": 20,
   "outputs": [
    {
     "data": {
      "text/plain": "92411"
     },
     "execution_count": 20,
     "metadata": {},
     "output_type": "execute_result"
    }
   ],
   "source": [
    "len(map.keys())"
   ],
   "metadata": {
    "collapsed": false,
    "ExecuteTime": {
     "end_time": "2023-10-21T15:13:06.819904Z",
     "start_time": "2023-10-21T15:13:06.808659Z"
    }
   },
   "id": "f649e9d849fd477"
  },
  {
   "cell_type": "code",
   "execution_count": 18,
   "outputs": [],
   "source": [
    "sresss = []\n",
    "\n",
    "for itr in range(len(s)):\n",
    "    if itr in map.keys():\n",
    "        sresss.append(s[itr])\n",
    "        "
   ],
   "metadata": {
    "collapsed": false,
    "ExecuteTime": {
     "end_time": "2023-10-21T18:39:11.609621Z",
     "start_time": "2023-10-21T18:39:11.528905Z"
    }
   },
   "id": "942616dc730d7b98"
  },
  {
   "cell_type": "code",
   "execution_count": 19,
   "outputs": [
    {
     "data": {
      "text/plain": "92411"
     },
     "execution_count": 19,
     "metadata": {},
     "output_type": "execute_result"
    }
   ],
   "source": [
    "len(sresss)"
   ],
   "metadata": {
    "collapsed": false,
    "ExecuteTime": {
     "end_time": "2023-10-21T18:39:12.267382Z",
     "start_time": "2023-10-21T18:39:12.252225Z"
    }
   },
   "id": "8702fab956bb180e"
  },
  {
   "cell_type": "code",
   "execution_count": 20,
   "outputs": [
    {
     "name": "stdout",
     "output_type": "stream",
     "text": [
      "[ 0. 25. 15.]\n"
     ]
    }
   ],
   "source": [
    "ooo = enc.inverse_transform(sresss)\n",
    "print(ooo[990])"
   ],
   "metadata": {
    "collapsed": false,
    "ExecuteTime": {
     "end_time": "2023-10-21T18:39:13.170032Z",
     "start_time": "2023-10-21T18:39:12.987597Z"
    }
   },
   "id": "89e3e3957717bc4c"
  },
  {
   "cell_type": "code",
   "execution_count": 21,
   "outputs": [],
   "source": [
    "import open3d as o3d\n",
    "\n",
    "pcd_baby = o3d.geometry.PointCloud()\n",
    "pcd_baby.points = o3d.utility.Vector3dVector(points)"
   ],
   "metadata": {
    "collapsed": false,
    "ExecuteTime": {
     "end_time": "2023-10-21T18:39:15.614099Z",
     "start_time": "2023-10-21T18:39:15.566159Z"
    }
   },
   "id": "9d27b55428bc661f"
  },
  {
   "cell_type": "code",
   "execution_count": 22,
   "outputs": [
    {
     "data": {
      "text/plain": "92411"
     },
     "execution_count": 22,
     "metadata": {},
     "output_type": "execute_result"
    }
   ],
   "source": [
    "len(pcd_baby.points)"
   ],
   "metadata": {
    "collapsed": false,
    "ExecuteTime": {
     "end_time": "2023-10-21T18:39:16.188768Z",
     "start_time": "2023-10-21T18:39:16.177495Z"
    }
   },
   "id": "789ba2dfcb9c0d98"
  },
  {
   "cell_type": "code",
   "execution_count": 23,
   "outputs": [],
   "source": [
    "downpcd = pcd_baby.voxel_down_sample(voxel_size=0.05)\n",
    "# o3d.visualization.draw_geometries([downpcd])"
   ],
   "metadata": {
    "collapsed": false,
    "ExecuteTime": {
     "end_time": "2023-10-21T18:39:17.728307Z",
     "start_time": "2023-10-21T18:39:17.721361Z"
    }
   },
   "id": "bb1e72478f90426e"
  },
  {
   "cell_type": "code",
   "execution_count": 24,
   "outputs": [
    {
     "data": {
      "text/plain": "63758"
     },
     "execution_count": 24,
     "metadata": {},
     "output_type": "execute_result"
    }
   ],
   "source": [
    "len(downpcd.points)"
   ],
   "metadata": {
    "collapsed": false,
    "ExecuteTime": {
     "end_time": "2023-10-21T18:39:18.485086Z",
     "start_time": "2023-10-21T18:39:18.473358Z"
    }
   },
   "id": "4a9901554a592412"
  },
  {
   "cell_type": "code",
   "execution_count": 27,
   "outputs": [
    {
     "data": {
      "text/plain": "{0: 0,\n 1: 1,\n 2: 2,\n 3: 3,\n 4: 4,\n 5: 5,\n 20: 6,\n 21: 7,\n 22: 8,\n 23: 9,\n 24: 10,\n 25: 11,\n 26: 12,\n 27: 13,\n 28: 14,\n 32: 15,\n 33: 16,\n 34: 17,\n 35: 18,\n 36: 19,\n 37: 20,\n 38: 21,\n 39: 22,\n 40: 23,\n 41: 24,\n 42: 25,\n 43: 26,\n 44: 27,\n 45: 28,\n 46: 29,\n 47: 30,\n 48: 31,\n 49: 32,\n 50: 33,\n 51: 34,\n 52: 35,\n 53: 36,\n 54: 37,\n 55: 38,\n 56: 39,\n 57: 40,\n 58: 41,\n 59: 42,\n 60: 43,\n 61: 44,\n 62: 45,\n 63: 46,\n 64: 47,\n 65: 48,\n 66: 49,\n 67: 50,\n 68: 51,\n 69: 52,\n 70: 53,\n 71: 54,\n 72: 55,\n 73: 56,\n 74: 57,\n 75: 58,\n 76: 59,\n 77: 60,\n 78: 61,\n 79: 62,\n 80: 63,\n 81: 64,\n 82: 65,\n 83: 66,\n 84: 67,\n 85: 68,\n 86: 69,\n 87: 70,\n 88: 71,\n 89: 72,\n 90: 73,\n 91: 74,\n 92: 75,\n 93: 76,\n 94: 77,\n 95: 78,\n 96: 79,\n 97: 80,\n 98: 81,\n 99: 82,\n 100: 83,\n 101: 84,\n 102: 85,\n 103: 86,\n 104: 87,\n 105: 88,\n 106: 89,\n 107: 90,\n 108: 91,\n 109: 92,\n 110: 93,\n 111: 94,\n 112: 95,\n 113: 96,\n 114: 97,\n 115: 98,\n 1153: 99,\n 1154: 100,\n 1155: 101,\n 1156: 102,\n 1157: 103,\n 1158: 104,\n 1159: 105,\n 1160: 106,\n 1161: 107,\n 1162: 108,\n 1163: 109,\n 1164: 110,\n 1165: 111,\n 1166: 112,\n 1167: 113,\n 1168: 114,\n 1169: 115,\n 1170: 116,\n 1171: 117,\n 1172: 118,\n 1173: 119,\n 1174: 120,\n 1175: 121,\n 1176: 122,\n 1177: 123,\n 1178: 124,\n 1179: 125,\n 1180: 126,\n 1181: 127,\n 1182: 128,\n 1183: 129,\n 1184: 130,\n 1185: 131,\n 1186: 132,\n 1187: 133,\n 1188: 134,\n 1189: 135,\n 1190: 136,\n 1191: 137,\n 1192: 138,\n 1193: 139,\n 1194: 140,\n 1195: 141,\n 1196: 142,\n 1197: 143,\n 1198: 144,\n 1199: 145,\n 1200: 146,\n 1201: 147,\n 1202: 148,\n 1203: 149,\n 1204: 150,\n 1205: 151,\n 1206: 152,\n 1207: 153,\n 1208: 154,\n 1209: 155,\n 1210: 156,\n 1211: 157,\n 1212: 158,\n 1213: 159,\n 1214: 160,\n 1215: 161,\n 1216: 162,\n 1217: 163,\n 1218: 164,\n 1219: 165,\n 1220: 166,\n 1221: 167,\n 1222: 168,\n 1223: 169,\n 1224: 170,\n 1225: 171,\n 1226: 172,\n 1227: 173,\n 1228: 174,\n 1229: 175,\n 1230: 176,\n 1231: 177,\n 1232: 178,\n 1233: 179,\n 1234: 180,\n 1235: 181,\n 1236: 182,\n 1237: 183,\n 1238: 184,\n 1239: 185,\n 1240: 186,\n 1241: 187,\n 1242: 188,\n 1243: 189,\n 1244: 190,\n 1245: 191,\n 1246: 192,\n 1247: 193,\n 1248: 194,\n 1249: 195,\n 1250: 196,\n 1251: 197,\n 1252: 198,\n 1253: 199,\n 1254: 200,\n 1255: 201,\n 1256: 202,\n 1257: 203,\n 1258: 204,\n 1259: 205,\n 1260: 206,\n 1261: 207,\n 1262: 208,\n 1263: 209,\n 1264: 210,\n 1265: 211,\n 1266: 212,\n 1267: 213,\n 1268: 214,\n 1269: 215,\n 1270: 216,\n 1271: 217,\n 1272: 218,\n 1273: 219,\n 1274: 220,\n 1275: 221,\n 1276: 222,\n 1277: 223,\n 1278: 224,\n 1279: 225,\n 1280: 226,\n 1281: 227,\n 1282: 228,\n 1283: 229,\n 1284: 230,\n 1285: 231,\n 1286: 232,\n 1287: 233,\n 1288: 234,\n 1289: 235,\n 1290: 236,\n 1291: 237,\n 1292: 238,\n 1293: 239,\n 1294: 240,\n 1295: 241,\n 1296: 242,\n 1297: 243,\n 1298: 244,\n 1299: 245,\n 1300: 246,\n 1301: 247,\n 1302: 248,\n 1303: 249,\n 1304: 250,\n 1305: 251,\n 1306: 252,\n 1307: 253,\n 1308: 254,\n 1309: 255,\n 1310: 256,\n 1311: 257,\n 1312: 258,\n 1313: 259,\n 1314: 260,\n 1315: 261,\n 1316: 262,\n 1317: 263,\n 1318: 264,\n 1319: 265,\n 1320: 266,\n 1321: 267,\n 1322: 268,\n 1323: 269,\n 1324: 270,\n 1325: 271,\n 1326: 272,\n 1327: 273,\n 1328: 274,\n 1329: 275,\n 1330: 276,\n 1331: 277,\n 1332: 278,\n 1333: 279,\n 1334: 280,\n 1335: 281,\n 1336: 282,\n 1337: 283,\n 1338: 284,\n 1339: 285,\n 1340: 286,\n 1341: 287,\n 1342: 288,\n 1343: 289,\n 1344: 290,\n 1345: 291,\n 1346: 292,\n 1347: 293,\n 1348: 294,\n 1349: 295,\n 1350: 296,\n 1351: 297,\n 1352: 298,\n 1353: 299,\n 1354: 300,\n 1355: 301,\n 1356: 302,\n 1357: 303,\n 1358: 304,\n 1359: 305,\n 1360: 306,\n 1361: 307,\n 1362: 308,\n 1363: 309,\n 1364: 310,\n 1365: 311,\n 1366: 312,\n 1367: 313,\n 1368: 314,\n 1369: 315,\n 1370: 316,\n 1371: 317,\n 1372: 318,\n 1373: 319,\n 1374: 320,\n 1375: 321,\n 1376: 322,\n 1377: 323,\n 1378: 324,\n 1379: 325,\n 1380: 326,\n 1381: 327,\n 1382: 328,\n 1383: 329,\n 1384: 330,\n 1385: 331,\n 1386: 332,\n 1387: 333,\n 1388: 334,\n 1389: 335,\n 1390: 336,\n 1391: 337,\n 1392: 338,\n 1393: 339,\n 1394: 340,\n 1395: 341,\n 1396: 342,\n 1397: 343,\n 1398: 344,\n 1399: 345,\n 1400: 346,\n 1401: 347,\n 1402: 348,\n 1403: 349,\n 1404: 350,\n 1405: 351,\n 1406: 352,\n 1407: 353,\n 1408: 354,\n 1409: 355,\n 1410: 356,\n 1411: 357,\n 1412: 358,\n 1413: 359,\n 1414: 360,\n 1415: 361,\n 1416: 362,\n 1417: 363,\n 1418: 364,\n 1419: 365,\n 1420: 366,\n 1421: 367,\n 1422: 368,\n 1423: 369,\n 1424: 370,\n 1425: 371,\n 1428: 372,\n 1429: 373,\n 1430: 374,\n 1431: 375,\n 1432: 376,\n 1433: 377,\n 1434: 378,\n 1435: 379,\n 1436: 380,\n 1437: 381,\n 1438: 382,\n 1439: 383,\n 1440: 384,\n 1441: 385,\n 1442: 386,\n 1443: 387,\n 1444: 388,\n 1445: 389,\n 1446: 390,\n 1447: 391,\n 1448: 392,\n 1449: 393,\n 1450: 394,\n 1451: 395,\n 1452: 396,\n 1453: 397,\n 1454: 398,\n 1455: 399,\n 1456: 400,\n 1457: 401,\n 1458: 402,\n 1459: 403,\n 1460: 404,\n 1461: 405,\n 1462: 406,\n 1463: 407,\n 1464: 408,\n 1465: 409,\n 1466: 410,\n 1467: 411,\n 1468: 412,\n 1469: 413,\n 1470: 414,\n 1471: 415,\n 1472: 416,\n 1473: 417,\n 1474: 418,\n 1475: 419,\n 1476: 420,\n 1477: 421,\n 1478: 422,\n 1479: 423,\n 1480: 424,\n 1481: 425,\n 1482: 426,\n 1483: 427,\n 1484: 428,\n 1485: 429,\n 1486: 430,\n 1487: 431,\n 1488: 432,\n 1489: 433,\n 1490: 434,\n 1491: 435,\n 1492: 436,\n 1493: 437,\n 1494: 438,\n 1495: 439,\n 1496: 440,\n 1497: 441,\n 1498: 442,\n 1499: 443,\n 1500: 444,\n 1501: 445,\n 1502: 446,\n 1503: 447,\n 1504: 448,\n 1505: 449,\n 1506: 450,\n 1507: 451,\n 1508: 452,\n 1509: 453,\n 1510: 454,\n 2379: 455,\n 2380: 456,\n 2381: 457,\n 2382: 458,\n 2383: 459,\n 2384: 460,\n 2385: 461,\n 2386: 462,\n 2387: 463,\n 2388: 464,\n 2389: 465,\n 2390: 466,\n 2391: 467,\n 2392: 468,\n 2393: 469,\n 2394: 470,\n 2395: 471,\n 2396: 472,\n 2397: 473,\n 2398: 474,\n 2399: 475,\n 2400: 476,\n 2401: 477,\n 2402: 478,\n 2403: 479,\n 2404: 480,\n 2405: 481,\n 2406: 482,\n 2407: 483,\n 2408: 484,\n 2409: 485,\n 2410: 486,\n 2411: 487,\n 2412: 488,\n 2413: 489,\n 2414: 490,\n 2415: 491,\n 2416: 492,\n 2417: 493,\n 2418: 494,\n 2419: 495,\n 2420: 496,\n 2421: 497,\n 2422: 498,\n 2423: 499,\n 2424: 500,\n 2425: 501,\n 2426: 502,\n 2427: 503,\n 2428: 504,\n 2429: 505,\n 2430: 506,\n 2431: 507,\n 2432: 508,\n 2433: 509,\n 2434: 510,\n 2435: 511,\n 2436: 512,\n 2437: 513,\n 2438: 514,\n 2439: 515,\n 2440: 516,\n 2441: 517,\n 2442: 518,\n 2443: 519,\n 2444: 520,\n 2445: 521,\n 2446: 522,\n 2447: 523,\n 2448: 524,\n 2449: 525,\n 2450: 526,\n 2451: 527,\n 2452: 528,\n 2453: 529,\n 2454: 530,\n 2455: 531,\n 2456: 532,\n 2457: 533,\n 2458: 534,\n 2459: 535,\n 2460: 536,\n 2461: 537,\n 2462: 538,\n 2463: 539,\n 2464: 540,\n 2465: 541,\n 2466: 542,\n 2467: 543,\n 2468: 544,\n 2469: 545,\n 2470: 546,\n 2471: 547,\n 2472: 548,\n 2473: 549,\n 2474: 550,\n 2475: 551,\n 2476: 552,\n 2477: 553,\n 2478: 554,\n 2479: 555,\n 2480: 556,\n 2481: 557,\n 2482: 558,\n 2483: 559,\n 2484: 560,\n 2485: 561,\n 2486: 562,\n 2487: 563,\n 2488: 564,\n 2489: 565,\n 2490: 566,\n 2492: 567,\n 2493: 568,\n 2494: 569,\n 2495: 570,\n 2496: 571,\n 2497: 572,\n 2498: 573,\n 2499: 574,\n 2500: 575,\n 2501: 576,\n 2502: 577,\n 2503: 578,\n 2504: 579,\n 2505: 580,\n 2506: 581,\n 2507: 582,\n 2508: 583,\n 2509: 584,\n 2510: 585,\n 2511: 586,\n 2512: 587,\n 2513: 588,\n 2514: 589,\n 2515: 590,\n 2516: 591,\n 2517: 592,\n 2518: 593,\n 2519: 594,\n 2520: 595,\n 2521: 596,\n 2522: 597,\n 2523: 598,\n 2524: 599,\n 2525: 600,\n 2526: 601,\n 2527: 602,\n 2528: 603,\n 2529: 604,\n 2530: 605,\n 2531: 606,\n 2532: 607,\n 2533: 608,\n 2534: 609,\n 2535: 610,\n 2536: 611,\n 2537: 612,\n 2538: 613,\n 2539: 614,\n 2540: 615,\n 2541: 616,\n 2542: 617,\n 2543: 618,\n 2544: 619,\n 2545: 620,\n 2546: 621,\n 2547: 622,\n 2548: 623,\n 2549: 624,\n 2550: 625,\n 2551: 626,\n 2552: 627,\n 2553: 628,\n 2554: 629,\n 2555: 630,\n 2556: 631,\n 2557: 632,\n 2558: 633,\n 2559: 634,\n 2560: 635,\n 2561: 636,\n 2562: 637,\n 2563: 638,\n 2564: 639,\n 2565: 640,\n 2566: 641,\n 2567: 642,\n 2568: 643,\n 2569: 644,\n 2570: 645,\n 2572: 646,\n 2573: 647,\n 2574: 648,\n 2575: 649,\n 2583: 650,\n 2584: 651,\n 2585: 652,\n 2586: 653,\n 2587: 654,\n 2588: 655,\n 2589: 656,\n 2590: 657,\n 2591: 658,\n 2592: 659,\n 2593: 660,\n 2594: 661,\n 2595: 662,\n 2596: 663,\n 2597: 664,\n 2598: 665,\n 2599: 666,\n 2600: 667,\n 2601: 668,\n 2602: 669,\n 2603: 670,\n 2604: 671,\n 2605: 672,\n 2606: 673,\n 2607: 674,\n 2608: 675,\n 2609: 676,\n 2610: 677,\n 2611: 678,\n 2612: 679,\n 2613: 680,\n 2614: 681,\n 2615: 682,\n 2616: 683,\n 2617: 684,\n 2618: 685,\n 2619: 686,\n 2620: 687,\n 2621: 688,\n 2622: 689,\n 2623: 690,\n 2624: 691,\n 2625: 692,\n 2626: 693,\n 2627: 694,\n 2628: 695,\n 2629: 696,\n 2630: 697,\n 2631: 698,\n 2632: 699,\n 2633: 700,\n 2634: 701,\n 2635: 702,\n 2636: 703,\n 2637: 704,\n 2638: 705,\n 2639: 706,\n 2640: 707,\n 2641: 708,\n 2642: 709,\n 2643: 710,\n 2644: 711,\n 2645: 712,\n 2646: 713,\n 2647: 714,\n 2648: 715,\n 2649: 716,\n 2650: 717,\n 2651: 718,\n 2652: 719,\n 2653: 720,\n 2654: 721,\n 2655: 722,\n 2656: 723,\n 2657: 724,\n 2658: 725,\n 2659: 726,\n 2660: 727,\n 2661: 728,\n 2662: 729,\n 2663: 730,\n 2664: 731,\n 2665: 732,\n 2666: 733,\n 2667: 734,\n 2668: 735,\n 2669: 736,\n 2670: 737,\n 2671: 738,\n 2672: 739,\n 2673: 740,\n 2674: 741,\n 2675: 742,\n 2676: 743,\n 2677: 744,\n 2678: 745,\n 2679: 746,\n 2680: 747,\n 2681: 748,\n 2682: 749,\n 2683: 750,\n 2684: 751,\n 2685: 752,\n 2686: 753,\n 2687: 754,\n 2688: 755,\n 2689: 756,\n 2690: 757,\n 2691: 758,\n 2692: 759,\n 2693: 760,\n 2694: 761,\n 2695: 762,\n 2696: 763,\n 2697: 764,\n 2698: 765,\n 2699: 766,\n 2700: 767,\n 2701: 768,\n 2702: 769,\n 2703: 770,\n 2704: 771,\n 2705: 772,\n 2706: 773,\n 2707: 774,\n 2708: 775,\n 2709: 776,\n 2710: 777,\n 2711: 778,\n 2712: 779,\n 2713: 780,\n 2714: 781,\n 2715: 782,\n 2716: 783,\n 2717: 784,\n 2718: 785,\n 2719: 786,\n 2720: 787,\n 2721: 788,\n 2722: 789,\n 2723: 790,\n 2724: 791,\n 2725: 792,\n 2726: 793,\n 2738: 794,\n 2739: 795,\n 2740: 796,\n 2741: 797,\n 2742: 798,\n 2743: 799,\n 2744: 800,\n 2745: 801,\n 2746: 802,\n 2747: 803,\n 2748: 804,\n 2749: 805,\n 2750: 806,\n 2751: 807,\n 2752: 808,\n 2753: 809,\n 2754: 810,\n 2755: 811,\n 2756: 812,\n 2757: 813,\n 2758: 814,\n 2759: 815,\n 2760: 816,\n 2761: 817,\n 2762: 818,\n 2763: 819,\n 2764: 820,\n 2765: 821,\n 2766: 822,\n 2767: 823,\n 2768: 824,\n 2769: 825,\n 2770: 826,\n 2771: 827,\n 2772: 828,\n 2773: 829,\n 2774: 830,\n 2775: 831,\n 2776: 832,\n 2777: 833,\n 2778: 834,\n 2779: 835,\n 2780: 836,\n 2781: 837,\n 2782: 838,\n 2783: 839,\n 2784: 840,\n 2785: 841,\n 2786: 842,\n 2787: 843,\n 2788: 844,\n 2789: 845,\n 2790: 846,\n 2791: 847,\n 2792: 848,\n 2793: 849,\n 2794: 850,\n 2795: 851,\n 2796: 852,\n 2797: 853,\n 2798: 854,\n 2799: 855,\n 2800: 856,\n 2801: 857,\n 2802: 858,\n 2803: 859,\n 2804: 860,\n 2805: 861,\n 2806: 862,\n 3558: 863,\n 3559: 864,\n 3560: 865,\n 3561: 866,\n 3562: 867,\n 3563: 868,\n 3564: 869,\n 3565: 870,\n 3566: 871,\n 3567: 872,\n 3568: 873,\n 3569: 874,\n 3570: 875,\n 3571: 876,\n 3572: 877,\n 3573: 878,\n 3574: 879,\n 3575: 880,\n 3576: 881,\n 3577: 882,\n 3578: 883,\n 3579: 884,\n 3580: 885,\n 3581: 886,\n 3582: 887,\n 3583: 888,\n 3584: 889,\n 3585: 890,\n 3586: 891,\n 3587: 892,\n 3588: 893,\n 3589: 894,\n 3590: 895,\n 3591: 896,\n 3592: 897,\n 3593: 898,\n 3594: 899,\n 3595: 900,\n 3596: 901,\n 3597: 902,\n 3598: 903,\n 3599: 904,\n 3600: 905,\n 3601: 906,\n 3602: 907,\n 3603: 908,\n 3604: 909,\n 3605: 910,\n 3606: 911,\n 3607: 912,\n 3608: 913,\n 3609: 914,\n 3610: 915,\n 3611: 916,\n 3612: 917,\n 3613: 918,\n 3614: 919,\n 3615: 920,\n 3616: 921,\n 3617: 922,\n 3618: 923,\n 3619: 924,\n 3620: 925,\n 3621: 926,\n 3622: 927,\n 3623: 928,\n 3624: 929,\n 3625: 930,\n 3626: 931,\n 3627: 932,\n 3628: 933,\n 3629: 934,\n 3630: 935,\n 3631: 936,\n 3632: 937,\n 3633: 938,\n 3634: 939,\n 3635: 940,\n 3636: 941,\n 3637: 942,\n 3638: 943,\n 3639: 944,\n 3640: 945,\n 3641: 946,\n 3642: 947,\n 3643: 948,\n 3644: 949,\n 3645: 950,\n 3646: 951,\n 3647: 952,\n 3648: 953,\n 3649: 954,\n 3650: 955,\n 3651: 956,\n 3652: 957,\n 3653: 958,\n 3654: 959,\n 3655: 960,\n 3656: 961,\n 3657: 962,\n 3658: 963,\n 3659: 964,\n 3660: 965,\n 3661: 966,\n 3662: 967,\n 3663: 968,\n 3664: 969,\n 3665: 970,\n 3666: 971,\n 3667: 972,\n 3668: 973,\n 3669: 974,\n 3670: 975,\n 3671: 976,\n 3672: 977,\n 3673: 978,\n 3674: 979,\n 3675: 980,\n 3676: 981,\n 3684: 982,\n 3685: 983,\n 3686: 984,\n 3687: 985,\n 3688: 986,\n 3689: 987,\n 3690: 988,\n 3691: 989,\n 3692: 990,\n 3693: 991,\n 3694: 992,\n 3695: 993,\n 3696: 994,\n 3697: 995,\n 3698: 996,\n 3699: 997,\n 3700: 998,\n 3701: 999,\n ...}"
     },
     "execution_count": 27,
     "metadata": {},
     "output_type": "execute_result"
    }
   ],
   "source": [
    "map"
   ],
   "metadata": {
    "collapsed": false,
    "ExecuteTime": {
     "end_time": "2023-10-21T15:21:06.887800Z",
     "start_time": "2023-10-21T15:21:06.870455Z"
    }
   },
   "id": "7f4fc91eab34d5de"
  },
  {
   "cell_type": "code",
   "execution_count": 25,
   "outputs": [],
   "source": [
    "sresss = []\n",
    "mapsresss = {}\n",
    "u = 0\n",
    "for itr in range(len(s)):\n",
    "    if itr in map.keys():\n",
    "        sresss.append(s[itr])\n",
    "        dict12 = {itr:len(sresss) - 1}\n",
    "        mapsresss.update(dict12)"
   ],
   "metadata": {
    "collapsed": false,
    "ExecuteTime": {
     "end_time": "2023-10-21T18:39:38.300426Z",
     "start_time": "2023-10-21T18:39:38.212631Z"
    }
   },
   "id": "e4bb8fb55e67087"
  },
  {
   "cell_type": "code",
   "execution_count": 26,
   "outputs": [
    {
     "data": {
      "text/plain": "92411"
     },
     "execution_count": 26,
     "metadata": {},
     "output_type": "execute_result"
    }
   ],
   "source": [
    "len(sresss)"
   ],
   "metadata": {
    "collapsed": false,
    "ExecuteTime": {
     "end_time": "2023-10-21T18:39:39.583754Z",
     "start_time": "2023-10-21T18:39:39.562522Z"
    }
   },
   "id": "763c144c0660dfaf"
  },
  {
   "cell_type": "code",
   "execution_count": 27,
   "outputs": [
    {
     "data": {
      "text/plain": "92411"
     },
     "execution_count": 27,
     "metadata": {},
     "output_type": "execute_result"
    }
   ],
   "source": [
    "len(pcd_baby.points)"
   ],
   "metadata": {
    "collapsed": false,
    "ExecuteTime": {
     "end_time": "2023-10-21T18:39:40.064450Z",
     "start_time": "2023-10-21T18:39:40.049727Z"
    }
   },
   "id": "ed7149386c099a58"
  },
  {
   "cell_type": "code",
   "execution_count": 29,
   "outputs": [
    {
     "data": {
      "text/plain": "{0: 0,\n 1: 1,\n 2: 2,\n 3: 3,\n 4: 4,\n 5: 5,\n 20: 6,\n 21: 7,\n 22: 8,\n 23: 9,\n 24: 10,\n 25: 11,\n 26: 12,\n 27: 13,\n 28: 14,\n 32: 15,\n 33: 16,\n 34: 17,\n 35: 18,\n 36: 19,\n 37: 20,\n 38: 21,\n 39: 22,\n 40: 23,\n 41: 24,\n 42: 25,\n 43: 26,\n 44: 27,\n 45: 28,\n 46: 29,\n 47: 30,\n 48: 31,\n 49: 32,\n 50: 33,\n 51: 34,\n 52: 35,\n 53: 36,\n 54: 37,\n 55: 38,\n 56: 39,\n 57: 40,\n 58: 41,\n 59: 42,\n 60: 43,\n 61: 44,\n 62: 45,\n 63: 46,\n 64: 47,\n 65: 48,\n 66: 49,\n 67: 50,\n 68: 51,\n 69: 52,\n 70: 53,\n 71: 54,\n 72: 55,\n 73: 56,\n 74: 57,\n 75: 58,\n 76: 59,\n 77: 60,\n 78: 61,\n 79: 62,\n 80: 63,\n 81: 64,\n 82: 65,\n 83: 66,\n 84: 67,\n 85: 68,\n 86: 69,\n 87: 70,\n 88: 71,\n 89: 72,\n 90: 73,\n 91: 74,\n 92: 75,\n 93: 76,\n 94: 77,\n 95: 78,\n 96: 79,\n 97: 80,\n 98: 81,\n 99: 82,\n 100: 83,\n 101: 84,\n 102: 85,\n 103: 86,\n 104: 87,\n 105: 88,\n 106: 89,\n 107: 90,\n 108: 91,\n 109: 92,\n 110: 93,\n 111: 94,\n 112: 95,\n 113: 96,\n 114: 97,\n 115: 98,\n 1153: 99,\n 1154: 100,\n 1155: 101,\n 1156: 102,\n 1157: 103,\n 1158: 104,\n 1159: 105,\n 1160: 106,\n 1161: 107,\n 1162: 108,\n 1163: 109,\n 1164: 110,\n 1165: 111,\n 1166: 112,\n 1167: 113,\n 1168: 114,\n 1169: 115,\n 1170: 116,\n 1171: 117,\n 1172: 118,\n 1173: 119,\n 1174: 120,\n 1175: 121,\n 1176: 122,\n 1177: 123,\n 1178: 124,\n 1179: 125,\n 1180: 126,\n 1181: 127,\n 1182: 128,\n 1183: 129,\n 1184: 130,\n 1185: 131,\n 1186: 132,\n 1187: 133,\n 1188: 134,\n 1189: 135,\n 1190: 136,\n 1191: 137,\n 1192: 138,\n 1193: 139,\n 1194: 140,\n 1195: 141,\n 1196: 142,\n 1197: 143,\n 1198: 144,\n 1199: 145,\n 1200: 146,\n 1201: 147,\n 1202: 148,\n 1203: 149,\n 1204: 150,\n 1205: 151,\n 1206: 152,\n 1207: 153,\n 1208: 154,\n 1209: 155,\n 1210: 156,\n 1211: 157,\n 1212: 158,\n 1213: 159,\n 1214: 160,\n 1215: 161,\n 1216: 162,\n 1217: 163,\n 1218: 164,\n 1219: 165,\n 1220: 166,\n 1221: 167,\n 1222: 168,\n 1223: 169,\n 1224: 170,\n 1225: 171,\n 1226: 172,\n 1227: 173,\n 1228: 174,\n 1229: 175,\n 1230: 176,\n 1231: 177,\n 1232: 178,\n 1233: 179,\n 1234: 180,\n 1235: 181,\n 1236: 182,\n 1237: 183,\n 1238: 184,\n 1239: 185,\n 1240: 186,\n 1241: 187,\n 1242: 188,\n 1243: 189,\n 1244: 190,\n 1245: 191,\n 1246: 192,\n 1247: 193,\n 1248: 194,\n 1249: 195,\n 1250: 196,\n 1251: 197,\n 1252: 198,\n 1253: 199,\n 1254: 200,\n 1255: 201,\n 1256: 202,\n 1257: 203,\n 1258: 204,\n 1259: 205,\n 1260: 206,\n 1261: 207,\n 1262: 208,\n 1263: 209,\n 1264: 210,\n 1265: 211,\n 1266: 212,\n 1267: 213,\n 1268: 214,\n 1269: 215,\n 1270: 216,\n 1271: 217,\n 1272: 218,\n 1273: 219,\n 1274: 220,\n 1275: 221,\n 1276: 222,\n 1277: 223,\n 1278: 224,\n 1279: 225,\n 1280: 226,\n 1281: 227,\n 1282: 228,\n 1283: 229,\n 1284: 230,\n 1285: 231,\n 1286: 232,\n 1287: 233,\n 1288: 234,\n 1289: 235,\n 1290: 236,\n 1291: 237,\n 1292: 238,\n 1293: 239,\n 1294: 240,\n 1295: 241,\n 1296: 242,\n 1297: 243,\n 1298: 244,\n 1299: 245,\n 1300: 246,\n 1301: 247,\n 1302: 248,\n 1303: 249,\n 1304: 250,\n 1305: 251,\n 1306: 252,\n 1307: 253,\n 1308: 254,\n 1309: 255,\n 1310: 256,\n 1311: 257,\n 1312: 258,\n 1313: 259,\n 1314: 260,\n 1315: 261,\n 1316: 262,\n 1317: 263,\n 1318: 264,\n 1319: 265,\n 1320: 266,\n 1321: 267,\n 1322: 268,\n 1323: 269,\n 1324: 270,\n 1325: 271,\n 1326: 272,\n 1327: 273,\n 1328: 274,\n 1329: 275,\n 1330: 276,\n 1331: 277,\n 1332: 278,\n 1333: 279,\n 1334: 280,\n 1335: 281,\n 1336: 282,\n 1337: 283,\n 1338: 284,\n 1339: 285,\n 1340: 286,\n 1341: 287,\n 1342: 288,\n 1343: 289,\n 1344: 290,\n 1345: 291,\n 1346: 292,\n 1347: 293,\n 1348: 294,\n 1349: 295,\n 1350: 296,\n 1351: 297,\n 1352: 298,\n 1353: 299,\n 1354: 300,\n 1355: 301,\n 1356: 302,\n 1357: 303,\n 1358: 304,\n 1359: 305,\n 1360: 306,\n 1361: 307,\n 1362: 308,\n 1363: 309,\n 1364: 310,\n 1365: 311,\n 1366: 312,\n 1367: 313,\n 1368: 314,\n 1369: 315,\n 1370: 316,\n 1371: 317,\n 1372: 318,\n 1373: 319,\n 1374: 320,\n 1375: 321,\n 1376: 322,\n 1377: 323,\n 1378: 324,\n 1379: 325,\n 1380: 326,\n 1381: 327,\n 1382: 328,\n 1383: 329,\n 1384: 330,\n 1385: 331,\n 1386: 332,\n 1387: 333,\n 1388: 334,\n 1389: 335,\n 1390: 336,\n 1391: 337,\n 1392: 338,\n 1393: 339,\n 1394: 340,\n 1395: 341,\n 1396: 342,\n 1397: 343,\n 1398: 344,\n 1399: 345,\n 1400: 346,\n 1401: 347,\n 1402: 348,\n 1403: 349,\n 1404: 350,\n 1405: 351,\n 1406: 352,\n 1407: 353,\n 1408: 354,\n 1409: 355,\n 1410: 356,\n 1411: 357,\n 1412: 358,\n 1413: 359,\n 1414: 360,\n 1415: 361,\n 1416: 362,\n 1417: 363,\n 1418: 364,\n 1419: 365,\n 1420: 366,\n 1421: 367,\n 1422: 368,\n 1423: 369,\n 1424: 370,\n 1425: 371,\n 1428: 372,\n 1429: 373,\n 1430: 374,\n 1431: 375,\n 1432: 376,\n 1433: 377,\n 1434: 378,\n 1435: 379,\n 1436: 380,\n 1437: 381,\n 1438: 382,\n 1439: 383,\n 1440: 384,\n 1441: 385,\n 1442: 386,\n 1443: 387,\n 1444: 388,\n 1445: 389,\n 1446: 390,\n 1447: 391,\n 1448: 392,\n 1449: 393,\n 1450: 394,\n 1451: 395,\n 1452: 396,\n 1453: 397,\n 1454: 398,\n 1455: 399,\n 1456: 400,\n 1457: 401,\n 1458: 402,\n 1459: 403,\n 1460: 404,\n 1461: 405,\n 1462: 406,\n 1463: 407,\n 1464: 408,\n 1465: 409,\n 1466: 410,\n 1467: 411,\n 1468: 412,\n 1469: 413,\n 1470: 414,\n 1471: 415,\n 1472: 416,\n 1473: 417,\n 1474: 418,\n 1475: 419,\n 1476: 420,\n 1477: 421,\n 1478: 422,\n 1479: 423,\n 1480: 424,\n 1481: 425,\n 1482: 426,\n 1483: 427,\n 1484: 428,\n 1485: 429,\n 1486: 430,\n 1487: 431,\n 1488: 432,\n 1489: 433,\n 1490: 434,\n 1491: 435,\n 1492: 436,\n 1493: 437,\n 1494: 438,\n 1495: 439,\n 1496: 440,\n 1497: 441,\n 1498: 442,\n 1499: 443,\n 1500: 444,\n 1501: 445,\n 1502: 446,\n 1503: 447,\n 1504: 448,\n 1505: 449,\n 1506: 450,\n 1507: 451,\n 1508: 452,\n 1509: 453,\n 1510: 454,\n 2379: 455,\n 2380: 456,\n 2381: 457,\n 2382: 458,\n 2383: 459,\n 2384: 460,\n 2385: 461,\n 2386: 462,\n 2387: 463,\n 2388: 464,\n 2389: 465,\n 2390: 466,\n 2391: 467,\n 2392: 468,\n 2393: 469,\n 2394: 470,\n 2395: 471,\n 2396: 472,\n 2397: 473,\n 2398: 474,\n 2399: 475,\n 2400: 476,\n 2401: 477,\n 2402: 478,\n 2403: 479,\n 2404: 480,\n 2405: 481,\n 2406: 482,\n 2407: 483,\n 2408: 484,\n 2409: 485,\n 2410: 486,\n 2411: 487,\n 2412: 488,\n 2413: 489,\n 2414: 490,\n 2415: 491,\n 2416: 492,\n 2417: 493,\n 2418: 494,\n 2419: 495,\n 2420: 496,\n 2421: 497,\n 2422: 498,\n 2423: 499,\n 2424: 500,\n 2425: 501,\n 2426: 502,\n 2427: 503,\n 2428: 504,\n 2429: 505,\n 2430: 506,\n 2431: 507,\n 2432: 508,\n 2433: 509,\n 2434: 510,\n 2435: 511,\n 2436: 512,\n 2437: 513,\n 2438: 514,\n 2439: 515,\n 2440: 516,\n 2441: 517,\n 2442: 518,\n 2443: 519,\n 2444: 520,\n 2445: 521,\n 2446: 522,\n 2447: 523,\n 2448: 524,\n 2449: 525,\n 2450: 526,\n 2451: 527,\n 2452: 528,\n 2453: 529,\n 2454: 530,\n 2455: 531,\n 2456: 532,\n 2457: 533,\n 2458: 534,\n 2459: 535,\n 2460: 536,\n 2461: 537,\n 2462: 538,\n 2463: 539,\n 2464: 540,\n 2465: 541,\n 2466: 542,\n 2467: 543,\n 2468: 544,\n 2469: 545,\n 2470: 546,\n 2471: 547,\n 2472: 548,\n 2473: 549,\n 2474: 550,\n 2475: 551,\n 2476: 552,\n 2477: 553,\n 2478: 554,\n 2479: 555,\n 2480: 556,\n 2481: 557,\n 2482: 558,\n 2483: 559,\n 2484: 560,\n 2485: 561,\n 2486: 562,\n 2487: 563,\n 2488: 564,\n 2489: 565,\n 2490: 566,\n 2492: 567,\n 2493: 568,\n 2494: 569,\n 2495: 570,\n 2496: 571,\n 2497: 572,\n 2498: 573,\n 2499: 574,\n 2500: 575,\n 2501: 576,\n 2502: 577,\n 2503: 578,\n 2504: 579,\n 2505: 580,\n 2506: 581,\n 2507: 582,\n 2508: 583,\n 2509: 584,\n 2510: 585,\n 2511: 586,\n 2512: 587,\n 2513: 588,\n 2514: 589,\n 2515: 590,\n 2516: 591,\n 2517: 592,\n 2518: 593,\n 2519: 594,\n 2520: 595,\n 2521: 596,\n 2522: 597,\n 2523: 598,\n 2524: 599,\n 2525: 600,\n 2526: 601,\n 2527: 602,\n 2528: 603,\n 2529: 604,\n 2530: 605,\n 2531: 606,\n 2532: 607,\n 2533: 608,\n 2534: 609,\n 2535: 610,\n 2536: 611,\n 2537: 612,\n 2538: 613,\n 2539: 614,\n 2540: 615,\n 2541: 616,\n 2542: 617,\n 2543: 618,\n 2544: 619,\n 2545: 620,\n 2546: 621,\n 2547: 622,\n 2548: 623,\n 2549: 624,\n 2550: 625,\n 2551: 626,\n 2552: 627,\n 2553: 628,\n 2554: 629,\n 2555: 630,\n 2556: 631,\n 2557: 632,\n 2558: 633,\n 2559: 634,\n 2560: 635,\n 2561: 636,\n 2562: 637,\n 2563: 638,\n 2564: 639,\n 2565: 640,\n 2566: 641,\n 2567: 642,\n 2568: 643,\n 2569: 644,\n 2570: 645,\n 2572: 646,\n 2573: 647,\n 2574: 648,\n 2575: 649,\n 2583: 650,\n 2584: 651,\n 2585: 652,\n 2586: 653,\n 2587: 654,\n 2588: 655,\n 2589: 656,\n 2590: 657,\n 2591: 658,\n 2592: 659,\n 2593: 660,\n 2594: 661,\n 2595: 662,\n 2596: 663,\n 2597: 664,\n 2598: 665,\n 2599: 666,\n 2600: 667,\n 2601: 668,\n 2602: 669,\n 2603: 670,\n 2604: 671,\n 2605: 672,\n 2606: 673,\n 2607: 674,\n 2608: 675,\n 2609: 676,\n 2610: 677,\n 2611: 678,\n 2612: 679,\n 2613: 680,\n 2614: 681,\n 2615: 682,\n 2616: 683,\n 2617: 684,\n 2618: 685,\n 2619: 686,\n 2620: 687,\n 2621: 688,\n 2622: 689,\n 2623: 690,\n 2624: 691,\n 2625: 692,\n 2626: 693,\n 2627: 694,\n 2628: 695,\n 2629: 696,\n 2630: 697,\n 2631: 698,\n 2632: 699,\n 2633: 700,\n 2634: 701,\n 2635: 702,\n 2636: 703,\n 2637: 704,\n 2638: 705,\n 2639: 706,\n 2640: 707,\n 2641: 708,\n 2642: 709,\n 2643: 710,\n 2644: 711,\n 2645: 712,\n 2646: 713,\n 2647: 714,\n 2648: 715,\n 2649: 716,\n 2650: 717,\n 2651: 718,\n 2652: 719,\n 2653: 720,\n 2654: 721,\n 2655: 722,\n 2656: 723,\n 2657: 724,\n 2658: 725,\n 2659: 726,\n 2660: 727,\n 2661: 728,\n 2662: 729,\n 2663: 730,\n 2664: 731,\n 2665: 732,\n 2666: 733,\n 2667: 734,\n 2668: 735,\n 2669: 736,\n 2670: 737,\n 2671: 738,\n 2672: 739,\n 2673: 740,\n 2674: 741,\n 2675: 742,\n 2676: 743,\n 2677: 744,\n 2678: 745,\n 2679: 746,\n 2680: 747,\n 2681: 748,\n 2682: 749,\n 2683: 750,\n 2684: 751,\n 2685: 752,\n 2686: 753,\n 2687: 754,\n 2688: 755,\n 2689: 756,\n 2690: 757,\n 2691: 758,\n 2692: 759,\n 2693: 760,\n 2694: 761,\n 2695: 762,\n 2696: 763,\n 2697: 764,\n 2698: 765,\n 2699: 766,\n 2700: 767,\n 2701: 768,\n 2702: 769,\n 2703: 770,\n 2704: 771,\n 2705: 772,\n 2706: 773,\n 2707: 774,\n 2708: 775,\n 2709: 776,\n 2710: 777,\n 2711: 778,\n 2712: 779,\n 2713: 780,\n 2714: 781,\n 2715: 782,\n 2716: 783,\n 2717: 784,\n 2718: 785,\n 2719: 786,\n 2720: 787,\n 2721: 788,\n 2722: 789,\n 2723: 790,\n 2724: 791,\n 2725: 792,\n 2726: 793,\n 2738: 794,\n 2739: 795,\n 2740: 796,\n 2741: 797,\n 2742: 798,\n 2743: 799,\n 2744: 800,\n 2745: 801,\n 2746: 802,\n 2747: 803,\n 2748: 804,\n 2749: 805,\n 2750: 806,\n 2751: 807,\n 2752: 808,\n 2753: 809,\n 2754: 810,\n 2755: 811,\n 2756: 812,\n 2757: 813,\n 2758: 814,\n 2759: 815,\n 2760: 816,\n 2761: 817,\n 2762: 818,\n 2763: 819,\n 2764: 820,\n 2765: 821,\n 2766: 822,\n 2767: 823,\n 2768: 824,\n 2769: 825,\n 2770: 826,\n 2771: 827,\n 2772: 828,\n 2773: 829,\n 2774: 830,\n 2775: 831,\n 2776: 832,\n 2777: 833,\n 2778: 834,\n 2779: 835,\n 2780: 836,\n 2781: 837,\n 2782: 838,\n 2783: 839,\n 2784: 840,\n 2785: 841,\n 2786: 842,\n 2787: 843,\n 2788: 844,\n 2789: 845,\n 2790: 846,\n 2791: 847,\n 2792: 848,\n 2793: 849,\n 2794: 850,\n 2795: 851,\n 2796: 852,\n 2797: 853,\n 2798: 854,\n 2799: 855,\n 2800: 856,\n 2801: 857,\n 2802: 858,\n 2803: 859,\n 2804: 860,\n 2805: 861,\n 2806: 862,\n 3558: 863,\n 3559: 864,\n 3560: 865,\n 3561: 866,\n 3562: 867,\n 3563: 868,\n 3564: 869,\n 3565: 870,\n 3566: 871,\n 3567: 872,\n 3568: 873,\n 3569: 874,\n 3570: 875,\n 3571: 876,\n 3572: 877,\n 3573: 878,\n 3574: 879,\n 3575: 880,\n 3576: 881,\n 3577: 882,\n 3578: 883,\n 3579: 884,\n 3580: 885,\n 3581: 886,\n 3582: 887,\n 3583: 888,\n 3584: 889,\n 3585: 890,\n 3586: 891,\n 3587: 892,\n 3588: 893,\n 3589: 894,\n 3590: 895,\n 3591: 896,\n 3592: 897,\n 3593: 898,\n 3594: 899,\n 3595: 900,\n 3596: 901,\n 3597: 902,\n 3598: 903,\n 3599: 904,\n 3600: 905,\n 3601: 906,\n 3602: 907,\n 3603: 908,\n 3604: 909,\n 3605: 910,\n 3606: 911,\n 3607: 912,\n 3608: 913,\n 3609: 914,\n 3610: 915,\n 3611: 916,\n 3612: 917,\n 3613: 918,\n 3614: 919,\n 3615: 920,\n 3616: 921,\n 3617: 922,\n 3618: 923,\n 3619: 924,\n 3620: 925,\n 3621: 926,\n 3622: 927,\n 3623: 928,\n 3624: 929,\n 3625: 930,\n 3626: 931,\n 3627: 932,\n 3628: 933,\n 3629: 934,\n 3630: 935,\n 3631: 936,\n 3632: 937,\n 3633: 938,\n 3634: 939,\n 3635: 940,\n 3636: 941,\n 3637: 942,\n 3638: 943,\n 3639: 944,\n 3640: 945,\n 3641: 946,\n 3642: 947,\n 3643: 948,\n 3644: 949,\n 3645: 950,\n 3646: 951,\n 3647: 952,\n 3648: 953,\n 3649: 954,\n 3650: 955,\n 3651: 956,\n 3652: 957,\n 3653: 958,\n 3654: 959,\n 3655: 960,\n 3656: 961,\n 3657: 962,\n 3658: 963,\n 3659: 964,\n 3660: 965,\n 3661: 966,\n 3662: 967,\n 3663: 968,\n 3664: 969,\n 3665: 970,\n 3666: 971,\n 3667: 972,\n 3668: 973,\n 3669: 974,\n 3670: 975,\n 3671: 976,\n 3672: 977,\n 3673: 978,\n 3674: 979,\n 3675: 980,\n 3676: 981,\n 3684: 982,\n 3685: 983,\n 3686: 984,\n 3687: 985,\n 3688: 986,\n 3689: 987,\n 3690: 988,\n 3691: 989,\n 3692: 990,\n 3693: 991,\n 3694: 992,\n 3695: 993,\n 3696: 994,\n 3697: 995,\n 3698: 996,\n 3699: 997,\n 3700: 998,\n 3701: 999,\n ...}"
     },
     "execution_count": 29,
     "metadata": {},
     "output_type": "execute_result"
    }
   ],
   "source": [
    "mapsresss"
   ],
   "metadata": {
    "collapsed": false,
    "ExecuteTime": {
     "end_time": "2023-10-21T15:21:59.915401Z",
     "start_time": "2023-10-21T15:21:59.897920Z"
    }
   },
   "id": "a2402d4e6906d85a"
  },
  {
   "cell_type": "code",
   "execution_count": null,
   "outputs": [],
   "source": [
    "sresss2 = []\n",
    "for itr in range(len(sresss)):\n",
    "    for yy in range(len(downpcd.points)):\n",
    "        if itr"
   ],
   "metadata": {
    "collapsed": false
   },
   "id": "418b768db7c51d9b"
  },
  {
   "cell_type": "code",
   "execution_count": null,
   "outputs": [],
   "source": [
    "inds = np.where(\n",
    "    (points_coord[:, 0] < img_width) & (points_coord[:, 0] >= 0) &\n",
    "    (points_coord[:, 1] < img_height) & (points_coord[:, 1] >= 0) &\n",
    "    (points_coord[:, 2] > 0)\n",
    ")[0]"
   ],
   "metadata": {
    "collapsed": false
   },
   "id": "b9ecedf6f452c592"
  },
  {
   "cell_type": "code",
   "execution_count": 25,
   "outputs": [
    {
     "data": {
      "text/plain": "277369"
     },
     "execution_count": 25,
     "metadata": {},
     "output_type": "execute_result"
    }
   ],
   "source": [
    "import numpy as np\n",
    "len(np.asarray(pcds[0].points))"
   ],
   "metadata": {
    "collapsed": false,
    "ExecuteTime": {
     "end_time": "2023-10-21T14:38:32.921548Z",
     "start_time": "2023-10-21T14:38:32.910775Z"
    }
   },
   "id": "885ae9fdbcdee1d3"
  },
  {
   "cell_type": "code",
   "execution_count": 12,
   "outputs": [
    {
     "name": "stdout",
     "output_type": "stream",
     "text": [
      "[53. 45. 53.]\n",
      "53.0\n",
      "832606\n",
      "PointCloud with 277369 points.\n",
      "277369\n"
     ]
    }
   ],
   "source": [
    "import utils.pcd_utils\n",
    "pcd = utils.pcd_utils.visualize_from_one_hot_encoding(s, enc, pcds, 20, 20)"
   ],
   "metadata": {
    "collapsed": false,
    "ExecuteTime": {
     "end_time": "2023-10-20T09:38:57.969076Z",
     "start_time": "2023-10-20T09:38:56.840803Z"
    }
   },
   "id": "5be0dafeb44781ca"
  },
  {
   "cell_type": "code",
   "execution_count": 12,
   "outputs": [
    {
     "name": "stdout",
     "output_type": "stream",
     "text": [
      "\u001B[1;33m[Open3D WARNING] GLFW Error: Cocoa: Failed to find service port for display\u001B[0;m\n"
     ]
    }
   ],
   "source": [
    "import open3d as o3d\n",
    "\n",
    "o3d.visualization.draw_geometries([pcd])"
   ],
   "metadata": {
    "collapsed": false,
    "ExecuteTime": {
     "end_time": "2023-10-20T09:38:14.125762Z",
     "start_time": "2023-10-20T09:37:58.362904Z"
    }
   },
   "id": "4a001fc7f85ef612"
  },
  {
   "cell_type": "code",
   "execution_count": 15,
   "outputs": [
    {
     "name": "stdout",
     "output_type": "stream",
     "text": [
      "20 : [15.  0.  0.]\n",
      "21 : [15. 17.  0.]\n",
      "22 : [15. 17. 15.]\n",
      "23 : [15. 17. 15.]\n",
      "24 : [15. 17. 15.]\n",
      "25 : [15. 17. 15.]\n",
      "26 : [15. 17. 15.]\n",
      "27 : [15. 17. 15.]\n",
      "28 : [ 0.  0. 15.]\n",
      "29 : [0. 0. 0.]\n",
      "30 : [0. 0. 0.]\n",
      "31 : [0. 0. 0.]\n",
      "32 : [53. 45.  0.]\n",
      "33 : [53. 45.  0.]\n",
      "34 : [53. 45. 53.]\n",
      "35 : [53. 45. 53.]\n",
      "36 : [53. 45. 53.]\n",
      "37 : [53. 45. 53.]\n",
      "38 : [53. 45. 53.]\n",
      "39 : [53. 45. 53.]\n",
      "40 : [53. 45. 53.]\n",
      "41 : [53. 45. 53.]\n",
      "42 : [53. 45. 53.]\n",
      "43 : [53. 45. 53.]\n",
      "44 : [53. 45. 53.]\n",
      "45 : [ 7.  4. 53.]\n"
     ]
    }
   ],
   "source": [
    "i = enc.inverse_transform(s)\n",
    "\n",
    "start = 20\n",
    "end = 46\n",
    "for point in range(start, end) :\n",
    "    print(\"{} : {}\".format(point, i[point]))"
   ],
   "metadata": {
    "collapsed": false,
    "ExecuteTime": {
     "end_time": "2023-10-20T09:49:38.479020Z",
     "start_time": "2023-10-20T09:49:37.493493Z"
    }
   },
   "id": "ae804c460000934d"
  },
  {
   "cell_type": "code",
   "execution_count": 33,
   "outputs": [
    {
     "data": {
      "text/plain": "92411"
     },
     "execution_count": 33,
     "metadata": {},
     "output_type": "execute_result"
    }
   ],
   "source": [
    "len(sresss)"
   ],
   "metadata": {
    "collapsed": false,
    "ExecuteTime": {
     "end_time": "2023-10-21T15:23:16.845128Z",
     "start_time": "2023-10-21T15:23:16.826067Z"
    }
   },
   "id": "19fa9789528a0ab7"
  },
  {
   "cell_type": "code",
   "execution_count": 28,
   "outputs": [],
   "source": [
    "from sklearn.metrics.pairwise import pairwise_distances\n",
    "dist555ready = pairwise_distances(sresss)"
   ],
   "metadata": {
    "collapsed": false,
    "ExecuteTime": {
     "end_time": "2023-10-21T18:46:21.488135Z",
     "start_time": "2023-10-21T18:39:49.605725Z"
    }
   },
   "id": "261ef9638dc2b132"
  },
  {
   "cell_type": "code",
   "execution_count": 29,
   "outputs": [
    {
     "data": {
      "text/plain": "(92411, 92411)"
     },
     "execution_count": 29,
     "metadata": {},
     "output_type": "execute_result"
    }
   ],
   "source": [
    "dist555ready.shape"
   ],
   "metadata": {
    "collapsed": false,
    "ExecuteTime": {
     "end_time": "2023-10-21T18:46:49.699075Z",
     "start_time": "2023-10-21T18:46:49.648119Z"
    }
   },
   "id": "f2a7917a653616c3"
  },
  {
   "cell_type": "code",
   "execution_count": 21,
   "outputs": [
    {
     "data": {
      "text/plain": "2.449489742783178"
     },
     "execution_count": 21,
     "metadata": {},
     "output_type": "execute_result"
    }
   ],
   "source": [
    "dist555ready[26, 37]"
   ],
   "metadata": {
    "collapsed": false,
    "ExecuteTime": {
     "end_time": "2023-10-21T16:56:34.008827Z",
     "start_time": "2023-10-21T16:56:33.968590Z"
    }
   },
   "id": "5e609cfc38befd21"
  },
  {
   "cell_type": "code",
   "execution_count": 27,
   "outputs": [
    {
     "data": {
      "text/plain": "(450, 450)"
     },
     "execution_count": 27,
     "metadata": {},
     "output_type": "execute_result"
    }
   ],
   "source": [
    "dist555.shape"
   ],
   "metadata": {
    "collapsed": false,
    "ExecuteTime": {
     "end_time": "2023-10-20T09:46:48.566221Z",
     "start_time": "2023-10-20T09:46:48.552465Z"
    }
   },
   "id": "4e39010b6739ce12"
  },
  {
   "cell_type": "code",
   "execution_count": 11,
   "outputs": [],
   "source": [
    "dist = np.exp(dist555)"
   ],
   "metadata": {
    "collapsed": false,
    "ExecuteTime": {
     "end_time": "2023-10-20T09:53:15.926651Z",
     "start_time": "2023-10-20T09:53:15.913054Z"
    }
   },
   "id": "d4a1fe010e37b4b8"
  },
  {
   "cell_type": "code",
   "execution_count": 14,
   "outputs": [
    {
     "data": {
      "text/plain": "array([[0.        , 0.        , 0.        , ..., 1.41421356, 1.41421356,\n        1.41421356],\n       [0.        , 0.        , 0.        , ..., 1.41421356, 1.41421356,\n        1.41421356],\n       [0.        , 0.        , 0.        , ..., 1.41421356, 1.41421356,\n        1.41421356],\n       ...,\n       [1.41421356, 1.41421356, 1.41421356, ..., 0.        , 0.        ,\n        0.        ],\n       [1.41421356, 1.41421356, 1.41421356, ..., 0.        , 0.        ,\n        0.        ],\n       [1.41421356, 1.41421356, 1.41421356, ..., 0.        , 0.        ,\n        0.        ]])"
     },
     "execution_count": 14,
     "metadata": {},
     "output_type": "execute_result"
    }
   ],
   "source": [
    "dist555"
   ],
   "metadata": {
    "collapsed": false,
    "ExecuteTime": {
     "end_time": "2023-10-20T09:54:07.925535Z",
     "start_time": "2023-10-20T09:54:07.913773Z"
    }
   },
   "id": "1ebb87a0d91d53e8"
  },
  {
   "cell_type": "code",
   "execution_count": 13,
   "outputs": [
    {
     "data": {
      "text/plain": "array([[1.        , 1.        , 1.        , ..., 4.11325038, 4.11325038,\n        4.11325038],\n       [1.        , 1.        , 1.        , ..., 4.11325038, 4.11325038,\n        4.11325038],\n       [1.        , 1.        , 1.        , ..., 4.11325038, 4.11325038,\n        4.11325038],\n       ...,\n       [4.11325038, 4.11325038, 4.11325038, ..., 1.        , 1.        ,\n        1.        ],\n       [4.11325038, 4.11325038, 4.11325038, ..., 1.        , 1.        ,\n        1.        ],\n       [4.11325038, 4.11325038, 4.11325038, ..., 1.        , 1.        ,\n        1.        ]])"
     },
     "execution_count": 13,
     "metadata": {},
     "output_type": "execute_result"
    }
   ],
   "source": [
    "dist"
   ],
   "metadata": {
    "collapsed": false,
    "ExecuteTime": {
     "end_time": "2023-10-20T09:53:43.056166Z",
     "start_time": "2023-10-20T09:53:43.044721Z"
    }
   },
   "id": "5d8d48dd4382578d"
  },
  {
   "cell_type": "code",
   "execution_count": 26,
   "outputs": [
    {
     "data": {
      "text/plain": "(92411, 92411)"
     },
     "execution_count": 26,
     "metadata": {},
     "output_type": "execute_result"
    }
   ],
   "source": [
    "dist555ready.shape"
   ],
   "metadata": {
    "collapsed": false,
    "ExecuteTime": {
     "end_time": "2023-10-21T18:34:17.176255Z",
     "start_time": "2023-10-21T18:34:17.160725Z"
    }
   },
   "id": "bb3e9cc95781ce28"
  },
  {
   "cell_type": "code",
   "execution_count": 1,
   "outputs": [
    {
     "ename": "NameError",
     "evalue": "name 'pcd_baby' is not defined",
     "output_type": "error",
     "traceback": [
      "\u001B[0;31m---------------------------------------------------------------------------\u001B[0m",
      "\u001B[0;31mNameError\u001B[0m                                 Traceback (most recent call last)",
      "Cell \u001B[0;32mIn[1], line 1\u001B[0m\n\u001B[0;32m----> 1\u001B[0m \u001B[38;5;28mlen\u001B[39m(\u001B[43mpcd_baby\u001B[49m\u001B[38;5;241m.\u001B[39mpoints)\n",
      "\u001B[0;31mNameError\u001B[0m: name 'pcd_baby' is not defined"
     ]
    }
   ],
   "source": [
    "len(pcd_baby.points)"
   ],
   "metadata": {
    "collapsed": false,
    "ExecuteTime": {
     "end_time": "2023-10-21T18:38:36.487682Z",
     "start_time": "2023-10-21T18:38:36.322241Z"
    }
   },
   "id": "2a966b73d9a06b39"
  },
  {
   "cell_type": "code",
   "execution_count": 30,
   "outputs": [
    {
     "data": {
      "text/plain": "92411"
     },
     "execution_count": 30,
     "metadata": {},
     "output_type": "execute_result"
    }
   ],
   "source": [
    "dist555ready.shape[0]"
   ],
   "metadata": {
    "collapsed": false,
    "ExecuteTime": {
     "end_time": "2023-10-21T18:48:27.711480Z",
     "start_time": "2023-10-21T18:48:27.701898Z"
    }
   },
   "id": "e8de2b265ce8ee13"
  },
  {
   "cell_type": "code",
   "execution_count": 31,
   "outputs": [],
   "source": [
    "from scipy import sparse\n",
    "t = sparse.identity(dist555ready.shape[0])"
   ],
   "metadata": {
    "collapsed": false,
    "ExecuteTime": {
     "end_time": "2023-10-21T18:48:31.335596Z",
     "start_time": "2023-10-21T18:48:31.323007Z"
    }
   },
   "id": "a05e1275c34d42b9"
  },
  {
   "cell_type": "code",
   "execution_count": null,
   "outputs": [],
   "source": [
    "import numpy as np\n",
    "# labels = np.arange(450)\n",
    "# print(labels)\n",
    "\n",
    "from awesome_normalized_cut import normalized_cut\n",
    "\n",
    "u = normalized_cut(dist555ready, pcd_baby.points, 0.0000001)"
   ],
   "metadata": {
    "collapsed": false
   },
   "id": "ed334b2e61ba452"
  },
  {
   "cell_type": "code",
   "execution_count": 1,
   "outputs": [
    {
     "ename": "NameError",
     "evalue": "name 'u' is not defined",
     "output_type": "error",
     "traceback": [
      "\u001B[0;31m---------------------------------------------------------------------------\u001B[0m",
      "\u001B[0;31mNameError\u001B[0m                                 Traceback (most recent call last)",
      "Cell \u001B[0;32mIn[1], line 1\u001B[0m\n\u001B[0;32m----> 1\u001B[0m \u001B[43mu\u001B[49m[\u001B[38;5;241m0\u001B[39m]\n",
      "\u001B[0;31mNameError\u001B[0m: name 'u' is not defined"
     ]
    }
   ],
   "source": [
    "u[0]"
   ],
   "metadata": {
    "collapsed": false,
    "ExecuteTime": {
     "end_time": "2023-10-22T16:57:45.157004Z",
     "start_time": "2023-10-22T16:57:44.979183Z"
    }
   },
   "id": "a0351a3c0b53680d"
  },
  {
   "cell_type": "code",
   "execution_count": 12,
   "outputs": [],
   "source": [
    "# 1) выбросить ненужные точки. создать новое облако и мапу старое - новое\n",
    "# 2) voxel_down_sample применить к маленькому облаку\n",
    "# применить к нему граф кат, раскрасить по кластерам ИСХОДНОЕ маленькое облако с новыми инстансами\n",
    "# 3) kd деревья почитать чтобы найти соседей"
   ],
   "metadata": {
    "collapsed": false,
    "ExecuteTime": {
     "end_time": "2023-10-20T10:03:23.748291Z",
     "start_time": "2023-10-20T10:03:23.739265Z"
    }
   },
   "id": "e4234db97aaa7c2f"
  },
  {
   "cell_type": "code",
   "execution_count": 13,
   "outputs": [
    {
     "data": {
      "text/plain": "[array([  0,   1,   2,   3,   4,   5,   6,   7,   8,   9,  10,  11,  12,\n         13,  14,  15,  16,  17,  18,  19,  20,  21,  22,  23,  24,  25,\n         26,  28,  29,  30,  31,  32,  33,  34,  35,  36,  37,  38,  39,\n         40,  41,  42,  43,  44,  45,  46,  47,  48,  49,  50,  51,  52,\n         53,  54,  55,  56,  57,  58,  59,  60,  61,  62,  63,  64,  65,\n         66,  67,  68,  69,  70,  71,  72,  73,  74,  75,  76,  77,  78,\n         79,  80,  81,  82,  83,  84,  85,  86,  87,  88,  89,  90,  91,\n         92,  93,  94,  95,  96,  97,  98,  99, 100, 101, 102, 103, 104,\n        105, 106, 107, 108, 109, 110, 111, 112, 113, 114, 115, 116, 117,\n        118, 119, 120, 121, 122, 123, 124, 125, 126, 127, 128, 129, 130,\n        131, 132, 133, 134, 135, 136, 137, 138, 139, 140, 141, 142, 143,\n        144, 145, 146, 147, 148, 149, 150, 151, 152, 153, 154, 155, 156,\n        157, 158, 159, 160, 161, 162, 163, 164, 165, 166, 167, 168, 169,\n        170, 171, 172, 173, 174, 175, 176, 177, 178, 179, 180, 181, 182,\n        183, 184, 185, 186, 187, 188, 189, 190, 191, 192, 193, 194, 195,\n        196, 197, 198, 199, 200, 201, 202, 203, 204, 205, 206, 207, 208,\n        209, 210, 211, 212, 213, 214, 215, 216, 217, 218, 219, 220, 221,\n        222, 223, 224, 225, 226, 227, 228, 229, 230, 231, 232, 233, 234,\n        235, 236, 237, 238, 239, 240, 241, 242, 243, 244, 245, 246, 247,\n        248, 249, 250, 251, 252, 253, 254, 255, 256, 257, 258, 259, 260,\n        261, 262, 263, 264, 265, 266, 267, 268, 269, 270, 271, 272, 273,\n        274, 275, 276, 277, 278, 279, 280, 281, 282, 283, 284, 285, 286,\n        287, 288, 289, 290, 291, 292, 293, 294, 295, 296, 297, 298, 299,\n        300, 301, 302, 303, 304, 305, 306, 307, 308, 309, 310, 311, 312,\n        313, 314, 315, 316, 317, 318, 319, 320, 321, 322, 323, 324, 325,\n        326, 327, 328, 329, 330, 331, 332, 333, 334, 335, 336, 337, 338,\n        339, 340, 341, 342, 343, 344, 345, 346, 347, 348, 349, 350, 351,\n        352, 353, 354, 355, 356, 357, 358, 359, 360, 361, 362, 363, 364,\n        365, 366, 367, 368, 369, 370, 371, 372, 373, 374, 375, 376, 377,\n        378, 379, 380, 381, 382, 383, 384, 385, 386, 387, 388, 389, 390,\n        391, 392, 393, 394, 395, 396, 397, 398, 399, 400, 401, 402, 403,\n        404, 405, 406, 407, 408, 409, 410, 411, 412, 413, 414, 415, 416,\n        417, 418, 419, 420, 421, 422, 423, 424, 425, 426, 427, 428, 429,\n        430, 431, 432, 433, 434, 435, 436, 437, 438, 439, 440, 441, 442,\n        443, 444, 445, 446, 447, 448, 449]),\n array([27])]"
     },
     "execution_count": 13,
     "metadata": {},
     "output_type": "execute_result"
    }
   ],
   "source": [
    "u"
   ],
   "metadata": {
    "collapsed": false,
    "ExecuteTime": {
     "end_time": "2023-10-20T09:48:44.477454Z",
     "start_time": "2023-10-20T09:48:44.466771Z"
    }
   },
   "id": "25455f06d3499b50"
  },
  {
   "cell_type": "code",
   "execution_count": null,
   "outputs": [],
   "source": [],
   "metadata": {
    "collapsed": false
   },
   "id": "8181fd2ac233064c"
  },
  {
   "cell_type": "code",
   "execution_count": null,
   "outputs": [],
   "source": [],
   "metadata": {
    "collapsed": false
   },
   "id": "d96a2631c536f612"
  },
  {
   "cell_type": "code",
   "execution_count": null,
   "outputs": [],
   "source": [
    "import scipy.spatial\n",
    "res = scipy.spatial.distance.cdist(s, s, 'euclidean')"
   ],
   "metadata": {
    "collapsed": false,
    "ExecuteTime": {
     "start_time": "2023-10-19T18:06:42.597562Z"
    }
   },
   "id": "652da42c9128ad27"
  },
  {
   "cell_type": "code",
   "execution_count": 1,
   "outputs": [
    {
     "ename": "NameError",
     "evalue": "name 'res' is not defined",
     "output_type": "error",
     "traceback": [
      "\u001B[0;31m---------------------------------------------------------------------------\u001B[0m",
      "\u001B[0;31mNameError\u001B[0m                                 Traceback (most recent call last)",
      "Cell \u001B[0;32mIn[1], line 1\u001B[0m\n\u001B[0;32m----> 1\u001B[0m \u001B[43mres\u001B[49m\n",
      "\u001B[0;31mNameError\u001B[0m: name 'res' is not defined"
     ]
    }
   ],
   "source": [
    "res"
   ],
   "metadata": {
    "collapsed": false,
    "ExecuteTime": {
     "end_time": "2023-10-19T18:26:19.171401Z",
     "start_time": "2023-10-19T18:26:18.821955Z"
    }
   },
   "id": "c367a6b6f0ce2311"
  },
  {
   "cell_type": "code",
   "execution_count": null,
   "outputs": [],
   "source": [
    "# найти функцию которая на разреженных матрицах считает расстояния\n",
    "# на каком-то этапе надо выкинуть точки которые не попадают ни в один снимок"
   ],
   "metadata": {
    "collapsed": false
   },
   "id": "eec6aa91f68da4fc"
  }
 ],
 "metadata": {
  "kernelspec": {
   "display_name": "Python 3 (ipykernel)",
   "language": "python",
   "name": "python3"
  },
  "language_info": {
   "codemirror_mode": {
    "name": "ipython",
    "version": 3
   },
   "file_extension": ".py",
   "mimetype": "text/x-python",
   "name": "python",
   "nbconvert_exporter": "python",
   "pygments_lexer": "ipython3",
   "version": "3.9.6"
  }
 },
 "nbformat": 4,
 "nbformat_minor": 5
}
