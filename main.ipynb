{
 "cells": [
  {
   "cell_type": "code",
   "execution_count": null,
   "metadata": {},
   "outputs": [],
   "source": [
    "from pcd_dataset.kitti_dataset import KittiDataset\n",
    "\n",
    "dataset_path = 'dataset_baby/'\n",
    "sequence = '00'\n",
    "image_instances_path = 'pipeline_baby/vfm-labels/sam/00/'\n",
    "kitti = KittiDataset(dataset_path, sequence, image_instances_path)"
   ]
  },
  {
   "cell_type": "code",
   "execution_count": null,
   "metadata": {},
   "outputs": [],
   "source": [
    "start_index = 20\n",
    "end_index = 23\n",
    "cam_name = 'cam2'"
   ]
  },
  {
   "cell_type": "code",
   "execution_count": null,
   "metadata": {},
   "outputs": [],
   "source": [
    "from services.label_service import get_map_not_zero_in_sphere\n",
    "\n",
    "map, points2instances = get_map_not_zero_in_sphere(kitti, cam_name, start_index, end_index, 8, True)"
   ]
  },
  {
   "cell_type": "code",
   "execution_count": null,
   "metadata": {},
   "outputs": [],
   "source": [
    "import numpy as np\n",
    "\n",
    "from scipy.spatial.distance import cdist\n",
    "\n",
    "from utils.distances_utils import sam_label_distance\n",
    "\n",
    "points = np.asarray(map.points)\n",
    "spatial_distance = cdist(points, points)\n",
    "dist, masks = sam_label_distance(points2instances, spatial_distance, 2, 10)"
   ]
  },
  {
   "cell_type": "code",
   "execution_count": null,
   "metadata": {},
   "outputs": [],
   "source": [
    "from services.normalized_cut_service import normalized_cut\n",
    "\n",
    "T = 0.3\n",
    "clusters = normalized_cut(dist, np.asarray(points), T)"
   ]
  },
  {
   "cell_type": "code",
   "execution_count": null,
   "metadata": {},
   "outputs": [],
   "source": [
    "len(clusters)"
   ]
  },
  {
   "cell_type": "code",
   "execution_count": null,
   "metadata": {},
   "outputs": [],
   "source": [
    "import open3d as o3d\n",
    "\n",
    "from utils.pcd_utils import color_pcd_by_clusters\n",
    "\n",
    "pcd_clustered = color_pcd_by_clusters(map, clusters)\n",
    "o3d.visualization.draw_geometries([pcd_clustered])"
   ]
  }
 ],
 "metadata": {
  "kernelspec": {
   "display_name": "Python 3",
   "language": "python",
   "name": "python3"
  },
  "language_info": {
   "codemirror_mode": {
    "name": "ipython",
    "version": 3
   },
   "file_extension": ".py",
   "mimetype": "text/x-python",
   "name": "python",
   "nbconvert_exporter": "python",
   "pygments_lexer": "ipython3",
   "version": "3.9.6"
  },
  "orig_nbformat": 4
 },
 "nbformat": 4,
 "nbformat_minor": 2
}
