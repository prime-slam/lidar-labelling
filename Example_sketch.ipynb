{
 "cells": [
  {
   "cell_type": "code",
   "execution_count": 1,
   "outputs": [],
   "source": [
    "from pathlib import Path\n",
    "\n",
    "from pcd_dataset.kitti_dataset import KittiDataset\n",
    "\n",
    "dataset_path = 'dataset/'\n",
    "sequence = '00'\n",
    "sam_labels_path = Path.cwd().joinpath('pipeline', 'vfm-labels', 'sam', sequence)\n",
    "\n",
    "kitti = KittiDataset(dataset_path, sequence, sam_labels_path)"
   ],
   "metadata": {
    "collapsed": false,
    "ExecuteTime": {
     "end_time": "2023-09-14T09:54:37.821092Z",
     "start_time": "2023-09-14T09:54:36.586239Z"
    }
   },
   "id": "e847962e99830a2f"
  },
  {
   "cell_type": "code",
   "execution_count": 2,
   "outputs": [
    {
     "name": "stderr",
     "output_type": "stream",
     "text": [
      "INFO:simple_mapping.SimpleMapping:Image 0 processed\n",
      "INFO:simple_mapping.SimpleMapping:Image 1 processed\n",
      "INFO:simple_mapping.SimpleMapping:Image 2 processed\n"
     ]
    }
   ],
   "source": [
    "from mapping.simple_mapping import SimpleMapping\n",
    "\n",
    "sm = SimpleMapping(kitti)\n",
    "labeled_pcds = sm.get_combined_labeled_point_clouds('cam2', 0, 3)"
   ],
   "metadata": {
    "collapsed": false,
    "ExecuteTime": {
     "end_time": "2023-09-14T09:54:43.553029Z",
     "start_time": "2023-09-14T09:54:38.542323Z"
    }
   },
   "id": "2c2963d027f62259"
  },
  {
   "cell_type": "code",
   "execution_count": 3,
   "outputs": [
    {
     "data": {
      "text/plain": "3"
     },
     "execution_count": 3,
     "metadata": {},
     "output_type": "execute_result"
    }
   ],
   "source": [
    "len(labeled_pcds)"
   ],
   "metadata": {
    "collapsed": false,
    "ExecuteTime": {
     "end_time": "2023-09-14T09:54:44.291622Z",
     "start_time": "2023-09-14T09:54:44.285685Z"
    }
   },
   "id": "2fa2ce465579ac16"
  },
  {
   "cell_type": "code",
   "execution_count": 4,
   "outputs": [
    {
     "data": {
      "text/plain": "array([ 0., 38.,  0., ...,  0.,  0.,  0.])"
     },
     "execution_count": 4,
     "metadata": {},
     "output_type": "execute_result"
    }
   ],
   "source": [
    "labeled_pcds[0]"
   ],
   "metadata": {
    "collapsed": false,
    "ExecuteTime": {
     "end_time": "2023-09-14T09:54:45.076498Z",
     "start_time": "2023-09-14T09:54:45.071538Z"
    }
   },
   "id": "c4c96aa45468fe7d"
  },
  {
   "cell_type": "code",
   "execution_count": 5,
   "outputs": [
    {
     "data": {
      "text/plain": "0.0"
     },
     "execution_count": 5,
     "metadata": {},
     "output_type": "execute_result"
    }
   ],
   "source": [
    "labeled_pcds[0][100]"
   ],
   "metadata": {
    "collapsed": false,
    "ExecuteTime": {
     "end_time": "2023-09-14T09:54:45.899261Z",
     "start_time": "2023-09-14T09:54:45.892322Z"
    }
   },
   "id": "dafd18938ef81e6d"
  },
  {
   "cell_type": "code",
   "execution_count": 6,
   "outputs": [],
   "source": [
    "import numpy as np\n",
    "import open3d as o3d\n",
    "\n",
    "def color_points_by_labels(pcd, labels):\n",
    "    # pcd = o3d.geometry.PointCloud()\n",
    "    # pcd.points = o3d.utility.Vector3dVector(points)\n",
    "    \n",
    "    colors = []\n",
    "\n",
    "    for i in range(labels.shape[0]):\n",
    "        colors.append(random_colors[int(labels[i]) + 1])\n",
    "\n",
    "    pcd.colors = o3d.utility.Vector3dVector(np.vstack(colors) / 255)\n",
    "    \n",
    "    print(len(colors))\n",
    "\n",
    "    return pcd"
   ],
   "metadata": {
    "collapsed": false,
    "ExecuteTime": {
     "end_time": "2023-09-14T09:54:46.636119Z",
     "start_time": "2023-09-14T09:54:46.630589Z"
    }
   },
   "id": "2e6c9d1ec4be77d2"
  },
  {
   "cell_type": "code",
   "execution_count": 7,
   "outputs": [],
   "source": [
    "import random\n",
    "\n",
    "def generate_random_colors(N):\n",
    "    colors = []\n",
    "    for _ in range(N):\n",
    "        colors.append([random.randint(0, 255), random.randint(0, 255), random.randint(0, 255)])\n",
    "\n",
    "    return colors\n",
    "\n",
    "random_colors = generate_random_colors(500)"
   ],
   "metadata": {
    "collapsed": false,
    "ExecuteTime": {
     "end_time": "2023-09-14T09:54:47.522342Z",
     "start_time": "2023-09-14T09:54:47.518613Z"
    }
   },
   "id": "5e286de15f1cd15a"
  },
  {
   "cell_type": "code",
   "execution_count": 8,
   "outputs": [
    {
     "name": "stdout",
     "output_type": "stream",
     "text": [
      "265880\n"
     ]
    },
    {
     "data": {
      "text/plain": "True"
     },
     "execution_count": 8,
     "metadata": {},
     "output_type": "execute_result"
    }
   ],
   "source": [
    "from utils.pcd_utils import get_point_map\n",
    "from utils.pcd_utils import remove_hidden_points\n",
    "import copy\n",
    "\n",
    "index = 0\n",
    "# pointsg = kitti.get_point_cloud(index)\n",
    "pointsg = get_point_map('cam2', kitti, 0, 3)\n",
    "\n",
    "pcds_prepared = kitti.prepare_points_before_mapping(\n",
    "                'cam2',\n",
    "                copy.deepcopy(pointsg),\n",
    "                0,\n",
    "                0)\n",
    "\n",
    "pcd_hidden_removal = remove_hidden_points(pcds_prepared)\n",
    "\n",
    "pcd = color_points_by_labels(pcd_hidden_removal, labeled_pcds[index])\n",
    "o3d.io.write_point_cloud('cloud_image222reeeeee2_mask.pcd', pcd)\n",
    "# o3d.visualization.draw_geometries([pcd])"
   ],
   "metadata": {
    "collapsed": false,
    "ExecuteTime": {
     "end_time": "2023-09-14T09:54:50.161414Z",
     "start_time": "2023-09-14T09:54:48.385716Z"
    }
   },
   "id": "bf1350e8e4f7deed"
  },
  {
   "cell_type": "code",
   "execution_count": null,
   "outputs": [],
   "source": [],
   "metadata": {
    "collapsed": false
   },
   "id": "990c4c68e1a7f1c9"
  }
 ],
 "metadata": {
  "kernelspec": {
   "display_name": "Python 3 (ipykernel)",
   "language": "python",
   "name": "python3"
  },
  "language_info": {
   "codemirror_mode": {
    "name": "ipython",
    "version": 3
   },
   "file_extension": ".py",
   "mimetype": "text/x-python",
   "name": "python",
   "nbconvert_exporter": "python",
   "pygments_lexer": "ipython3",
   "version": "3.9.6"
  }
 },
 "nbformat": 4,
 "nbformat_minor": 5
}
